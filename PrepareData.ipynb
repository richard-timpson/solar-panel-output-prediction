{
 "cells": [
  {
   "cell_type": "code",
   "execution_count": 1,
   "metadata": {},
   "outputs": [],
   "source": [
    "import os"
   ]
  },
  {
   "cell_type": "code",
   "execution_count": 2,
   "metadata": {},
   "outputs": [
    {
     "name": "stdout",
     "output_type": "stream",
     "text": [
      "{'Alan Knudson House': '103941', 'Cherry Orchards Lot#33': '1232644', 'Crop Circles Carport': '787197', 'Dave Meyers': '238320', 'Francisco Garcia 1': '349060', 'Gabriel Pineiro': '477834', 'Garkane Kanab Pavilion': '641826', 'Huntington Beach': '896164', 'Lion House': '717193', 'Michael Cawley': '627759', 'Quail Creek Ranch': '569932', 'Ronald L. McClellan Sr.': '466851', 'Sam Zitting': '256177', 'SunGrow Wilkins and Juniper': '505347'}\n"
     ]
    }
   ],
   "source": [
    "import csv\n",
    "sites = {}\n",
    "with open('site_information.csv', mode='r') as infile:\n",
    "    reader = csv.DictReader(infile)\n",
    "    for row in reader:\n",
    "        sites[row['name']] = row['id']\n",
    "#         site = Site(row['id'], row['name'], row['accountId'], row['DATA_PERIOD'])\n",
    "#         site.start = row['startDate']\n",
    "#         print(site.start)\n",
    "#         site.end = row['endDate']\n",
    "#         site.get_month_periods()\n",
    "#         sites.append(site)\n",
    "print(sites)"
   ]
  },
  {
   "cell_type": "markdown",
   "metadata": {},
   "source": [
    "Walk through the data directory and convert all names to id numbers"
   ]
  },
  {
   "cell_type": "code",
   "execution_count": 6,
   "metadata": {},
   "outputs": [
    {
     "name": "stdout",
     "output_type": "stream",
     "text": [
      "Quail Creek Ranch\n",
      "Alan Knudson House\n",
      "Dave Meyers\n",
      "Sam Zitting\n",
      "SunGrow Wilkins and Juniper\n",
      "Francisco Garcia 1\n",
      "Lion House\n",
      "Huntington Beach\n",
      "Cherry Orchards Lot#33\n",
      "Garkane Kanab Pavilion\n",
      "Crop Circles Carport\n",
      "Michael Cawley\n",
      "Ronald L. McClellan Sr.\n",
      "Gabriel Pineiro\n"
     ]
    }
   ],
   "source": [
    "for subdir, dirs, files in os.walk('school_data'):\n",
    "    for d in dirs:\n",
    "        print(d)\n",
    "        os.rename(f'school_data/{d}', sites[d])"
   ]
  },
  {
   "cell_type": "code",
   "execution_count": null,
   "metadata": {},
   "outputs": [],
   "source": []
  }
 ],
 "metadata": {
  "kernelspec": {
   "display_name": "Python 3",
   "language": "python",
   "name": "python3"
  },
  "language_info": {
   "codemirror_mode": {
    "name": "ipython",
    "version": 3
   },
   "file_extension": ".py",
   "mimetype": "text/x-python",
   "name": "python",
   "nbconvert_exporter": "python",
   "pygments_lexer": "ipython3",
   "version": "3.7.4"
  }
 },
 "nbformat": 4,
 "nbformat_minor": 2
}
