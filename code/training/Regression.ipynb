{
 "cells": [
  {
   "cell_type": "markdown",
   "metadata": {},
   "source": [
    "Going to create a brand new notebook for training. The previous notebook 'RegressionIrradiance.ipynb' used the train_test_split.py module to do all of the data manipulation. I don't like the way that the train_test_split.py module turned out so I want to redo the data manipulation and feature engineering. The hardest part is going to be performing cross validation. Hopefully I'll be able to keep most of the code in modules and just use this notebook to run them and test them. "
   ]
  },
  {
   "cell_type": "code",
   "execution_count": 8,
   "metadata": {},
   "outputs": [
    {
     "output_type": "stream",
     "name": "stdout",
     "text": "The autoreload extension is already loaded. To reload it, use:\n  %reload_ext autoreload\n"
    }
   ],
   "source": [
    "import pandas as pd\n",
    "\n",
    "import sys \n",
    "sys.path.insert(0, '../')\n",
    "\n",
    "from run_regression import run_regression_all, read_all_sites, run_regression\n",
    "%load_ext autoreload\n",
    "%autoreload 2\n"
   ]
  },
  {
   "cell_type": "code",
   "execution_count": 5,
   "metadata": {},
   "outputs": [
    {
     "output_type": "stream",
     "name": "stdout",
     "text": "Couldn't train for system 1232644, no irradiance data\n"
    },
    {
     "output_type": "display_data",
     "data": {
      "text/plain": "103941     382.035526\n787197     638.225623\n238320     177.629350\n349060     316.580334\n477834     175.756630\n641826    1205.555370\n896164     214.553897\n717193    2582.957745\n627759     966.293054\n569932     801.671293\n466851     321.503305\n256177    1181.610391\n505347    2846.665738\ndtype: float64"
     },
     "metadata": {}
    }
   ],
   "source": [
    "results_s = run_regression_all()\n",
    "display(results_s)"
   ]
  },
  {
   "cell_type": "code",
   "execution_count": 9,
   "metadata": {},
   "outputs": [
    {
     "output_type": "execute_result",
     "data": {
      "text/plain": "         irradiance_only     irr_time  weather_only  weather_time  \\\nsite_id                                                             \n103941        246.534541   225.476615    443.820703    333.608607   \n787197        458.741006   441.875406    676.095814    493.189830   \n238320        406.768778   400.295024    215.158797    194.184444   \n349060        195.153020   195.418662    366.227301    277.764976   \n477834        185.225738   182.273051    180.990243    165.603927   \n641826       1415.125092  1356.645292   1400.275253   1340.890427   \n896164        169.821445   173.107516    213.166462    209.297813   \n717193       2452.825849  2423.531521   2755.743480   2454.798066   \n627759        661.845473   562.320608   1158.978721    830.920466   \n569932       1144.587302  1107.587695    912.295012    824.118052   \n466851        391.530984   388.710669    387.033111    351.779515   \n256177       1250.532543  1007.646441   1464.897083   1117.650983   \n505347       2176.078319  1857.789721   3596.918498   2653.043743   \n\n         weather_irr          all        t_loo  t_integrated          new  \nsite_id                                                                    \n103941    230.734887   214.282454  1408.297236    962.852813   382.035526  \n787197    420.689423   414.346982  1139.275025   1051.837168   638.225623  \n238320    180.539331   179.062503  1216.435500   1046.116332   177.629350  \n349060    173.514858   172.418634  1063.147773    906.907098   316.580334  \n477834    146.007381   141.265141  1084.975457   1027.294537   175.756630  \n641826   1129.709809  1074.484228  1892.605357   1740.671072  1205.555370  \n896164    165.401586   166.997995   977.995193    936.944873   214.553897  \n717193   2235.588756  2228.444875  3167.109357   3074.459545  2582.957745  \n627759    604.447385   553.548312   987.753050    943.862437   966.293054  \n569932    742.778756   714.950626  1280.391308   1185.081394   801.671293  \n466851    325.688510   314.316423   803.562978    777.267431   321.503305  \n256177   1103.700017   967.449399  4347.582603   2328.248795  1181.610391  \n505347   2004.302758  1799.138929  6092.258390   5290.500365  2846.665738  ",
      "text/html": "<div>\n<style scoped>\n    .dataframe tbody tr th:only-of-type {\n        vertical-align: middle;\n    }\n\n    .dataframe tbody tr th {\n        vertical-align: top;\n    }\n\n    .dataframe thead th {\n        text-align: right;\n    }\n</style>\n<table border=\"1\" class=\"dataframe\">\n  <thead>\n    <tr style=\"text-align: right;\">\n      <th></th>\n      <th>irradiance_only</th>\n      <th>irr_time</th>\n      <th>weather_only</th>\n      <th>weather_time</th>\n      <th>weather_irr</th>\n      <th>all</th>\n      <th>t_loo</th>\n      <th>t_integrated</th>\n      <th>new</th>\n    </tr>\n    <tr>\n      <th>site_id</th>\n      <th></th>\n      <th></th>\n      <th></th>\n      <th></th>\n      <th></th>\n      <th></th>\n      <th></th>\n      <th></th>\n      <th></th>\n    </tr>\n  </thead>\n  <tbody>\n    <tr>\n      <th>103941</th>\n      <td>246.534541</td>\n      <td>225.476615</td>\n      <td>443.820703</td>\n      <td>333.608607</td>\n      <td>230.734887</td>\n      <td>214.282454</td>\n      <td>1408.297236</td>\n      <td>962.852813</td>\n      <td>382.035526</td>\n    </tr>\n    <tr>\n      <th>787197</th>\n      <td>458.741006</td>\n      <td>441.875406</td>\n      <td>676.095814</td>\n      <td>493.189830</td>\n      <td>420.689423</td>\n      <td>414.346982</td>\n      <td>1139.275025</td>\n      <td>1051.837168</td>\n      <td>638.225623</td>\n    </tr>\n    <tr>\n      <th>238320</th>\n      <td>406.768778</td>\n      <td>400.295024</td>\n      <td>215.158797</td>\n      <td>194.184444</td>\n      <td>180.539331</td>\n      <td>179.062503</td>\n      <td>1216.435500</td>\n      <td>1046.116332</td>\n      <td>177.629350</td>\n    </tr>\n    <tr>\n      <th>349060</th>\n      <td>195.153020</td>\n      <td>195.418662</td>\n      <td>366.227301</td>\n      <td>277.764976</td>\n      <td>173.514858</td>\n      <td>172.418634</td>\n      <td>1063.147773</td>\n      <td>906.907098</td>\n      <td>316.580334</td>\n    </tr>\n    <tr>\n      <th>477834</th>\n      <td>185.225738</td>\n      <td>182.273051</td>\n      <td>180.990243</td>\n      <td>165.603927</td>\n      <td>146.007381</td>\n      <td>141.265141</td>\n      <td>1084.975457</td>\n      <td>1027.294537</td>\n      <td>175.756630</td>\n    </tr>\n    <tr>\n      <th>641826</th>\n      <td>1415.125092</td>\n      <td>1356.645292</td>\n      <td>1400.275253</td>\n      <td>1340.890427</td>\n      <td>1129.709809</td>\n      <td>1074.484228</td>\n      <td>1892.605357</td>\n      <td>1740.671072</td>\n      <td>1205.555370</td>\n    </tr>\n    <tr>\n      <th>896164</th>\n      <td>169.821445</td>\n      <td>173.107516</td>\n      <td>213.166462</td>\n      <td>209.297813</td>\n      <td>165.401586</td>\n      <td>166.997995</td>\n      <td>977.995193</td>\n      <td>936.944873</td>\n      <td>214.553897</td>\n    </tr>\n    <tr>\n      <th>717193</th>\n      <td>2452.825849</td>\n      <td>2423.531521</td>\n      <td>2755.743480</td>\n      <td>2454.798066</td>\n      <td>2235.588756</td>\n      <td>2228.444875</td>\n      <td>3167.109357</td>\n      <td>3074.459545</td>\n      <td>2582.957745</td>\n    </tr>\n    <tr>\n      <th>627759</th>\n      <td>661.845473</td>\n      <td>562.320608</td>\n      <td>1158.978721</td>\n      <td>830.920466</td>\n      <td>604.447385</td>\n      <td>553.548312</td>\n      <td>987.753050</td>\n      <td>943.862437</td>\n      <td>966.293054</td>\n    </tr>\n    <tr>\n      <th>569932</th>\n      <td>1144.587302</td>\n      <td>1107.587695</td>\n      <td>912.295012</td>\n      <td>824.118052</td>\n      <td>742.778756</td>\n      <td>714.950626</td>\n      <td>1280.391308</td>\n      <td>1185.081394</td>\n      <td>801.671293</td>\n    </tr>\n    <tr>\n      <th>466851</th>\n      <td>391.530984</td>\n      <td>388.710669</td>\n      <td>387.033111</td>\n      <td>351.779515</td>\n      <td>325.688510</td>\n      <td>314.316423</td>\n      <td>803.562978</td>\n      <td>777.267431</td>\n      <td>321.503305</td>\n    </tr>\n    <tr>\n      <th>256177</th>\n      <td>1250.532543</td>\n      <td>1007.646441</td>\n      <td>1464.897083</td>\n      <td>1117.650983</td>\n      <td>1103.700017</td>\n      <td>967.449399</td>\n      <td>4347.582603</td>\n      <td>2328.248795</td>\n      <td>1181.610391</td>\n    </tr>\n    <tr>\n      <th>505347</th>\n      <td>2176.078319</td>\n      <td>1857.789721</td>\n      <td>3596.918498</td>\n      <td>2653.043743</td>\n      <td>2004.302758</td>\n      <td>1799.138929</td>\n      <td>6092.258390</td>\n      <td>5290.500365</td>\n      <td>2846.665738</td>\n    </tr>\n  </tbody>\n</table>\n</div>"
     },
     "metadata": {},
     "execution_count": 9
    }
   ],
   "source": [
    "results_df = pd.read_csv('./old/DataWranglingProjects/FinalProject/Irradiance_results.csv')\n",
    "results_df = results_df.set_index('site_id')\n",
    "results_df['new'] = results_s\n",
    "results_df"
   ]
  },
  {
   "cell_type": "code",
   "execution_count": null,
   "metadata": {},
   "outputs": [],
   "source": []
  }
 ],
 "metadata": {
  "language_info": {
   "codemirror_mode": {
    "name": "ipython",
    "version": 3
   },
   "file_extension": ".py",
   "mimetype": "text/x-python",
   "name": "python",
   "nbconvert_exporter": "python",
   "pygments_lexer": "ipython3",
   "version": "3.7.7-final"
  },
  "orig_nbformat": 2,
  "kernelspec": {
   "name": "python3",
   "display_name": "Python 3"
  }
 },
 "nbformat": 4,
 "nbformat_minor": 2
}