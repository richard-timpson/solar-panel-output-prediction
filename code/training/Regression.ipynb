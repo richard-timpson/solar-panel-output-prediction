{
 "cells": [
  {
   "cell_type": "markdown",
   "metadata": {},
   "source": [
    "Going to create a brand new notebook for training. The previous notebook 'RegressionIrradiance.ipynb' used the train_test_split.py module to do all of the data manipulation. I don't like the way that the train_test_split.py module turned out so I want to redo the data manipulation and feature engineering. The hardest part is going to be performing cross validation. Hopefully I'll be able to keep most of the code in modules and just use this notebook to run them and test them. "
   ]
  },
  {
   "cell_type": "code",
   "execution_count": 26,
   "metadata": {},
   "outputs": [
    {
     "output_type": "stream",
     "name": "stdout",
     "text": "The autoreload extension is already loaded. To reload it, use:\n  %reload_ext autoreload\n"
    }
   ],
   "source": [
    "import pandas as pd\n",
    "\n",
    "import sys \n",
    "sys.path.insert(0, '../')\n",
    "\n",
    "from data_manipulation.read_data import get_site_by_id\n",
    "from run_regression import run_regression_all, read_all_sites, run_regression, save_models, read_site_data\n",
    "%load_ext autoreload\n",
    "%autoreload 2\n"
   ]
  },
  {
   "cell_type": "code",
   "execution_count": 27,
   "metadata": {},
   "outputs": [
    {
     "output_type": "stream",
     "name": "stdout",
     "text": "Couldn't train for system 1232644, no irradiance data\n"
    },
    {
     "output_type": "display_data",
     "data": {
      "text/plain": "103941     375.162553\n787197     612.169889\n238320     183.147165\n349060     321.514550\n477834     180.105975\n641826    1158.027165\n896164     196.908387\n717193    2482.356098\n627759     980.718337\n569932     803.449211\n466851     304.203048\n256177    1203.705656\n505347    2921.006322\ndtype: float64"
     },
     "metadata": {}
    }
   ],
   "source": [
    "results_s, models = run_regression_all()\n",
    "display(results_s)"
   ]
  },
  {
   "cell_type": "code",
   "execution_count": 28,
   "metadata": {},
   "outputs": [
    {
     "output_type": "execute_result",
     "data": {
      "text/plain": "         irradiance_only     irr_time  weather_only  weather_time  \\\nsite_id                                                             \n103941        246.534541   225.476615    443.820703    333.608607   \n787197        458.741006   441.875406    676.095814    493.189830   \n238320        406.768778   400.295024    215.158797    194.184444   \n349060        195.153020   195.418662    366.227301    277.764976   \n477834        185.225738   182.273051    180.990243    165.603927   \n641826       1415.125092  1356.645292   1400.275253   1340.890427   \n896164        169.821445   173.107516    213.166462    209.297813   \n717193       2452.825849  2423.531521   2755.743480   2454.798066   \n627759        661.845473   562.320608   1158.978721    830.920466   \n569932       1144.587302  1107.587695    912.295012    824.118052   \n466851        391.530984   388.710669    387.033111    351.779515   \n256177       1250.532543  1007.646441   1464.897083   1117.650983   \n505347       2176.078319  1857.789721   3596.918498   2653.043743   \n\n         weather_irr          all        t_loo  t_integrated          new  \nsite_id                                                                    \n103941    230.734887   214.282454  1408.297236    962.852813   375.162553  \n787197    420.689423   414.346982  1139.275025   1051.837168   612.169889  \n238320    180.539331   179.062503  1216.435500   1046.116332   183.147165  \n349060    173.514858   172.418634  1063.147773    906.907098   321.514550  \n477834    146.007381   141.265141  1084.975457   1027.294537   180.105975  \n641826   1129.709809  1074.484228  1892.605357   1740.671072  1158.027165  \n896164    165.401586   166.997995   977.995193    936.944873   196.908387  \n717193   2235.588756  2228.444875  3167.109357   3074.459545  2482.356098  \n627759    604.447385   553.548312   987.753050    943.862437   980.718337  \n569932    742.778756   714.950626  1280.391308   1185.081394   803.449211  \n466851    325.688510   314.316423   803.562978    777.267431   304.203048  \n256177   1103.700017   967.449399  4347.582603   2328.248795  1203.705656  \n505347   2004.302758  1799.138929  6092.258390   5290.500365  2921.006322  ",
      "text/html": "<div>\n<style scoped>\n    .dataframe tbody tr th:only-of-type {\n        vertical-align: middle;\n    }\n\n    .dataframe tbody tr th {\n        vertical-align: top;\n    }\n\n    .dataframe thead th {\n        text-align: right;\n    }\n</style>\n<table border=\"1\" class=\"dataframe\">\n  <thead>\n    <tr style=\"text-align: right;\">\n      <th></th>\n      <th>irradiance_only</th>\n      <th>irr_time</th>\n      <th>weather_only</th>\n      <th>weather_time</th>\n      <th>weather_irr</th>\n      <th>all</th>\n      <th>t_loo</th>\n      <th>t_integrated</th>\n      <th>new</th>\n    </tr>\n    <tr>\n      <th>site_id</th>\n      <th></th>\n      <th></th>\n      <th></th>\n      <th></th>\n      <th></th>\n      <th></th>\n      <th></th>\n      <th></th>\n      <th></th>\n    </tr>\n  </thead>\n  <tbody>\n    <tr>\n      <th>103941</th>\n      <td>246.534541</td>\n      <td>225.476615</td>\n      <td>443.820703</td>\n      <td>333.608607</td>\n      <td>230.734887</td>\n      <td>214.282454</td>\n      <td>1408.297236</td>\n      <td>962.852813</td>\n      <td>375.162553</td>\n    </tr>\n    <tr>\n      <th>787197</th>\n      <td>458.741006</td>\n      <td>441.875406</td>\n      <td>676.095814</td>\n      <td>493.189830</td>\n      <td>420.689423</td>\n      <td>414.346982</td>\n      <td>1139.275025</td>\n      <td>1051.837168</td>\n      <td>612.169889</td>\n    </tr>\n    <tr>\n      <th>238320</th>\n      <td>406.768778</td>\n      <td>400.295024</td>\n      <td>215.158797</td>\n      <td>194.184444</td>\n      <td>180.539331</td>\n      <td>179.062503</td>\n      <td>1216.435500</td>\n      <td>1046.116332</td>\n      <td>183.147165</td>\n    </tr>\n    <tr>\n      <th>349060</th>\n      <td>195.153020</td>\n      <td>195.418662</td>\n      <td>366.227301</td>\n      <td>277.764976</td>\n      <td>173.514858</td>\n      <td>172.418634</td>\n      <td>1063.147773</td>\n      <td>906.907098</td>\n      <td>321.514550</td>\n    </tr>\n    <tr>\n      <th>477834</th>\n      <td>185.225738</td>\n      <td>182.273051</td>\n      <td>180.990243</td>\n      <td>165.603927</td>\n      <td>146.007381</td>\n      <td>141.265141</td>\n      <td>1084.975457</td>\n      <td>1027.294537</td>\n      <td>180.105975</td>\n    </tr>\n    <tr>\n      <th>641826</th>\n      <td>1415.125092</td>\n      <td>1356.645292</td>\n      <td>1400.275253</td>\n      <td>1340.890427</td>\n      <td>1129.709809</td>\n      <td>1074.484228</td>\n      <td>1892.605357</td>\n      <td>1740.671072</td>\n      <td>1158.027165</td>\n    </tr>\n    <tr>\n      <th>896164</th>\n      <td>169.821445</td>\n      <td>173.107516</td>\n      <td>213.166462</td>\n      <td>209.297813</td>\n      <td>165.401586</td>\n      <td>166.997995</td>\n      <td>977.995193</td>\n      <td>936.944873</td>\n      <td>196.908387</td>\n    </tr>\n    <tr>\n      <th>717193</th>\n      <td>2452.825849</td>\n      <td>2423.531521</td>\n      <td>2755.743480</td>\n      <td>2454.798066</td>\n      <td>2235.588756</td>\n      <td>2228.444875</td>\n      <td>3167.109357</td>\n      <td>3074.459545</td>\n      <td>2482.356098</td>\n    </tr>\n    <tr>\n      <th>627759</th>\n      <td>661.845473</td>\n      <td>562.320608</td>\n      <td>1158.978721</td>\n      <td>830.920466</td>\n      <td>604.447385</td>\n      <td>553.548312</td>\n      <td>987.753050</td>\n      <td>943.862437</td>\n      <td>980.718337</td>\n    </tr>\n    <tr>\n      <th>569932</th>\n      <td>1144.587302</td>\n      <td>1107.587695</td>\n      <td>912.295012</td>\n      <td>824.118052</td>\n      <td>742.778756</td>\n      <td>714.950626</td>\n      <td>1280.391308</td>\n      <td>1185.081394</td>\n      <td>803.449211</td>\n    </tr>\n    <tr>\n      <th>466851</th>\n      <td>391.530984</td>\n      <td>388.710669</td>\n      <td>387.033111</td>\n      <td>351.779515</td>\n      <td>325.688510</td>\n      <td>314.316423</td>\n      <td>803.562978</td>\n      <td>777.267431</td>\n      <td>304.203048</td>\n    </tr>\n    <tr>\n      <th>256177</th>\n      <td>1250.532543</td>\n      <td>1007.646441</td>\n      <td>1464.897083</td>\n      <td>1117.650983</td>\n      <td>1103.700017</td>\n      <td>967.449399</td>\n      <td>4347.582603</td>\n      <td>2328.248795</td>\n      <td>1203.705656</td>\n    </tr>\n    <tr>\n      <th>505347</th>\n      <td>2176.078319</td>\n      <td>1857.789721</td>\n      <td>3596.918498</td>\n      <td>2653.043743</td>\n      <td>2004.302758</td>\n      <td>1799.138929</td>\n      <td>6092.258390</td>\n      <td>5290.500365</td>\n      <td>2921.006322</td>\n    </tr>\n  </tbody>\n</table>\n</div>"
     },
     "metadata": {},
     "execution_count": 28
    }
   ],
   "source": [
    "results_df = pd.read_csv('./old/DataWranglingProjects/FinalProject/Irradiance_results.csv')\n",
    "results_df = results_df.set_index('site_id')\n",
    "results_df['new'] = results_s\n",
    "results_df"
   ]
  },
  {
   "cell_type": "code",
   "execution_count": 29,
   "metadata": {},
   "outputs": [],
   "source": [
    "save_models(models)"
   ]
  },
  {
   "cell_type": "code",
   "execution_count": 21,
   "metadata": {},
   "outputs": [
    {
     "output_type": "execute_result",
     "data": {
      "text/plain": "                             GHI    DHI    DNI  precipIntensity  \\\ndate                                                              \n2015-02-09 21:00:00+00:00    0.0    0.0    0.0           0.0000   \n2015-02-09 22:00:00+00:00  118.5   30.5  598.5           0.0000   \n2015-02-09 23:00:00+00:00  313.5   48.0  838.5           0.0000   \n2015-02-10 00:00:00+00:00  486.5   56.5  937.5           0.0000   \n2015-02-10 01:00:00+00:00  613.0   61.5  984.5           0.0000   \n...                          ...    ...    ...              ...   \n2018-12-31 20:00:00+00:00    0.0    0.0    0.0           0.0021   \n2018-12-31 21:00:00+00:00    0.0    0.0    0.0           0.0047   \n2018-12-31 22:00:00+00:00   63.5   25.0  385.0           0.0027   \n2018-12-31 23:00:00+00:00  201.5   59.5  615.5           0.0021   \n2019-01-01 00:00:00+00:00  263.5  107.0  413.5           0.0025   \n\n                           precipProbability  temperature  \\\ndate                                                        \n2015-02-09 21:00:00+00:00               0.00        65.76   \n2015-02-09 22:00:00+00:00               0.00        66.65   \n2015-02-09 23:00:00+00:00               0.00        68.40   \n2015-02-10 00:00:00+00:00               0.00        66.97   \n2015-02-10 01:00:00+00:00               0.00        63.22   \n...                                      ...          ...   \n2018-12-31 20:00:00+00:00               0.03        34.83   \n2018-12-31 21:00:00+00:00               0.05        33.73   \n2018-12-31 22:00:00+00:00               0.04        33.92   \n2018-12-31 23:00:00+00:00               0.03        33.00   \n2019-01-01 00:00:00+00:00               0.02        31.08   \n\n                           apparentTemperature  dewPoint  humidity  windSpeed  \\\ndate                                                                            \n2015-02-09 21:00:00+00:00                65.76     31.81      0.28      10.85   \n2015-02-09 22:00:00+00:00                66.65     27.21      0.23      10.98   \n2015-02-09 23:00:00+00:00                68.40     26.36      0.21      11.05   \n2015-02-10 00:00:00+00:00                66.97     29.54      0.25       8.96   \n2015-02-10 01:00:00+00:00                63.22     32.18      0.31       7.68   \n...                                        ...       ...       ...        ...   \n2018-12-31 20:00:00+00:00                27.53     14.26      0.42       9.40   \n2018-12-31 21:00:00+00:00                25.36     13.60      0.43      11.09   \n2018-12-31 22:00:00+00:00                25.41     12.49      0.41      11.52   \n2018-12-31 23:00:00+00:00                23.80     11.97      0.41      12.57   \n2019-01-01 00:00:00+00:00                21.93     12.93      0.46      11.33   \n\n                           windBearing  windGust  cloudCover  uvIndex  \\\ndate                                                                    \n2015-02-09 21:00:00+00:00        218.0     22.36        0.00      4.0   \n2015-02-09 22:00:00+00:00        230.0     20.51        0.00      2.0   \n2015-02-09 23:00:00+00:00        250.0     21.61        0.00      1.0   \n2015-02-10 00:00:00+00:00        248.0     18.33        0.00      0.0   \n2015-02-10 01:00:00+00:00        253.0     17.00        0.00      0.0   \n...                                ...       ...         ...      ...   \n2018-12-31 20:00:00+00:00        335.0     11.91        0.54      2.0   \n2018-12-31 21:00:00+00:00        338.0     15.25        0.44      1.0   \n2018-12-31 22:00:00+00:00        354.0     16.25        0.45      1.0   \n2018-12-31 23:00:00+00:00        358.0     19.06        0.57      0.0   \n2019-01-01 00:00:00+00:00        355.0     19.89        0.57      0.0   \n\n                           visibility  production           day         month  \\\ndate                                                                            \n2015-02-09 21:00:00+00:00       9.997   1813.9670  3.375229e-01  5.000000e-01   \n2015-02-09 22:00:00+00:00       9.997   1582.5759  3.375229e-01  5.000000e-01   \n2015-02-09 23:00:00+00:00       9.997   1198.3170  3.375229e-01  5.000000e-01   \n2015-02-10 00:00:00+00:00       9.997    627.7450  3.456123e-01  5.000000e-01   \n2015-02-10 01:00:00+00:00       9.997     25.5408  3.456123e-01  5.000000e-01   \n...                               ...         ...           ...           ...   \n2018-12-31 20:00:00+00:00      10.000   1549.0000 -3.216245e-16  1.224647e-16   \n2018-12-31 21:00:00+00:00      10.000   1474.0000 -3.216245e-16  1.224647e-16   \n2018-12-31 22:00:00+00:00      10.000    158.0000 -3.216245e-16  1.224647e-16   \n2018-12-31 23:00:00+00:00      10.000    475.0000 -3.216245e-16  1.224647e-16   \n2019-01-01 00:00:00+00:00      10.000     25.0000  8.606997e-03  2.588190e-01   \n\n                               hour  \ndate                                 \n2015-02-09 21:00:00+00:00  0.382683  \n2015-02-09 22:00:00+00:00  0.258819  \n2015-02-09 23:00:00+00:00  0.130526  \n2015-02-10 00:00:00+00:00  0.000000  \n2015-02-10 01:00:00+00:00  0.130526  \n...                             ...  \n2018-12-31 20:00:00+00:00  0.500000  \n2018-12-31 21:00:00+00:00  0.382683  \n2018-12-31 22:00:00+00:00  0.258819  \n2018-12-31 23:00:00+00:00  0.130526  \n2019-01-01 00:00:00+00:00  0.000000  \n\n[17099 rows x 19 columns]",
      "text/html": "<div>\n<style scoped>\n    .dataframe tbody tr th:only-of-type {\n        vertical-align: middle;\n    }\n\n    .dataframe tbody tr th {\n        vertical-align: top;\n    }\n\n    .dataframe thead th {\n        text-align: right;\n    }\n</style>\n<table border=\"1\" class=\"dataframe\">\n  <thead>\n    <tr style=\"text-align: right;\">\n      <th></th>\n      <th>GHI</th>\n      <th>DHI</th>\n      <th>DNI</th>\n      <th>precipIntensity</th>\n      <th>precipProbability</th>\n      <th>temperature</th>\n      <th>apparentTemperature</th>\n      <th>dewPoint</th>\n      <th>humidity</th>\n      <th>windSpeed</th>\n      <th>windBearing</th>\n      <th>windGust</th>\n      <th>cloudCover</th>\n      <th>uvIndex</th>\n      <th>visibility</th>\n      <th>production</th>\n      <th>day</th>\n      <th>month</th>\n      <th>hour</th>\n    </tr>\n    <tr>\n      <th>date</th>\n      <th></th>\n      <th></th>\n      <th></th>\n      <th></th>\n      <th></th>\n      <th></th>\n      <th></th>\n      <th></th>\n      <th></th>\n      <th></th>\n      <th></th>\n      <th></th>\n      <th></th>\n      <th></th>\n      <th></th>\n      <th></th>\n      <th></th>\n      <th></th>\n      <th></th>\n    </tr>\n  </thead>\n  <tbody>\n    <tr>\n      <th>2015-02-09 21:00:00+00:00</th>\n      <td>0.0</td>\n      <td>0.0</td>\n      <td>0.0</td>\n      <td>0.0000</td>\n      <td>0.00</td>\n      <td>65.76</td>\n      <td>65.76</td>\n      <td>31.81</td>\n      <td>0.28</td>\n      <td>10.85</td>\n      <td>218.0</td>\n      <td>22.36</td>\n      <td>0.00</td>\n      <td>4.0</td>\n      <td>9.997</td>\n      <td>1813.9670</td>\n      <td>3.375229e-01</td>\n      <td>5.000000e-01</td>\n      <td>0.382683</td>\n    </tr>\n    <tr>\n      <th>2015-02-09 22:00:00+00:00</th>\n      <td>118.5</td>\n      <td>30.5</td>\n      <td>598.5</td>\n      <td>0.0000</td>\n      <td>0.00</td>\n      <td>66.65</td>\n      <td>66.65</td>\n      <td>27.21</td>\n      <td>0.23</td>\n      <td>10.98</td>\n      <td>230.0</td>\n      <td>20.51</td>\n      <td>0.00</td>\n      <td>2.0</td>\n      <td>9.997</td>\n      <td>1582.5759</td>\n      <td>3.375229e-01</td>\n      <td>5.000000e-01</td>\n      <td>0.258819</td>\n    </tr>\n    <tr>\n      <th>2015-02-09 23:00:00+00:00</th>\n      <td>313.5</td>\n      <td>48.0</td>\n      <td>838.5</td>\n      <td>0.0000</td>\n      <td>0.00</td>\n      <td>68.40</td>\n      <td>68.40</td>\n      <td>26.36</td>\n      <td>0.21</td>\n      <td>11.05</td>\n      <td>250.0</td>\n      <td>21.61</td>\n      <td>0.00</td>\n      <td>1.0</td>\n      <td>9.997</td>\n      <td>1198.3170</td>\n      <td>3.375229e-01</td>\n      <td>5.000000e-01</td>\n      <td>0.130526</td>\n    </tr>\n    <tr>\n      <th>2015-02-10 00:00:00+00:00</th>\n      <td>486.5</td>\n      <td>56.5</td>\n      <td>937.5</td>\n      <td>0.0000</td>\n      <td>0.00</td>\n      <td>66.97</td>\n      <td>66.97</td>\n      <td>29.54</td>\n      <td>0.25</td>\n      <td>8.96</td>\n      <td>248.0</td>\n      <td>18.33</td>\n      <td>0.00</td>\n      <td>0.0</td>\n      <td>9.997</td>\n      <td>627.7450</td>\n      <td>3.456123e-01</td>\n      <td>5.000000e-01</td>\n      <td>0.000000</td>\n    </tr>\n    <tr>\n      <th>2015-02-10 01:00:00+00:00</th>\n      <td>613.0</td>\n      <td>61.5</td>\n      <td>984.5</td>\n      <td>0.0000</td>\n      <td>0.00</td>\n      <td>63.22</td>\n      <td>63.22</td>\n      <td>32.18</td>\n      <td>0.31</td>\n      <td>7.68</td>\n      <td>253.0</td>\n      <td>17.00</td>\n      <td>0.00</td>\n      <td>0.0</td>\n      <td>9.997</td>\n      <td>25.5408</td>\n      <td>3.456123e-01</td>\n      <td>5.000000e-01</td>\n      <td>0.130526</td>\n    </tr>\n    <tr>\n      <th>...</th>\n      <td>...</td>\n      <td>...</td>\n      <td>...</td>\n      <td>...</td>\n      <td>...</td>\n      <td>...</td>\n      <td>...</td>\n      <td>...</td>\n      <td>...</td>\n      <td>...</td>\n      <td>...</td>\n      <td>...</td>\n      <td>...</td>\n      <td>...</td>\n      <td>...</td>\n      <td>...</td>\n      <td>...</td>\n      <td>...</td>\n      <td>...</td>\n    </tr>\n    <tr>\n      <th>2018-12-31 20:00:00+00:00</th>\n      <td>0.0</td>\n      <td>0.0</td>\n      <td>0.0</td>\n      <td>0.0021</td>\n      <td>0.03</td>\n      <td>34.83</td>\n      <td>27.53</td>\n      <td>14.26</td>\n      <td>0.42</td>\n      <td>9.40</td>\n      <td>335.0</td>\n      <td>11.91</td>\n      <td>0.54</td>\n      <td>2.0</td>\n      <td>10.000</td>\n      <td>1549.0000</td>\n      <td>-3.216245e-16</td>\n      <td>1.224647e-16</td>\n      <td>0.500000</td>\n    </tr>\n    <tr>\n      <th>2018-12-31 21:00:00+00:00</th>\n      <td>0.0</td>\n      <td>0.0</td>\n      <td>0.0</td>\n      <td>0.0047</td>\n      <td>0.05</td>\n      <td>33.73</td>\n      <td>25.36</td>\n      <td>13.60</td>\n      <td>0.43</td>\n      <td>11.09</td>\n      <td>338.0</td>\n      <td>15.25</td>\n      <td>0.44</td>\n      <td>1.0</td>\n      <td>10.000</td>\n      <td>1474.0000</td>\n      <td>-3.216245e-16</td>\n      <td>1.224647e-16</td>\n      <td>0.382683</td>\n    </tr>\n    <tr>\n      <th>2018-12-31 22:00:00+00:00</th>\n      <td>63.5</td>\n      <td>25.0</td>\n      <td>385.0</td>\n      <td>0.0027</td>\n      <td>0.04</td>\n      <td>33.92</td>\n      <td>25.41</td>\n      <td>12.49</td>\n      <td>0.41</td>\n      <td>11.52</td>\n      <td>354.0</td>\n      <td>16.25</td>\n      <td>0.45</td>\n      <td>1.0</td>\n      <td>10.000</td>\n      <td>158.0000</td>\n      <td>-3.216245e-16</td>\n      <td>1.224647e-16</td>\n      <td>0.258819</td>\n    </tr>\n    <tr>\n      <th>2018-12-31 23:00:00+00:00</th>\n      <td>201.5</td>\n      <td>59.5</td>\n      <td>615.5</td>\n      <td>0.0021</td>\n      <td>0.03</td>\n      <td>33.00</td>\n      <td>23.80</td>\n      <td>11.97</td>\n      <td>0.41</td>\n      <td>12.57</td>\n      <td>358.0</td>\n      <td>19.06</td>\n      <td>0.57</td>\n      <td>0.0</td>\n      <td>10.000</td>\n      <td>475.0000</td>\n      <td>-3.216245e-16</td>\n      <td>1.224647e-16</td>\n      <td>0.130526</td>\n    </tr>\n    <tr>\n      <th>2019-01-01 00:00:00+00:00</th>\n      <td>263.5</td>\n      <td>107.0</td>\n      <td>413.5</td>\n      <td>0.0025</td>\n      <td>0.02</td>\n      <td>31.08</td>\n      <td>21.93</td>\n      <td>12.93</td>\n      <td>0.46</td>\n      <td>11.33</td>\n      <td>355.0</td>\n      <td>19.89</td>\n      <td>0.57</td>\n      <td>0.0</td>\n      <td>10.000</td>\n      <td>25.0000</td>\n      <td>8.606997e-03</td>\n      <td>2.588190e-01</td>\n      <td>0.000000</td>\n    </tr>\n  </tbody>\n</table>\n<p>17099 rows × 19 columns</p>\n</div>"
     },
     "metadata": {},
     "execution_count": 21
    }
   ],
   "source": [
    "site = get_site_by_id(103941)\n",
    "df = read_site_data(site)\n",
    "df"
   ]
  }
 ],
 "metadata": {
  "language_info": {
   "codemirror_mode": {
    "name": "ipython",
    "version": 3
   },
   "file_extension": ".py",
   "mimetype": "text/x-python",
   "name": "python",
   "nbconvert_exporter": "python",
   "pygments_lexer": "ipython3",
   "version": "3.7.7-final"
  },
  "orig_nbformat": 2,
  "kernelspec": {
   "name": "python3",
   "display_name": "Python 3"
  }
 },
 "nbformat": 4,
 "nbformat_minor": 2
}