{
 "cells": [
  {
   "cell_type": "markdown",
   "metadata": {},
   "source": [
    "# Data Reader Class\n",
    "I want to define a data reader class to read in the irradiance data for all of different sites. \n",
    "The class needs to take in a site and get the \n",
    "* lat\n",
    "* long\n",
    "* year interval\n",
    "\n",
    "It also needs to set the \n",
    "* api_key\n",
    "* attributes\n",
    "* time interval\n",
    "* utc falg\n",
    "* name\n",
    "* reason_for_use\n",
    "* affiliation\n",
    "* email"
   ]
  },
  {
   "cell_type": "markdown",
   "metadata": {},
   "source": [
    "Read in the metadata"
   ]
  },
  {
   "cell_type": "code",
   "execution_count": 1,
   "metadata": {},
   "outputs": [],
   "source": [
    "import json\n",
    "\n",
    "with open('../../data/site_metadata.json', 'r') as file:\n",
    "    s = file.read()\n",
    "    \n",
    "sites = json.loads(s)"
   ]
  },
  {
   "cell_type": "code",
   "execution_count": 2,
   "metadata": {},
   "outputs": [],
   "source": [
    "import pandas as pd\n",
    "import calendar\n",
    "from datetime import datetime\n",
    "\n",
    "with open('nsrdb_api_key.txt', 'r') as file:\n",
    "    api_key = file.read()\n",
    "\n",
    "class IrradianceDataReader:\n",
    "    \n",
    "    def __init__(self, irradiance_site):\n",
    "        \n",
    "        self.site = irradiance_site\n",
    "\n",
    "        self.lat = irradiance_site['md']['Latitude']\n",
    "        self.lon = irradiance_site['md']['Longitude']\n",
    "        \n",
    "        self.start_year = irradiance_site['start_year']\n",
    "        self.end_year = irradiance_site['end_year']\n",
    "\n",
    "        self.attributes = 'ghi,dhi,dni,wind_speed,air_temperature,solar_zenith_angle'\n",
    "\n",
    "        self.interval = '30'\n",
    "        self.utc = 'true'\n",
    "        self.name = 'Richard+Timpson'\n",
    "        self.reason_for_use = 'research'\n",
    "        self.affiliation = 'University+of+Utah'\n",
    "        self.email = 'richardtimpson80@gmail.com'\n",
    "        self.mailing_list = 'true'\n",
    "        self.url = ''\n",
    "\n",
    "    def set_url(self, year, leap_year):\n",
    "        self.url = f'http://developer.nrel.gov/api/solar/nsrdb_psm3_download.csv?wkt=POINT({self.lon}%20{self.lat})&names={year}&leap_day={leap_year}&interval={self.interval}&utc={self.utc}&full_name={self.name}&email={self.email}&affiliation={self.affiliation}&mailing_list={self.mailing_list}&reason={self.reason_for_use}&api_key={api_key}&attributes={self.attributes}'\n",
    "        \n",
    "    def get_year_interval(self,startDate, endDate):\n",
    "        start_year = datetime.strptime(startDate, '%Y-%m-%d').year\n",
    "        end_year = datetime.strptime(endDate, '%Y-%m-%d').year\n",
    "        return start_year, end_year\n",
    "\n",
    "\n",
    "    def get_location_metadata(self):\n",
    "        self.set_url('2017', 'false')\n",
    "        print(self.url)\n",
    "        info = pd.read_csv(self.url, nrows=1)\n",
    "        return info\n",
    "\n",
    "    def get_location_data(self, year):\n",
    "        leap_year = calendar.isleap(int(year))\n",
    "        leap_str = 'true' if leap_year else 'false'\n",
    "        self.set_url(str(year), leap_str)\n",
    "        print(self.url)\n",
    "        data = pd.read_csv(self.url, skiprows=2)\n",
    "        return data\n"
   ]
  },
  {
   "cell_type": "markdown",
   "metadata": {},
   "source": [
    "Read in the metadata and initialize all of the data readers"
   ]
  },
  {
   "cell_type": "code",
   "execution_count": 3,
   "metadata": {},
   "outputs": [],
   "source": [
    "with open('../../data/site_metadata.json', 'r') as file:\n",
    "    s = file.read()\n",
    "sites = json.loads(s)"
   ]
  },
  {
   "cell_type": "markdown",
   "metadata": {},
   "source": [
    "Read in the solar irradiance site metadata"
   ]
  },
  {
   "cell_type": "code",
   "execution_count": 4,
   "metadata": {},
   "outputs": [
    {
     "data": {
      "text/plain": "{'113805': {'start_year': 2015,\n  'end_year': 2018,\n  'md': {'Source': 'NSRDB',\n   'Location ID': 113805,\n   'City': '-',\n   'State': '-',\n   'Country': '-',\n   'Latitude': 36.97,\n   'Longitude': -112.98,\n   'Time Zone': 0,\n   'Elevation': 1510,\n   'Local Time Zone': -7,\n   'Clearsky DHI Units': 'w/m2',\n   'Clearsky DNI Units': 'w/m2',\n   'Clearsky GHI Units': 'w/m2',\n   'Dew Point Units': 'c',\n   'DHI Units': 'w/m2',\n   'DNI Units': 'w/m2',\n   'GHI Units': 'w/m2',\n   'Solar Zenith Angle Units': 'Degree',\n   'Temperature Units': 'c',\n   'Pressure Units': 'mbar',\n   'Relative Humidity Units': '%',\n   'Precipitable Water Units': 'cm',\n   'Wind Direction Units': 'Degrees',\n   'Wind Speed': 'm/s',\n   'Cloud Type -15': None,\n   'Cloud Type 0': 'Clear',\n   'Cloud Type 1': 'Probably Clear',\n   'Cloud Type 2': 'Fog',\n   'Cloud Type 3': 'Water',\n   'Cloud Type 4': 'Super-Cooled Water',\n   'Cloud Type 5': 'Mixed',\n   'Cloud Type 6': 'Opaque Ice',\n   'Cloud Type 7': 'Cirrus',\n   'Cloud Type 8': 'Overlapping',\n   'Cloud Type 9': 'Overshooting',\n   'Cloud Type 10': 'Unknown',\n   'Cloud Type 11': 'Dust',\n   'Cloud Type 12': 'Smoke',\n   'Fill Flag 0': None,\n   'Fill Flag 1': 'Missing Image',\n   'Fill Flag 2': 'Low Irradiance',\n   'Fill Flag 3': 'Exceeds Clearsky',\n   'Fill Flag 4': 'Missing CLoud Properties',\n   'Fill Flag 5': 'Rayleigh Violation',\n   'Surface Albedo Units': None,\n   'Version': 'v3.0.1'}},\n '116439': {'start_year': 2019,\n  'end_year': 2018,\n  'md': {'Source': 'NSRDB',\n   'Location ID': 116439,\n   'City': '-',\n   'State': '-',\n   'Country': '-',\n   'Latitude': 37.21,\n   'Longitude': -113.26,\n   'Time Zone': 0,\n   'Elevation': 1055,\n   'Local Time Zone': -7,\n   'Clearsky DHI Units': 'w/m2',\n   'Clearsky DNI Units': 'w/m2',\n   'Clearsky GHI Units': 'w/m2',\n   'Dew Point Units': 'c',\n   'DHI Units': 'w/m2',\n   'DNI Units': 'w/m2',\n   'GHI Units': 'w/m2',\n   'Solar Zenith Angle Units': 'Degree',\n   'Temperature Units': 'c',\n   'Pressure Units': 'mbar',\n   'Relative Humidity Units': '%',\n   'Precipitable Water Units': 'cm',\n   'Wind Direction Units': 'Degrees',\n   'Wind Speed': 'm/s',\n   'Cloud Type -15': None,\n   'Cloud Type 0': 'Clear',\n   'Cloud Type 1': 'Probably Clear',\n   'Cloud Type 2': 'Fog',\n   'Cloud Type 3': 'Water',\n   'Cloud Type 4': 'Super-Cooled Water',\n   'Cloud Type 5': 'Mixed',\n   'Cloud Type 6': 'Opaque Ice',\n   'Cloud Type 7': 'Cirrus',\n   'Cloud Type 8': 'Overlapping',\n   'Cloud Type 9': 'Overshooting',\n   'Cloud Type 10': 'Unknown',\n   'Cloud Type 11': 'Dust',\n   'Cloud Type 12': 'Smoke',\n   'Fill Flag 0': None,\n   'Fill Flag 1': 'Missing Image',\n   'Fill Flag 2': 'Low Irradiance',\n   'Fill Flag 3': 'Exceeds Clearsky',\n   'Fill Flag 4': 'Missing CLoud Properties',\n   'Fill Flag 5': 'Rayleigh Violation',\n   'Surface Albedo Units': None,\n   'Version': 'v3.0.1'}},\n '114245': {'start_year': 2018,\n  'end_year': 2018,\n  'md': {'Source': 'NSRDB',\n   'Location ID': 114245,\n   'City': '-',\n   'State': '-',\n   'Country': '-',\n   'Latitude': 37.01,\n   'Longitude': -112.98,\n   'Time Zone': 0,\n   'Elevation': 1730,\n   'Local Time Zone': -7,\n   'Clearsky DHI Units': 'w/m2',\n   'Clearsky DNI Units': 'w/m2',\n   'Clearsky GHI Units': 'w/m2',\n   'Dew Point Units': 'c',\n   'DHI Units': 'w/m2',\n   'DNI Units': 'w/m2',\n   'GHI Units': 'w/m2',\n   'Solar Zenith Angle Units': 'Degree',\n   'Temperature Units': 'c',\n   'Pressure Units': 'mbar',\n   'Relative Humidity Units': '%',\n   'Precipitable Water Units': 'cm',\n   'Wind Direction Units': 'Degrees',\n   'Wind Speed': 'm/s',\n   'Cloud Type -15': None,\n   'Cloud Type 0': 'Clear',\n   'Cloud Type 1': 'Probably Clear',\n   'Cloud Type 2': 'Fog',\n   'Cloud Type 3': 'Water',\n   'Cloud Type 4': 'Super-Cooled Water',\n   'Cloud Type 5': 'Mixed',\n   'Cloud Type 6': 'Opaque Ice',\n   'Cloud Type 7': 'Cirrus',\n   'Cloud Type 8': 'Overlapping',\n   'Cloud Type 9': 'Overshooting',\n   'Cloud Type 10': 'Unknown',\n   'Cloud Type 11': 'Dust',\n   'Cloud Type 12': 'Smoke',\n   'Fill Flag 0': None,\n   'Fill Flag 1': 'Missing Image',\n   'Fill Flag 2': 'Low Irradiance',\n   'Fill Flag 3': 'Exceeds Clearsky',\n   'Fill Flag 4': 'Missing CLoud Properties',\n   'Fill Flag 5': 'Rayleigh Violation',\n   'Surface Albedo Units': None,\n   'Version': 'v3.0.1'}},\n '119311': {'start_year': 2016,\n  'end_year': 2018,\n  'md': {'Source': 'NSRDB',\n   'Location ID': 119311,\n   'City': '-',\n   'State': '-',\n   'Country': '-',\n   'Latitude': 37.49,\n   'Longitude': -122.3,\n   'Time Zone': 0,\n   'Elevation': 143,\n   'Local Time Zone': -8,\n   'Clearsky DHI Units': 'w/m2',\n   'Clearsky DNI Units': 'w/m2',\n   'Clearsky GHI Units': 'w/m2',\n   'Dew Point Units': 'c',\n   'DHI Units': 'w/m2',\n   'DNI Units': 'w/m2',\n   'GHI Units': 'w/m2',\n   'Solar Zenith Angle Units': 'Degree',\n   'Temperature Units': 'c',\n   'Pressure Units': 'mbar',\n   'Relative Humidity Units': '%',\n   'Precipitable Water Units': 'cm',\n   'Wind Direction Units': 'Degrees',\n   'Wind Speed': 'm/s',\n   'Cloud Type -15': None,\n   'Cloud Type 0': 'Clear',\n   'Cloud Type 1': 'Probably Clear',\n   'Cloud Type 2': 'Fog',\n   'Cloud Type 3': 'Water',\n   'Cloud Type 4': 'Super-Cooled Water',\n   'Cloud Type 5': 'Mixed',\n   'Cloud Type 6': 'Opaque Ice',\n   'Cloud Type 7': 'Cirrus',\n   'Cloud Type 8': 'Overlapping',\n   'Cloud Type 9': 'Overshooting',\n   'Cloud Type 10': 'Unknown',\n   'Cloud Type 11': 'Dust',\n   'Cloud Type 12': 'Smoke',\n   'Fill Flag 0': None,\n   'Fill Flag 1': 'Missing Image',\n   'Fill Flag 2': 'Low Irradiance',\n   'Fill Flag 3': 'Exceeds Clearsky',\n   'Fill Flag 4': 'Missing CLoud Properties',\n   'Fill Flag 5': 'Rayleigh Violation',\n   'Surface Albedo Units': None,\n   'Version': 'v3.0.1'}},\n '89627': {'start_year': 2016,\n  'end_year': 2018,\n  'md': {'Source': 'NSRDB',\n   'Location ID': 89627,\n   'City': '-',\n   'State': '-',\n   'Country': '-',\n   'Latitude': 34.65,\n   'Longitude': -111.78,\n   'Time Zone': 0,\n   'Elevation': 1098,\n   'Local Time Zone': -7,\n   'Clearsky DHI Units': 'w/m2',\n   'Clearsky DNI Units': 'w/m2',\n   'Clearsky GHI Units': 'w/m2',\n   'Dew Point Units': 'c',\n   'DHI Units': 'w/m2',\n   'DNI Units': 'w/m2',\n   'GHI Units': 'w/m2',\n   'Solar Zenith Angle Units': 'Degree',\n   'Temperature Units': 'c',\n   'Pressure Units': 'mbar',\n   'Relative Humidity Units': '%',\n   'Precipitable Water Units': 'cm',\n   'Wind Direction Units': 'Degrees',\n   'Wind Speed': 'm/s',\n   'Cloud Type -15': None,\n   'Cloud Type 0': 'Clear',\n   'Cloud Type 1': 'Probably Clear',\n   'Cloud Type 2': 'Fog',\n   'Cloud Type 3': 'Water',\n   'Cloud Type 4': 'Super-Cooled Water',\n   'Cloud Type 5': 'Mixed',\n   'Cloud Type 6': 'Opaque Ice',\n   'Cloud Type 7': 'Cirrus',\n   'Cloud Type 8': 'Overlapping',\n   'Cloud Type 9': 'Overshooting',\n   'Cloud Type 10': 'Unknown',\n   'Cloud Type 11': 'Dust',\n   'Cloud Type 12': 'Smoke',\n   'Fill Flag 0': None,\n   'Fill Flag 1': 'Missing Image',\n   'Fill Flag 2': 'Low Irradiance',\n   'Fill Flag 3': 'Exceeds Clearsky',\n   'Fill Flag 4': 'Missing CLoud Properties',\n   'Fill Flag 5': 'Rayleigh Violation',\n   'Surface Albedo Units': None,\n   'Version': 'v3.0.1'}},\n '151965': {'start_year': 2017,\n  'end_year': 2018,\n  'md': {'Source': 'NSRDB',\n   'Location ID': 151965,\n   'City': '-',\n   'State': '-',\n   'Country': '-',\n   'Latitude': 40.25,\n   'Longitude': -111.7,\n   'Time Zone': 0,\n   'Elevation': 1398,\n   'Local Time Zone': -7,\n   'Clearsky DHI Units': 'w/m2',\n   'Clearsky DNI Units': 'w/m2',\n   'Clearsky GHI Units': 'w/m2',\n   'Dew Point Units': 'c',\n   'DHI Units': 'w/m2',\n   'DNI Units': 'w/m2',\n   'GHI Units': 'w/m2',\n   'Solar Zenith Angle Units': 'Degree',\n   'Temperature Units': 'c',\n   'Pressure Units': 'mbar',\n   'Relative Humidity Units': '%',\n   'Precipitable Water Units': 'cm',\n   'Wind Direction Units': 'Degrees',\n   'Wind Speed': 'm/s',\n   'Cloud Type -15': None,\n   'Cloud Type 0': 'Clear',\n   'Cloud Type 1': 'Probably Clear',\n   'Cloud Type 2': 'Fog',\n   'Cloud Type 3': 'Water',\n   'Cloud Type 4': 'Super-Cooled Water',\n   'Cloud Type 5': 'Mixed',\n   'Cloud Type 6': 'Opaque Ice',\n   'Cloud Type 7': 'Cirrus',\n   'Cloud Type 8': 'Overlapping',\n   'Cloud Type 9': 'Overshooting',\n   'Cloud Type 10': 'Unknown',\n   'Cloud Type 11': 'Dust',\n   'Cloud Type 12': 'Smoke',\n   'Fill Flag 0': None,\n   'Fill Flag 1': 'Missing Image',\n   'Fill Flag 2': 'Low Irradiance',\n   'Fill Flag 3': 'Exceeds Clearsky',\n   'Fill Flag 4': 'Missing CLoud Properties',\n   'Fill Flag 5': 'Rayleigh Violation',\n   'Surface Albedo Units': None,\n   'Version': 'v3.0.1'}},\n '114696': {'start_year': 2018,\n  'end_year': 2018,\n  'md': {'Source': 'NSRDB',\n   'Location ID': 114696,\n   'City': '-',\n   'State': '-',\n   'Country': '-',\n   'Latitude': 37.05,\n   'Longitude': -112.54,\n   'Time Zone': 0,\n   'Elevation': 1589,\n   'Local Time Zone': -7,\n   'Clearsky DHI Units': 'w/m2',\n   'Clearsky DNI Units': 'w/m2',\n   'Clearsky GHI Units': 'w/m2',\n   'Dew Point Units': 'c',\n   'DHI Units': 'w/m2',\n   'DNI Units': 'w/m2',\n   'GHI Units': 'w/m2',\n   'Solar Zenith Angle Units': 'Degree',\n   'Temperature Units': 'c',\n   'Pressure Units': 'mbar',\n   'Relative Humidity Units': '%',\n   'Precipitable Water Units': 'cm',\n   'Wind Direction Units': 'Degrees',\n   'Wind Speed': 'm/s',\n   'Cloud Type -15': None,\n   'Cloud Type 0': 'Clear',\n   'Cloud Type 1': 'Probably Clear',\n   'Cloud Type 2': 'Fog',\n   'Cloud Type 3': 'Water',\n   'Cloud Type 4': 'Super-Cooled Water',\n   'Cloud Type 5': 'Mixed',\n   'Cloud Type 6': 'Opaque Ice',\n   'Cloud Type 7': 'Cirrus',\n   'Cloud Type 8': 'Overlapping',\n   'Cloud Type 9': 'Overshooting',\n   'Cloud Type 10': 'Unknown',\n   'Cloud Type 11': 'Dust',\n   'Cloud Type 12': 'Smoke',\n   'Fill Flag 0': None,\n   'Fill Flag 1': 'Missing Image',\n   'Fill Flag 2': 'Low Irradiance',\n   'Fill Flag 3': 'Exceeds Clearsky',\n   'Fill Flag 4': 'Missing CLoud Properties',\n   'Fill Flag 5': 'Rayleigh Violation',\n   'Surface Albedo Units': None,\n   'Version': 'v3.0.1'}},\n '80122': {'start_year': 2018,\n  'end_year': 2018,\n  'md': {'Source': 'NSRDB',\n   'Location ID': 80122,\n   'City': '-',\n   'State': '-',\n   'Country': '-',\n   'Latitude': 33.69,\n   'Longitude': -118.02,\n   'Time Zone': 0,\n   'Elevation': 6,\n   'Local Time Zone': -8,\n   'Clearsky DHI Units': 'w/m2',\n   'Clearsky DNI Units': 'w/m2',\n   'Clearsky GHI Units': 'w/m2',\n   'Dew Point Units': 'c',\n   'DHI Units': 'w/m2',\n   'DNI Units': 'w/m2',\n   'GHI Units': 'w/m2',\n   'Solar Zenith Angle Units': 'Degree',\n   'Temperature Units': 'c',\n   'Pressure Units': 'mbar',\n   'Relative Humidity Units': '%',\n   'Precipitable Water Units': 'cm',\n   'Wind Direction Units': 'Degrees',\n   'Wind Speed': 'm/s',\n   'Cloud Type -15': None,\n   'Cloud Type 0': 'Clear',\n   'Cloud Type 1': 'Probably Clear',\n   'Cloud Type 2': 'Fog',\n   'Cloud Type 3': 'Water',\n   'Cloud Type 4': 'Super-Cooled Water',\n   'Cloud Type 5': 'Mixed',\n   'Cloud Type 6': 'Opaque Ice',\n   'Cloud Type 7': 'Cirrus',\n   'Cloud Type 8': 'Overlapping',\n   'Cloud Type 9': 'Overshooting',\n   'Cloud Type 10': 'Unknown',\n   'Cloud Type 11': 'Dust',\n   'Cloud Type 12': 'Smoke',\n   'Fill Flag 0': None,\n   'Fill Flag 1': 'Missing Image',\n   'Fill Flag 2': 'Low Irradiance',\n   'Fill Flag 3': 'Exceeds Clearsky',\n   'Fill Flag 4': 'Missing CLoud Properties',\n   'Fill Flag 5': 'Rayleigh Violation',\n   'Surface Albedo Units': None,\n   'Version': 'v3.0.1'}},\n '113806': {'start_year': 2018,\n  'end_year': 2018,\n  'md': {'Source': 'NSRDB',\n   'Location ID': 113806,\n   'City': '-',\n   'State': '-',\n   'Country': '-',\n   'Latitude': 36.97,\n   'Longitude': -112.94,\n   'Time Zone': 0,\n   'Elevation': 1698,\n   'Local Time Zone': -7,\n   'Clearsky DHI Units': 'w/m2',\n   'Clearsky DNI Units': 'w/m2',\n   'Clearsky GHI Units': 'w/m2',\n   'Dew Point Units': 'c',\n   'DHI Units': 'w/m2',\n   'DNI Units': 'w/m2',\n   'GHI Units': 'w/m2',\n   'Solar Zenith Angle Units': 'Degree',\n   'Temperature Units': 'c',\n   'Pressure Units': 'mbar',\n   'Relative Humidity Units': '%',\n   'Precipitable Water Units': 'cm',\n   'Wind Direction Units': 'Degrees',\n   'Wind Speed': 'm/s',\n   'Cloud Type -15': None,\n   'Cloud Type 0': 'Clear',\n   'Cloud Type 1': 'Probably Clear',\n   'Cloud Type 2': 'Fog',\n   'Cloud Type 3': 'Water',\n   'Cloud Type 4': 'Super-Cooled Water',\n   'Cloud Type 5': 'Mixed',\n   'Cloud Type 6': 'Opaque Ice',\n   'Cloud Type 7': 'Cirrus',\n   'Cloud Type 8': 'Overlapping',\n   'Cloud Type 9': 'Overshooting',\n   'Cloud Type 10': 'Unknown',\n   'Cloud Type 11': 'Dust',\n   'Cloud Type 12': 'Smoke',\n   'Fill Flag 0': None,\n   'Fill Flag 1': 'Missing Image',\n   'Fill Flag 2': 'Low Irradiance',\n   'Fill Flag 3': 'Exceeds Clearsky',\n   'Fill Flag 4': 'Missing CLoud Properties',\n   'Fill Flag 5': 'Rayleigh Violation',\n   'Surface Albedo Units': None,\n   'Version': 'v3.0.1'}},\n '115995': {'start_year': 2017,\n  'end_year': 2018,\n  'md': {'Source': 'NSRDB',\n   'Location ID': 115995,\n   'City': '-',\n   'State': '-',\n   'Country': '-',\n   'Latitude': 37.17,\n   'Longitude': -113.38,\n   'Time Zone': 0,\n   'Elevation': 890,\n   'Local Time Zone': -7,\n   'Clearsky DHI Units': 'w/m2',\n   'Clearsky DNI Units': 'w/m2',\n   'Clearsky GHI Units': 'w/m2',\n   'Dew Point Units': 'c',\n   'DHI Units': 'w/m2',\n   'DNI Units': 'w/m2',\n   'GHI Units': 'w/m2',\n   'Solar Zenith Angle Units': 'Degree',\n   'Temperature Units': 'c',\n   'Pressure Units': 'mbar',\n   'Relative Humidity Units': '%',\n   'Precipitable Water Units': 'cm',\n   'Wind Direction Units': 'Degrees',\n   'Wind Speed': 'm/s',\n   'Cloud Type -15': None,\n   'Cloud Type 0': 'Clear',\n   'Cloud Type 1': 'Probably Clear',\n   'Cloud Type 2': 'Fog',\n   'Cloud Type 3': 'Water',\n   'Cloud Type 4': 'Super-Cooled Water',\n   'Cloud Type 5': 'Mixed',\n   'Cloud Type 6': 'Opaque Ice',\n   'Cloud Type 7': 'Cirrus',\n   'Cloud Type 8': 'Overlapping',\n   'Cloud Type 9': 'Overshooting',\n   'Cloud Type 10': 'Unknown',\n   'Cloud Type 11': 'Dust',\n   'Cloud Type 12': 'Smoke',\n   'Fill Flag 0': None,\n   'Fill Flag 1': 'Missing Image',\n   'Fill Flag 2': 'Low Irradiance',\n   'Fill Flag 3': 'Exceeds Clearsky',\n   'Fill Flag 4': 'Missing CLoud Properties',\n   'Fill Flag 5': 'Rayleigh Violation',\n   'Surface Albedo Units': None,\n   'Version': 'v3.0.1'}},\n '157836': {'start_year': 2017,\n  'end_year': 2018,\n  'md': {'Source': 'NSRDB',\n   'Location ID': 157836,\n   'City': '-',\n   'State': '-',\n   'Country': '-',\n   'Latitude': 40.73,\n   'Longitude': -111.98,\n   'Time Zone': 0,\n   'Elevation': 1269,\n   'Local Time Zone': -7,\n   'Clearsky DHI Units': 'w/m2',\n   'Clearsky DNI Units': 'w/m2',\n   'Clearsky GHI Units': 'w/m2',\n   'Dew Point Units': 'c',\n   'DHI Units': 'w/m2',\n   'DNI Units': 'w/m2',\n   'GHI Units': 'w/m2',\n   'Solar Zenith Angle Units': 'Degree',\n   'Temperature Units': 'c',\n   'Pressure Units': 'mbar',\n   'Relative Humidity Units': '%',\n   'Precipitable Water Units': 'cm',\n   'Wind Direction Units': 'Degrees',\n   'Wind Speed': 'm/s',\n   'Cloud Type -15': None,\n   'Cloud Type 0': 'Clear',\n   'Cloud Type 1': 'Probably Clear',\n   'Cloud Type 2': 'Fog',\n   'Cloud Type 3': 'Water',\n   'Cloud Type 4': 'Super-Cooled Water',\n   'Cloud Type 5': 'Mixed',\n   'Cloud Type 6': 'Opaque Ice',\n   'Cloud Type 7': 'Cirrus',\n   'Cloud Type 8': 'Overlapping',\n   'Cloud Type 9': 'Overshooting',\n   'Cloud Type 10': 'Unknown',\n   'Cloud Type 11': 'Dust',\n   'Cloud Type 12': 'Smoke',\n   'Fill Flag 0': None,\n   'Fill Flag 1': 'Missing Image',\n   'Fill Flag 2': 'Low Irradiance',\n   'Fill Flag 3': 'Exceeds Clearsky',\n   'Fill Flag 4': 'Missing CLoud Properties',\n   'Fill Flag 5': 'Rayleigh Violation',\n   'Surface Albedo Units': None,\n   'Version': 'v3.0.1'}}}"
     },
     "execution_count": 4,
     "metadata": {},
     "output_type": "execute_result"
    }
   ],
   "source": [
    "with open('../../data/irradiance_metadata.json', 'r') as file:\n",
    "    s = file.read()\n",
    "\n",
    "irradiance_md = json.loads(s)\n",
    "irradiance_md"
   ]
  },
  {
   "cell_type": "markdown",
   "metadata": {},
   "source": [
    "Now that we have the irradiance metadata, we can gather all of the irradiance site data"
   ]
  },
  {
   "cell_type": "code",
   "execution_count": 5,
   "metadata": {},
   "outputs": [
    {
     "name": "stdout",
     "output_type": "stream",
     "text": "http://developer.nrel.gov/api/solar/nsrdb_psm3_download.csv?wkt=POINT(-112.98%2036.97)&names=2018&leap_day=false&interval=30&utc=true&full_name=Richard+Timpson&email=richardtimpson80@gmail.com&affiliation=University+of+Utah&mailing_list=true&reason=research&api_key=65XmZXKU1X6yqFKJ7e4Dab5x35seXfubayeQ4D5a&attributes=ghi,dhi,dni,wind_speed,air_temperature,solar_zenith_angle\n"
    },
    {
     "data": {
      "text/html": "<div>\n<style scoped>\n    .dataframe tbody tr th:only-of-type {\n        vertical-align: middle;\n    }\n\n    .dataframe tbody tr th {\n        vertical-align: top;\n    }\n\n    .dataframe thead th {\n        text-align: right;\n    }\n</style>\n<table border=\"1\" class=\"dataframe\">\n  <thead>\n    <tr style=\"text-align: right;\">\n      <th></th>\n      <th>Year</th>\n      <th>Month</th>\n      <th>Day</th>\n      <th>Hour</th>\n      <th>Minute</th>\n      <th>GHI</th>\n      <th>DHI</th>\n      <th>DNI</th>\n      <th>Wind Speed</th>\n      <th>Temperature</th>\n      <th>Solar Zenith Angle</th>\n    </tr>\n  </thead>\n  <tbody>\n    <tr>\n      <td>0</td>\n      <td>2018</td>\n      <td>1</td>\n      <td>1</td>\n      <td>0</td>\n      <td>0</td>\n      <td>32</td>\n      <td>11</td>\n      <td>328</td>\n      <td>0.5</td>\n      <td>9.7</td>\n      <td>86.28</td>\n    </tr>\n    <tr>\n      <td>1</td>\n      <td>2018</td>\n      <td>1</td>\n      <td>1</td>\n      <td>0</td>\n      <td>30</td>\n      <td>2</td>\n      <td>3</td>\n      <td>33</td>\n      <td>0.7</td>\n      <td>8.8</td>\n      <td>91.63</td>\n    </tr>\n    <tr>\n      <td>2</td>\n      <td>2018</td>\n      <td>1</td>\n      <td>1</td>\n      <td>1</td>\n      <td>0</td>\n      <td>0</td>\n      <td>0</td>\n      <td>0</td>\n      <td>0.8</td>\n      <td>7.9</td>\n      <td>97.02</td>\n    </tr>\n    <tr>\n      <td>3</td>\n      <td>2018</td>\n      <td>1</td>\n      <td>1</td>\n      <td>1</td>\n      <td>30</td>\n      <td>0</td>\n      <td>0</td>\n      <td>0</td>\n      <td>1.0</td>\n      <td>7.4</td>\n      <td>102.59</td>\n    </tr>\n    <tr>\n      <td>4</td>\n      <td>2018</td>\n      <td>1</td>\n      <td>1</td>\n      <td>2</td>\n      <td>0</td>\n      <td>0</td>\n      <td>0</td>\n      <td>0</td>\n      <td>1.1</td>\n      <td>6.9</td>\n      <td>108.31</td>\n    </tr>\n    <tr>\n      <td>...</td>\n      <td>...</td>\n      <td>...</td>\n      <td>...</td>\n      <td>...</td>\n      <td>...</td>\n      <td>...</td>\n      <td>...</td>\n      <td>...</td>\n      <td>...</td>\n      <td>...</td>\n      <td>...</td>\n    </tr>\n    <tr>\n      <td>17515</td>\n      <td>2018</td>\n      <td>12</td>\n      <td>31</td>\n      <td>21</td>\n      <td>30</td>\n      <td>354</td>\n      <td>119</td>\n      <td>574</td>\n      <td>5.5</td>\n      <td>-0.4</td>\n      <td>65.80</td>\n    </tr>\n    <tr>\n      <td>17516</td>\n      <td>2018</td>\n      <td>12</td>\n      <td>31</td>\n      <td>22</td>\n      <td>0</td>\n      <td>298</td>\n      <td>97</td>\n      <td>562</td>\n      <td>5.5</td>\n      <td>-0.7</td>\n      <td>69.00</td>\n    </tr>\n    <tr>\n      <td>17517</td>\n      <td>2018</td>\n      <td>12</td>\n      <td>31</td>\n      <td>22</td>\n      <td>30</td>\n      <td>256</td>\n      <td>70</td>\n      <td>625</td>\n      <td>5.3</td>\n      <td>-1.4</td>\n      <td>72.73</td>\n    </tr>\n    <tr>\n      <td>17518</td>\n      <td>2018</td>\n      <td>12</td>\n      <td>31</td>\n      <td>23</td>\n      <td>0</td>\n      <td>206</td>\n      <td>46</td>\n      <td>706</td>\n      <td>5.0</td>\n      <td>-2.0</td>\n      <td>76.92</td>\n    </tr>\n    <tr>\n      <td>17519</td>\n      <td>2018</td>\n      <td>12</td>\n      <td>31</td>\n      <td>23</td>\n      <td>30</td>\n      <td>137</td>\n      <td>35</td>\n      <td>690</td>\n      <td>5.0</td>\n      <td>-2.0</td>\n      <td>81.48</td>\n    </tr>\n  </tbody>\n</table>\n<p>17520 rows × 11 columns</p>\n</div>",
      "text/plain": "       Year  Month  Day  Hour  Minute  GHI  DHI  DNI  Wind Speed  Temperature  \\\n0      2018      1    1     0       0   32   11  328         0.5          9.7   \n1      2018      1    1     0      30    2    3   33         0.7          8.8   \n2      2018      1    1     1       0    0    0    0         0.8          7.9   \n3      2018      1    1     1      30    0    0    0         1.0          7.4   \n4      2018      1    1     2       0    0    0    0         1.1          6.9   \n...     ...    ...  ...   ...     ...  ...  ...  ...         ...          ...   \n17515  2018     12   31    21      30  354  119  574         5.5         -0.4   \n17516  2018     12   31    22       0  298   97  562         5.5         -0.7   \n17517  2018     12   31    22      30  256   70  625         5.3         -1.4   \n17518  2018     12   31    23       0  206   46  706         5.0         -2.0   \n17519  2018     12   31    23      30  137   35  690         5.0         -2.0   \n\n       Solar Zenith Angle  \n0                   86.28  \n1                   91.63  \n2                   97.02  \n3                  102.59  \n4                  108.31  \n...                   ...  \n17515               65.80  \n17516               69.00  \n17517               72.73  \n17518               76.92  \n17519               81.48  \n\n[17520 rows x 11 columns]"
     },
     "execution_count": 5,
     "metadata": {},
     "output_type": "execute_result"
    }
   ],
   "source": [
    "sample_id = '113805'\n",
    "ir_site = irradiance_md[sample_id]\n",
    "ir_dr = IrradianceDataReader(ir_site)\n",
    "data = ir_dr.get_location_data(2018)\n",
    "data"
   ]
  },
  {
   "cell_type": "code",
   "execution_count": 6,
   "metadata": {},
   "outputs": [
    {
     "name": "stdout",
     "output_type": "stream",
     "text": "System ID: 113805\nStart year: 2015\nEnd year: 2018\nYear loop: 2015\nGetting data ...\nhttp://developer.nrel.gov/api/solar/nsrdb_psm3_download.csv?wkt=POINT(-112.98%2036.97)&names=2015&leap_day=false&interval=30&utc=true&full_name=Richard+Timpson&email=richardtimpson80@gmail.com&affiliation=University+of+Utah&mailing_list=true&reason=research&api_key=65XmZXKU1X6yqFKJ7e4Dab5x35seXfubayeQ4D5a&attributes=ghi,dhi,dni,wind_speed,air_temperature,solar_zenith_angle\nYear loop: 2016\nGetting data ...\nhttp://developer.nrel.gov/api/solar/nsrdb_psm3_download.csv?wkt=POINT(-112.98%2036.97)&names=2016&leap_day=true&interval=30&utc=true&full_name=Richard+Timpson&email=richardtimpson80@gmail.com&affiliation=University+of+Utah&mailing_list=true&reason=research&api_key=65XmZXKU1X6yqFKJ7e4Dab5x35seXfubayeQ4D5a&attributes=ghi,dhi,dni,wind_speed,air_temperature,solar_zenith_angle\nYear loop: 2017\nGetting data ...\nhttp://developer.nrel.gov/api/solar/nsrdb_psm3_download.csv?wkt=POINT(-112.98%2036.97)&names=2017&leap_day=false&interval=30&utc=true&full_name=Richard+Timpson&email=richardtimpson80@gmail.com&affiliation=University+of+Utah&mailing_list=true&reason=research&api_key=65XmZXKU1X6yqFKJ7e4Dab5x35seXfubayeQ4D5a&attributes=ghi,dhi,dni,wind_speed,air_temperature,solar_zenith_angle\nYear loop: 2018\nGetting data ...\nhttp://developer.nrel.gov/api/solar/nsrdb_psm3_download.csv?wkt=POINT(-112.98%2036.97)&names=2018&leap_day=false&interval=30&utc=true&full_name=Richard+Timpson&email=richardtimpson80@gmail.com&affiliation=University+of+Utah&mailing_list=true&reason=research&api_key=65XmZXKU1X6yqFKJ7e4Dab5x35seXfubayeQ4D5a&attributes=ghi,dhi,dni,wind_speed,air_temperature,solar_zenith_angle\nSystem ID: 116439\nSystem ID: 114245\nStart year: 2018\nEnd year: 2018\nYear loop: 2018\nGetting data ...\nhttp://developer.nrel.gov/api/solar/nsrdb_psm3_download.csv?wkt=POINT(-112.98%2037.01)&names=2018&leap_day=false&interval=30&utc=true&full_name=Richard+Timpson&email=richardtimpson80@gmail.com&affiliation=University+of+Utah&mailing_list=true&reason=research&api_key=65XmZXKU1X6yqFKJ7e4Dab5x35seXfubayeQ4D5a&attributes=ghi,dhi,dni,wind_speed,air_temperature,solar_zenith_angle\nSystem ID: 119311\nStart year: 2016\nEnd year: 2018\nYear loop: 2016\nGetting data ...\nhttp://developer.nrel.gov/api/solar/nsrdb_psm3_download.csv?wkt=POINT(-122.3%2037.49)&names=2016&leap_day=true&interval=30&utc=true&full_name=Richard+Timpson&email=richardtimpson80@gmail.com&affiliation=University+of+Utah&mailing_list=true&reason=research&api_key=65XmZXKU1X6yqFKJ7e4Dab5x35seXfubayeQ4D5a&attributes=ghi,dhi,dni,wind_speed,air_temperature,solar_zenith_angle\nYear loop: 2017\nGetting data ...\nhttp://developer.nrel.gov/api/solar/nsrdb_psm3_download.csv?wkt=POINT(-122.3%2037.49)&names=2017&leap_day=false&interval=30&utc=true&full_name=Richard+Timpson&email=richardtimpson80@gmail.com&affiliation=University+of+Utah&mailing_list=true&reason=research&api_key=65XmZXKU1X6yqFKJ7e4Dab5x35seXfubayeQ4D5a&attributes=ghi,dhi,dni,wind_speed,air_temperature,solar_zenith_angle\nYear loop: 2018\nGetting data ...\nhttp://developer.nrel.gov/api/solar/nsrdb_psm3_download.csv?wkt=POINT(-122.3%2037.49)&names=2018&leap_day=false&interval=30&utc=true&full_name=Richard+Timpson&email=richardtimpson80@gmail.com&affiliation=University+of+Utah&mailing_list=true&reason=research&api_key=65XmZXKU1X6yqFKJ7e4Dab5x35seXfubayeQ4D5a&attributes=ghi,dhi,dni,wind_speed,air_temperature,solar_zenith_angle\nSystem ID: 89627\nStart year: 2016\nEnd year: 2018\nYear loop: 2016\nGetting data ...\nhttp://developer.nrel.gov/api/solar/nsrdb_psm3_download.csv?wkt=POINT(-111.78%2034.65)&names=2016&leap_day=true&interval=30&utc=true&full_name=Richard+Timpson&email=richardtimpson80@gmail.com&affiliation=University+of+Utah&mailing_list=true&reason=research&api_key=65XmZXKU1X6yqFKJ7e4Dab5x35seXfubayeQ4D5a&attributes=ghi,dhi,dni,wind_speed,air_temperature,solar_zenith_angle\nYear loop: 2017\nGetting data ...\nhttp://developer.nrel.gov/api/solar/nsrdb_psm3_download.csv?wkt=POINT(-111.78%2034.65)&names=2017&leap_day=false&interval=30&utc=true&full_name=Richard+Timpson&email=richardtimpson80@gmail.com&affiliation=University+of+Utah&mailing_list=true&reason=research&api_key=65XmZXKU1X6yqFKJ7e4Dab5x35seXfubayeQ4D5a&attributes=ghi,dhi,dni,wind_speed,air_temperature,solar_zenith_angle\nYear loop: 2018\nGetting data ...\nhttp://developer.nrel.gov/api/solar/nsrdb_psm3_download.csv?wkt=POINT(-111.78%2034.65)&names=2018&leap_day=false&interval=30&utc=true&full_name=Richard+Timpson&email=richardtimpson80@gmail.com&affiliation=University+of+Utah&mailing_list=true&reason=research&api_key=65XmZXKU1X6yqFKJ7e4Dab5x35seXfubayeQ4D5a&attributes=ghi,dhi,dni,wind_speed,air_temperature,solar_zenith_angle\nSystem ID: 151965\nStart year: 2017\nEnd year: 2018\nYear loop: 2017\nGetting data ...\nhttp://developer.nrel.gov/api/solar/nsrdb_psm3_download.csv?wkt=POINT(-111.7%2040.25)&names=2017&leap_day=false&interval=30&utc=true&full_name=Richard+Timpson&email=richardtimpson80@gmail.com&affiliation=University+of+Utah&mailing_list=true&reason=research&api_key=65XmZXKU1X6yqFKJ7e4Dab5x35seXfubayeQ4D5a&attributes=ghi,dhi,dni,wind_speed,air_temperature,solar_zenith_angle\nYear loop: 2018\nGetting data ...\nhttp://developer.nrel.gov/api/solar/nsrdb_psm3_download.csv?wkt=POINT(-111.7%2040.25)&names=2018&leap_day=false&interval=30&utc=true&full_name=Richard+Timpson&email=richardtimpson80@gmail.com&affiliation=University+of+Utah&mailing_list=true&reason=research&api_key=65XmZXKU1X6yqFKJ7e4Dab5x35seXfubayeQ4D5a&attributes=ghi,dhi,dni,wind_speed,air_temperature,solar_zenith_angle\nSystem ID: 114696\nStart year: 2018\nEnd year: 2018\nYear loop: 2018\nGetting data ...\nhttp://developer.nrel.gov/api/solar/nsrdb_psm3_download.csv?wkt=POINT(-112.54%2037.05)&names=2018&leap_day=false&interval=30&utc=true&full_name=Richard+Timpson&email=richardtimpson80@gmail.com&affiliation=University+of+Utah&mailing_list=true&reason=research&api_key=65XmZXKU1X6yqFKJ7e4Dab5x35seXfubayeQ4D5a&attributes=ghi,dhi,dni,wind_speed,air_temperature,solar_zenith_angle\nSystem ID: 80122\nStart year: 2018\nEnd year: 2018\nYear loop: 2018\nGetting data ...\nhttp://developer.nrel.gov/api/solar/nsrdb_psm3_download.csv?wkt=POINT(-118.02%2033.69)&names=2018&leap_day=false&interval=30&utc=true&full_name=Richard+Timpson&email=richardtimpson80@gmail.com&affiliation=University+of+Utah&mailing_list=true&reason=research&api_key=65XmZXKU1X6yqFKJ7e4Dab5x35seXfubayeQ4D5a&attributes=ghi,dhi,dni,wind_speed,air_temperature,solar_zenith_angle\nSystem ID: 113806\nStart year: 2018\nEnd year: 2018\nYear loop: 2018\nGetting data ...\nhttp://developer.nrel.gov/api/solar/nsrdb_psm3_download.csv?wkt=POINT(-112.94%2036.97)&names=2018&leap_day=false&interval=30&utc=true&full_name=Richard+Timpson&email=richardtimpson80@gmail.com&affiliation=University+of+Utah&mailing_list=true&reason=research&api_key=65XmZXKU1X6yqFKJ7e4Dab5x35seXfubayeQ4D5a&attributes=ghi,dhi,dni,wind_speed,air_temperature,solar_zenith_angle\nSystem ID: 115995\nStart year: 2017\nEnd year: 2018\nYear loop: 2017\nGetting data ...\nhttp://developer.nrel.gov/api/solar/nsrdb_psm3_download.csv?wkt=POINT(-113.38%2037.17)&names=2017&leap_day=false&interval=30&utc=true&full_name=Richard+Timpson&email=richardtimpson80@gmail.com&affiliation=University+of+Utah&mailing_list=true&reason=research&api_key=65XmZXKU1X6yqFKJ7e4Dab5x35seXfubayeQ4D5a&attributes=ghi,dhi,dni,wind_speed,air_temperature,solar_zenith_angle\nYear loop: 2018\nGetting data ...\nhttp://developer.nrel.gov/api/solar/nsrdb_psm3_download.csv?wkt=POINT(-113.38%2037.17)&names=2018&leap_day=false&interval=30&utc=true&full_name=Richard+Timpson&email=richardtimpson80@gmail.com&affiliation=University+of+Utah&mailing_list=true&reason=research&api_key=65XmZXKU1X6yqFKJ7e4Dab5x35seXfubayeQ4D5a&attributes=ghi,dhi,dni,wind_speed,air_temperature,solar_zenith_angle\nSystem ID: 157836\nStart year: 2017\nEnd year: 2018\nYear loop: 2017\nGetting data ...\nhttp://developer.nrel.gov/api/solar/nsrdb_psm3_download.csv?wkt=POINT(-111.98%2040.73)&names=2017&leap_day=false&interval=30&utc=true&full_name=Richard+Timpson&email=richardtimpson80@gmail.com&affiliation=University+of+Utah&mailing_list=true&reason=research&api_key=65XmZXKU1X6yqFKJ7e4Dab5x35seXfubayeQ4D5a&attributes=ghi,dhi,dni,wind_speed,air_temperature,solar_zenith_angle\nYear loop: 2018\nGetting data ...\nhttp://developer.nrel.gov/api/solar/nsrdb_psm3_download.csv?wkt=POINT(-111.98%2040.73)&names=2018&leap_day=false&interval=30&utc=true&full_name=Richard+Timpson&email=richardtimpson80@gmail.com&affiliation=University+of+Utah&mailing_list=true&reason=research&api_key=65XmZXKU1X6yqFKJ7e4Dab5x35seXfubayeQ4D5a&attributes=ghi,dhi,dni,wind_speed,air_temperature,solar_zenith_angle\n"
    }
   ],
   "source": [
    "from datetime import timedelta, datetime\n",
    "\n",
    "ir_dfs = {}\n",
    "for site_id, site in irradiance_md.items():    \n",
    "    print(f'System ID: {site_id}')\n",
    "    ir_rd = IrradianceDataReader(site)\n",
    "\n",
    "    start_year = ir_rd.start_year \n",
    "    if (int(start_year) < 2019):\n",
    "        end_year = ir_rd.end_year \n",
    "        # delta = end_date - start_date\n",
    "        print(f'Start year: {start_year}')\n",
    "        print(f'End year: {end_year}')\n",
    "        data_dfs = []\n",
    "        for year in range(int(start_year), int(end_year) + 1):\n",
    "            # year = int(start_year) + i\n",
    "            # year = start_date + timedelta(years=i)\n",
    "            year_str = str(year)\n",
    "            print(f'Year loop: {year_str}')\n",
    "            print(\"Getting data ...\")\n",
    "            data_df = ir_rd.get_location_data(year_str)\n",
    "            data_dfs.append(data_df)\n",
    "        \n",
    "        if len(data_dfs) > 1:\n",
    "            data_df = pd.concat(data_dfs)\n",
    "        else:\n",
    "            data_df = data_dfs[0]\n",
    "\n",
    "        ir_dfs[site_id] = data_df\n",
    "\n",
    "    else:\n",
    "        ir_dfs[site_id] = None"
   ]
  },
  {
   "cell_type": "code",
   "execution_count": 11,
   "metadata": {},
   "outputs": [
    {
     "name": "stdout",
     "output_type": "stream",
     "text": "113805 <class 'pandas.core.frame.DataFrame'>\n116439 <class 'NoneType'>\n114245 <class 'pandas.core.frame.DataFrame'>\n119311 <class 'pandas.core.frame.DataFrame'>\n89627 <class 'pandas.core.frame.DataFrame'>\n151965 <class 'pandas.core.frame.DataFrame'>\n114696 <class 'pandas.core.frame.DataFrame'>\n80122 <class 'pandas.core.frame.DataFrame'>\n113806 <class 'pandas.core.frame.DataFrame'>\n115995 <class 'pandas.core.frame.DataFrame'>\n157836 <class 'pandas.core.frame.DataFrame'>\n"
    }
   ],
   "source": [
    "import os\n",
    "\n",
    "for key, frame in ir_dfs.items():\n",
    "    folder_path = f'../../data/irradiance_data/{key}'\n",
    "    if not os.path.exists(folder_path):\n",
    "        os.mkdir(folder_path)\n",
    "    \n",
    "    if frame is not None:\n",
    "        frame.to_csv(f'{folder_path}/irradiance_data.csv')\n",
    "    print(key, type(frame))"
   ]
  },
  {
   "cell_type": "code",
   "execution_count": null,
   "metadata": {},
   "outputs": [],
   "source": []
  },
  {
   "cell_type": "code",
   "execution_count": null,
   "metadata": {},
   "outputs": [],
   "source": []
  },
  {
   "cell_type": "code",
   "execution_count": null,
   "metadata": {},
   "outputs": [],
   "source": []
  },
  {
   "cell_type": "code",
   "execution_count": null,
   "metadata": {},
   "outputs": [],
   "source": []
  },
  {
   "cell_type": "code",
   "execution_count": null,
   "metadata": {},
   "outputs": [],
   "source": []
  },
  {
   "cell_type": "code",
   "execution_count": null,
   "metadata": {},
   "outputs": [],
   "source": []
  },
  {
   "cell_type": "code",
   "execution_count": null,
   "metadata": {},
   "outputs": [],
   "source": []
  },
  {
   "cell_type": "markdown",
   "metadata": {},
   "source": [
    "# Random Data Manipulation"
   ]
  },
  {
   "cell_type": "code",
   "execution_count": 13,
   "metadata": {},
   "outputs": [
    {
     "data": {
      "text/plain": "{113805: {'start_year': 2015, 'end_year': 2018},\n 116439: {'start_year': 2019, 'end_year': 2018},\n 114245: {'start_year': 2018, 'end_year': 2018},\n 119311: {'start_year': 2016, 'end_year': 2018},\n 89627: {'start_year': 2016, 'end_year': 2018},\n 151965: {'start_year': 2017, 'end_year': 2018},\n 114696: {'start_year': 2018, 'end_year': 2018},\n 80122: {'start_year': 2018, 'end_year': 2018},\n 113806: {'start_year': 2018, 'end_year': 2018},\n 115995: {'start_year': 2017, 'end_year': 2018},\n 157836: {'start_year': 2017, 'end_year': 2018}}"
     },
     "execution_count": 13,
     "metadata": {},
     "output_type": "execute_result"
    }
   ],
   "source": [
    "# irradiance_site_ranges = {\n",
    "#     'id': {\n",
    "#         'start_year': \n",
    "#         'end_year':\n",
    "#     }\n",
    "# }\n",
    "\n",
    "irradiance_metadata = {}\n",
    "\n",
    "max_end_year = 2018\n",
    "\n",
    "for site_dr in site_drs:\n",
    "    ir_site_id = site_dr.site['irradiance_md']['Location ID']\n",
    "\n",
    "    # check if we have already set the year for the irradiance site\n",
    "    if ir_site_id in irradiance_metadata:\n",
    "        # set the start year\n",
    "        start_cur = int(irradiance_metadata[ir_site_id]['start_year'])\n",
    "        if site_dr.start_year < start_cur:\n",
    "            site[ir_site_id]['start_year'] = site_dr.start_year        \n",
    "    else:\n",
    "        irradiance_metadata[ir_site_id] = {\n",
    "            'start_year': site_dr.start_year,\n",
    "            'end_year': max_end_year,\n",
    "        }\n",
    "irradiance_metadata"
   ]
  },
  {
   "cell_type": "markdown",
   "metadata": {},
   "source": [
    "The following code was used to gather the irradiance site metadata. I'll no longer need it as I can simply read from the stored json file"
   ]
  },
  {
   "cell_type": "code",
   "execution_count": 15,
   "metadata": {},
   "outputs": [
    {
     "name": "stdout",
     "output_type": "stream",
     "text": "http://developer.nrel.gov/api/solar/nsrdb_psm3_download.csv?wkt=POINT(-112.9758274%2036.9587533)&names=2017&leap_day=false&interval=30&utc=true&full_name=Richard+Timpson&email=richardtimpson80@gmail.com&affiliation=University+of+Utah&mailing_list=true&reason=research&api_key=65XmZXKU1X6yqFKJ7e4Dab5x35seXfubayeQ4D5a&attributes=ghi,dhi,dni,wind_speed,air_temperature,solar_zenith_angle\nhttp://developer.nrel.gov/api/solar/nsrdb_psm3_download.csv?wkt=POINT(-113.27477809999999%2037.2065196)&names=2017&leap_day=false&interval=30&utc=true&full_name=Richard+Timpson&email=richardtimpson80@gmail.com&affiliation=University+of+Utah&mailing_list=true&reason=research&api_key=65XmZXKU1X6yqFKJ7e4Dab5x35seXfubayeQ4D5a&attributes=ghi,dhi,dni,wind_speed,air_temperature,solar_zenith_angle\nhttp://developer.nrel.gov/api/solar/nsrdb_psm3_download.csv?wkt=POINT(-112.9757702%2036.9902621)&names=2017&leap_day=false&interval=30&utc=true&full_name=Richard+Timpson&email=richardtimpson80@gmail.com&affiliation=University+of+Utah&mailing_list=true&reason=research&api_key=65XmZXKU1X6yqFKJ7e4Dab5x35seXfubayeQ4D5a&attributes=ghi,dhi,dni,wind_speed,air_temperature,solar_zenith_angle\nhttp://developer.nrel.gov/api/solar/nsrdb_psm3_download.csv?wkt=POINT(-122.3064554%2037.5034316)&names=2017&leap_day=false&interval=30&utc=true&full_name=Richard+Timpson&email=richardtimpson80@gmail.com&affiliation=University+of+Utah&mailing_list=true&reason=research&api_key=65XmZXKU1X6yqFKJ7e4Dab5x35seXfubayeQ4D5a&attributes=ghi,dhi,dni,wind_speed,air_temperature,solar_zenith_angle\nhttp://developer.nrel.gov/api/solar/nsrdb_psm3_download.csv?wkt=POINT(-111.7885507%2034.646224700000005)&names=2017&leap_day=false&interval=30&utc=true&full_name=Richard+Timpson&email=richardtimpson80@gmail.com&affiliation=University+of+Utah&mailing_list=true&reason=research&api_key=65XmZXKU1X6yqFKJ7e4Dab5x35seXfubayeQ4D5a&attributes=ghi,dhi,dni,wind_speed,air_temperature,solar_zenith_angle\nhttp://developer.nrel.gov/api/solar/nsrdb_psm3_download.csv?wkt=POINT(-111.70303290000001%2040.2463234)&names=2017&leap_day=false&interval=30&utc=true&full_name=Richard+Timpson&email=richardtimpson80@gmail.com&affiliation=University+of+Utah&mailing_list=true&reason=research&api_key=65XmZXKU1X6yqFKJ7e4Dab5x35seXfubayeQ4D5a&attributes=ghi,dhi,dni,wind_speed,air_temperature,solar_zenith_angle\nhttp://developer.nrel.gov/api/solar/nsrdb_psm3_download.csv?wkt=POINT(-112.52786%2037.05509869999999)&names=2017&leap_day=false&interval=30&utc=true&full_name=Richard+Timpson&email=richardtimpson80@gmail.com&affiliation=University+of+Utah&mailing_list=true&reason=research&api_key=65XmZXKU1X6yqFKJ7e4Dab5x35seXfubayeQ4D5a&attributes=ghi,dhi,dni,wind_speed,air_temperature,solar_zenith_angle\nhttp://developer.nrel.gov/api/solar/nsrdb_psm3_download.csv?wkt=POINT(-118.0291067%2033.704533399999995)&names=2017&leap_day=false&interval=30&utc=true&full_name=Richard+Timpson&email=richardtimpson80@gmail.com&affiliation=University+of+Utah&mailing_list=true&reason=research&api_key=65XmZXKU1X6yqFKJ7e4Dab5x35seXfubayeQ4D5a&attributes=ghi,dhi,dni,wind_speed,air_temperature,solar_zenith_angle\nhttp://developer.nrel.gov/api/solar/nsrdb_psm3_download.csv?wkt=POINT(-112.9597072%2036.95268069999999)&names=2017&leap_day=false&interval=30&utc=true&full_name=Richard+Timpson&email=richardtimpson80@gmail.com&affiliation=University+of+Utah&mailing_list=true&reason=research&api_key=65XmZXKU1X6yqFKJ7e4Dab5x35seXfubayeQ4D5a&attributes=ghi,dhi,dni,wind_speed,air_temperature,solar_zenith_angle\nhttp://developer.nrel.gov/api/solar/nsrdb_psm3_download.csv?wkt=POINT(-112.98454709999999%2036.958596)&names=2017&leap_day=false&interval=30&utc=true&full_name=Richard+Timpson&email=richardtimpson80@gmail.com&affiliation=University+of+Utah&mailing_list=true&reason=research&api_key=65XmZXKU1X6yqFKJ7e4Dab5x35seXfubayeQ4D5a&attributes=ghi,dhi,dni,wind_speed,air_temperature,solar_zenith_angle\nhttp://developer.nrel.gov/api/solar/nsrdb_psm3_download.csv?wkt=POINT(-113.382926%2037.17510499999999)&names=2017&leap_day=false&interval=30&utc=true&full_name=Richard+Timpson&email=richardtimpson80@gmail.com&affiliation=University+of+Utah&mailing_list=true&reason=research&api_key=65XmZXKU1X6yqFKJ7e4Dab5x35seXfubayeQ4D5a&attributes=ghi,dhi,dni,wind_speed,air_temperature,solar_zenith_angle\nhttp://developer.nrel.gov/api/solar/nsrdb_psm3_download.csv?wkt=POINT(-111.962157%2040.710912)&names=2017&leap_day=false&interval=30&utc=true&full_name=Richard+Timpson&email=richardtimpson80@gmail.com&affiliation=University+of+Utah&mailing_list=true&reason=research&api_key=65XmZXKU1X6yqFKJ7e4Dab5x35seXfubayeQ4D5a&attributes=ghi,dhi,dni,wind_speed,air_temperature,solar_zenith_angle\nhttp://developer.nrel.gov/api/solar/nsrdb_psm3_download.csv?wkt=POINT(-112.98887739999999%2036.9591277)&names=2017&leap_day=false&interval=30&utc=true&full_name=Richard+Timpson&email=richardtimpson80@gmail.com&affiliation=University+of+Utah&mailing_list=true&reason=research&api_key=65XmZXKU1X6yqFKJ7e4Dab5x35seXfubayeQ4D5a&attributes=ghi,dhi,dni,wind_speed,air_temperature,solar_zenith_angle\nhttp://developer.nrel.gov/api/solar/nsrdb_psm3_download.csv?wkt=POINT(-112.99262320000001%2036.952701)&names=2017&leap_day=false&interval=30&utc=true&full_name=Richard+Timpson&email=richardtimpson80@gmail.com&affiliation=University+of+Utah&mailing_list=true&reason=research&api_key=65XmZXKU1X6yqFKJ7e4Dab5x35seXfubayeQ4D5a&attributes=ghi,dhi,dni,wind_speed,air_temperature,solar_zenith_angle\n"
    }
   ],
   "source": [
    "site_drs = []\n",
    "for site in sites:\n",
    "    dr = IrradianceDataReader(site)\n",
    "    location_md = dr.get_location_metadata()\n",
    "    site_ir_md_dict = location_md.to_dict('records')\n",
    "    dr.site['irradiance_md'] = site_ir_md_dict[0]\n",
    "    site_drs.append(dr)"
   ]
  },
  {
   "cell_type": "code",
   "execution_count": 20,
   "metadata": {},
   "outputs": [],
   "source": [
    "import simplejson\n",
    "\n",
    "with open('../../data/site_metadata.json', 'w') as file:\n",
    "    s = simplejson.dumps(sites, file, ignore_nan=True)    \n",
    "    file.write(s)\n"
   ]
  },
  {
   "cell_type": "markdown",
   "metadata": {},
   "source": [
    "Storing the metadata in the site_metadata file is the wrong thing to do. \n",
    "What I would like to have is a solar irradience site metadata file, with the \n",
    "site_metadata file simply holding the id of it's corresponding irradiance site. \n",
    "I'll have to manipulate the sites again to make that work"
   ]
  },
  {
   "cell_type": "code",
   "execution_count": 11,
   "metadata": {},
   "outputs": [],
   "source": [
    "with open('../../data/site_metadata.json', 'r') as file:\n",
    "    s = file.read()\n",
    "sites = json.loads(s)"
   ]
  },
  {
   "cell_type": "code",
   "execution_count": 17,
   "metadata": {},
   "outputs": [
    {
     "data": {
      "text/plain": "{113805: {'start_year': 2015,\n  'end_year': 2018,\n  'md': {'Source': 'NSRDB',\n   'Location ID': 113805,\n   'City': '-',\n   'State': '-',\n   'Country': '-',\n   'Latitude': 36.97,\n   'Longitude': -112.98,\n   'Time Zone': 0,\n   'Elevation': 1510,\n   'Local Time Zone': -7,\n   'Clearsky DHI Units': 'w/m2',\n   'Clearsky DNI Units': 'w/m2',\n   'Clearsky GHI Units': 'w/m2',\n   'Dew Point Units': 'c',\n   'DHI Units': 'w/m2',\n   'DNI Units': 'w/m2',\n   'GHI Units': 'w/m2',\n   'Solar Zenith Angle Units': 'Degree',\n   'Temperature Units': 'c',\n   'Pressure Units': 'mbar',\n   'Relative Humidity Units': '%',\n   'Precipitable Water Units': 'cm',\n   'Wind Direction Units': 'Degrees',\n   'Wind Speed': 'm/s',\n   'Cloud Type -15': None,\n   'Cloud Type 0': 'Clear',\n   'Cloud Type 1': 'Probably Clear',\n   'Cloud Type 2': 'Fog',\n   'Cloud Type 3': 'Water',\n   'Cloud Type 4': 'Super-Cooled Water',\n   'Cloud Type 5': 'Mixed',\n   'Cloud Type 6': 'Opaque Ice',\n   'Cloud Type 7': 'Cirrus',\n   'Cloud Type 8': 'Overlapping',\n   'Cloud Type 9': 'Overshooting',\n   'Cloud Type 10': 'Unknown',\n   'Cloud Type 11': 'Dust',\n   'Cloud Type 12': 'Smoke',\n   'Fill Flag 0': None,\n   'Fill Flag 1': 'Missing Image',\n   'Fill Flag 2': 'Low Irradiance',\n   'Fill Flag 3': 'Exceeds Clearsky',\n   'Fill Flag 4': 'Missing CLoud Properties',\n   'Fill Flag 5': 'Rayleigh Violation',\n   'Surface Albedo Units': None,\n   'Version': 'v3.0.1'}},\n 116439: {'start_year': 2019,\n  'end_year': 2018,\n  'md': {'Source': 'NSRDB',\n   'Location ID': 116439,\n   'City': '-',\n   'State': '-',\n   'Country': '-',\n   'Latitude': 37.21,\n   'Longitude': -113.26,\n   'Time Zone': 0,\n   'Elevation': 1055,\n   'Local Time Zone': -7,\n   'Clearsky DHI Units': 'w/m2',\n   'Clearsky DNI Units': 'w/m2',\n   'Clearsky GHI Units': 'w/m2',\n   'Dew Point Units': 'c',\n   'DHI Units': 'w/m2',\n   'DNI Units': 'w/m2',\n   'GHI Units': 'w/m2',\n   'Solar Zenith Angle Units': 'Degree',\n   'Temperature Units': 'c',\n   'Pressure Units': 'mbar',\n   'Relative Humidity Units': '%',\n   'Precipitable Water Units': 'cm',\n   'Wind Direction Units': 'Degrees',\n   'Wind Speed': 'm/s',\n   'Cloud Type -15': None,\n   'Cloud Type 0': 'Clear',\n   'Cloud Type 1': 'Probably Clear',\n   'Cloud Type 2': 'Fog',\n   'Cloud Type 3': 'Water',\n   'Cloud Type 4': 'Super-Cooled Water',\n   'Cloud Type 5': 'Mixed',\n   'Cloud Type 6': 'Opaque Ice',\n   'Cloud Type 7': 'Cirrus',\n   'Cloud Type 8': 'Overlapping',\n   'Cloud Type 9': 'Overshooting',\n   'Cloud Type 10': 'Unknown',\n   'Cloud Type 11': 'Dust',\n   'Cloud Type 12': 'Smoke',\n   'Fill Flag 0': None,\n   'Fill Flag 1': 'Missing Image',\n   'Fill Flag 2': 'Low Irradiance',\n   'Fill Flag 3': 'Exceeds Clearsky',\n   'Fill Flag 4': 'Missing CLoud Properties',\n   'Fill Flag 5': 'Rayleigh Violation',\n   'Surface Albedo Units': None,\n   'Version': 'v3.0.1'}},\n 114245: {'start_year': 2018,\n  'end_year': 2018,\n  'md': {'Source': 'NSRDB',\n   'Location ID': 114245,\n   'City': '-',\n   'State': '-',\n   'Country': '-',\n   'Latitude': 37.01,\n   'Longitude': -112.98,\n   'Time Zone': 0,\n   'Elevation': 1730,\n   'Local Time Zone': -7,\n   'Clearsky DHI Units': 'w/m2',\n   'Clearsky DNI Units': 'w/m2',\n   'Clearsky GHI Units': 'w/m2',\n   'Dew Point Units': 'c',\n   'DHI Units': 'w/m2',\n   'DNI Units': 'w/m2',\n   'GHI Units': 'w/m2',\n   'Solar Zenith Angle Units': 'Degree',\n   'Temperature Units': 'c',\n   'Pressure Units': 'mbar',\n   'Relative Humidity Units': '%',\n   'Precipitable Water Units': 'cm',\n   'Wind Direction Units': 'Degrees',\n   'Wind Speed': 'm/s',\n   'Cloud Type -15': None,\n   'Cloud Type 0': 'Clear',\n   'Cloud Type 1': 'Probably Clear',\n   'Cloud Type 2': 'Fog',\n   'Cloud Type 3': 'Water',\n   'Cloud Type 4': 'Super-Cooled Water',\n   'Cloud Type 5': 'Mixed',\n   'Cloud Type 6': 'Opaque Ice',\n   'Cloud Type 7': 'Cirrus',\n   'Cloud Type 8': 'Overlapping',\n   'Cloud Type 9': 'Overshooting',\n   'Cloud Type 10': 'Unknown',\n   'Cloud Type 11': 'Dust',\n   'Cloud Type 12': 'Smoke',\n   'Fill Flag 0': None,\n   'Fill Flag 1': 'Missing Image',\n   'Fill Flag 2': 'Low Irradiance',\n   'Fill Flag 3': 'Exceeds Clearsky',\n   'Fill Flag 4': 'Missing CLoud Properties',\n   'Fill Flag 5': 'Rayleigh Violation',\n   'Surface Albedo Units': None,\n   'Version': 'v3.0.1'}},\n 119311: {'start_year': 2016,\n  'end_year': 2018,\n  'md': {'Source': 'NSRDB',\n   'Location ID': 119311,\n   'City': '-',\n   'State': '-',\n   'Country': '-',\n   'Latitude': 37.49,\n   'Longitude': -122.3,\n   'Time Zone': 0,\n   'Elevation': 143,\n   'Local Time Zone': -8,\n   'Clearsky DHI Units': 'w/m2',\n   'Clearsky DNI Units': 'w/m2',\n   'Clearsky GHI Units': 'w/m2',\n   'Dew Point Units': 'c',\n   'DHI Units': 'w/m2',\n   'DNI Units': 'w/m2',\n   'GHI Units': 'w/m2',\n   'Solar Zenith Angle Units': 'Degree',\n   'Temperature Units': 'c',\n   'Pressure Units': 'mbar',\n   'Relative Humidity Units': '%',\n   'Precipitable Water Units': 'cm',\n   'Wind Direction Units': 'Degrees',\n   'Wind Speed': 'm/s',\n   'Cloud Type -15': None,\n   'Cloud Type 0': 'Clear',\n   'Cloud Type 1': 'Probably Clear',\n   'Cloud Type 2': 'Fog',\n   'Cloud Type 3': 'Water',\n   'Cloud Type 4': 'Super-Cooled Water',\n   'Cloud Type 5': 'Mixed',\n   'Cloud Type 6': 'Opaque Ice',\n   'Cloud Type 7': 'Cirrus',\n   'Cloud Type 8': 'Overlapping',\n   'Cloud Type 9': 'Overshooting',\n   'Cloud Type 10': 'Unknown',\n   'Cloud Type 11': 'Dust',\n   'Cloud Type 12': 'Smoke',\n   'Fill Flag 0': None,\n   'Fill Flag 1': 'Missing Image',\n   'Fill Flag 2': 'Low Irradiance',\n   'Fill Flag 3': 'Exceeds Clearsky',\n   'Fill Flag 4': 'Missing CLoud Properties',\n   'Fill Flag 5': 'Rayleigh Violation',\n   'Surface Albedo Units': None,\n   'Version': 'v3.0.1'}},\n 89627: {'start_year': 2016,\n  'end_year': 2018,\n  'md': {'Source': 'NSRDB',\n   'Location ID': 89627,\n   'City': '-',\n   'State': '-',\n   'Country': '-',\n   'Latitude': 34.65,\n   'Longitude': -111.78,\n   'Time Zone': 0,\n   'Elevation': 1098,\n   'Local Time Zone': -7,\n   'Clearsky DHI Units': 'w/m2',\n   'Clearsky DNI Units': 'w/m2',\n   'Clearsky GHI Units': 'w/m2',\n   'Dew Point Units': 'c',\n   'DHI Units': 'w/m2',\n   'DNI Units': 'w/m2',\n   'GHI Units': 'w/m2',\n   'Solar Zenith Angle Units': 'Degree',\n   'Temperature Units': 'c',\n   'Pressure Units': 'mbar',\n   'Relative Humidity Units': '%',\n   'Precipitable Water Units': 'cm',\n   'Wind Direction Units': 'Degrees',\n   'Wind Speed': 'm/s',\n   'Cloud Type -15': None,\n   'Cloud Type 0': 'Clear',\n   'Cloud Type 1': 'Probably Clear',\n   'Cloud Type 2': 'Fog',\n   'Cloud Type 3': 'Water',\n   'Cloud Type 4': 'Super-Cooled Water',\n   'Cloud Type 5': 'Mixed',\n   'Cloud Type 6': 'Opaque Ice',\n   'Cloud Type 7': 'Cirrus',\n   'Cloud Type 8': 'Overlapping',\n   'Cloud Type 9': 'Overshooting',\n   'Cloud Type 10': 'Unknown',\n   'Cloud Type 11': 'Dust',\n   'Cloud Type 12': 'Smoke',\n   'Fill Flag 0': None,\n   'Fill Flag 1': 'Missing Image',\n   'Fill Flag 2': 'Low Irradiance',\n   'Fill Flag 3': 'Exceeds Clearsky',\n   'Fill Flag 4': 'Missing CLoud Properties',\n   'Fill Flag 5': 'Rayleigh Violation',\n   'Surface Albedo Units': None,\n   'Version': 'v3.0.1'}},\n 151965: {'start_year': 2017,\n  'end_year': 2018,\n  'md': {'Source': 'NSRDB',\n   'Location ID': 151965,\n   'City': '-',\n   'State': '-',\n   'Country': '-',\n   'Latitude': 40.25,\n   'Longitude': -111.7,\n   'Time Zone': 0,\n   'Elevation': 1398,\n   'Local Time Zone': -7,\n   'Clearsky DHI Units': 'w/m2',\n   'Clearsky DNI Units': 'w/m2',\n   'Clearsky GHI Units': 'w/m2',\n   'Dew Point Units': 'c',\n   'DHI Units': 'w/m2',\n   'DNI Units': 'w/m2',\n   'GHI Units': 'w/m2',\n   'Solar Zenith Angle Units': 'Degree',\n   'Temperature Units': 'c',\n   'Pressure Units': 'mbar',\n   'Relative Humidity Units': '%',\n   'Precipitable Water Units': 'cm',\n   'Wind Direction Units': 'Degrees',\n   'Wind Speed': 'm/s',\n   'Cloud Type -15': None,\n   'Cloud Type 0': 'Clear',\n   'Cloud Type 1': 'Probably Clear',\n   'Cloud Type 2': 'Fog',\n   'Cloud Type 3': 'Water',\n   'Cloud Type 4': 'Super-Cooled Water',\n   'Cloud Type 5': 'Mixed',\n   'Cloud Type 6': 'Opaque Ice',\n   'Cloud Type 7': 'Cirrus',\n   'Cloud Type 8': 'Overlapping',\n   'Cloud Type 9': 'Overshooting',\n   'Cloud Type 10': 'Unknown',\n   'Cloud Type 11': 'Dust',\n   'Cloud Type 12': 'Smoke',\n   'Fill Flag 0': None,\n   'Fill Flag 1': 'Missing Image',\n   'Fill Flag 2': 'Low Irradiance',\n   'Fill Flag 3': 'Exceeds Clearsky',\n   'Fill Flag 4': 'Missing CLoud Properties',\n   'Fill Flag 5': 'Rayleigh Violation',\n   'Surface Albedo Units': None,\n   'Version': 'v3.0.1'}},\n 114696: {'start_year': 2018,\n  'end_year': 2018,\n  'md': {'Source': 'NSRDB',\n   'Location ID': 114696,\n   'City': '-',\n   'State': '-',\n   'Country': '-',\n   'Latitude': 37.05,\n   'Longitude': -112.54,\n   'Time Zone': 0,\n   'Elevation': 1589,\n   'Local Time Zone': -7,\n   'Clearsky DHI Units': 'w/m2',\n   'Clearsky DNI Units': 'w/m2',\n   'Clearsky GHI Units': 'w/m2',\n   'Dew Point Units': 'c',\n   'DHI Units': 'w/m2',\n   'DNI Units': 'w/m2',\n   'GHI Units': 'w/m2',\n   'Solar Zenith Angle Units': 'Degree',\n   'Temperature Units': 'c',\n   'Pressure Units': 'mbar',\n   'Relative Humidity Units': '%',\n   'Precipitable Water Units': 'cm',\n   'Wind Direction Units': 'Degrees',\n   'Wind Speed': 'm/s',\n   'Cloud Type -15': None,\n   'Cloud Type 0': 'Clear',\n   'Cloud Type 1': 'Probably Clear',\n   'Cloud Type 2': 'Fog',\n   'Cloud Type 3': 'Water',\n   'Cloud Type 4': 'Super-Cooled Water',\n   'Cloud Type 5': 'Mixed',\n   'Cloud Type 6': 'Opaque Ice',\n   'Cloud Type 7': 'Cirrus',\n   'Cloud Type 8': 'Overlapping',\n   'Cloud Type 9': 'Overshooting',\n   'Cloud Type 10': 'Unknown',\n   'Cloud Type 11': 'Dust',\n   'Cloud Type 12': 'Smoke',\n   'Fill Flag 0': None,\n   'Fill Flag 1': 'Missing Image',\n   'Fill Flag 2': 'Low Irradiance',\n   'Fill Flag 3': 'Exceeds Clearsky',\n   'Fill Flag 4': 'Missing CLoud Properties',\n   'Fill Flag 5': 'Rayleigh Violation',\n   'Surface Albedo Units': None,\n   'Version': 'v3.0.1'}},\n 80122: {'start_year': 2018,\n  'end_year': 2018,\n  'md': {'Source': 'NSRDB',\n   'Location ID': 80122,\n   'City': '-',\n   'State': '-',\n   'Country': '-',\n   'Latitude': 33.69,\n   'Longitude': -118.02,\n   'Time Zone': 0,\n   'Elevation': 6,\n   'Local Time Zone': -8,\n   'Clearsky DHI Units': 'w/m2',\n   'Clearsky DNI Units': 'w/m2',\n   'Clearsky GHI Units': 'w/m2',\n   'Dew Point Units': 'c',\n   'DHI Units': 'w/m2',\n   'DNI Units': 'w/m2',\n   'GHI Units': 'w/m2',\n   'Solar Zenith Angle Units': 'Degree',\n   'Temperature Units': 'c',\n   'Pressure Units': 'mbar',\n   'Relative Humidity Units': '%',\n   'Precipitable Water Units': 'cm',\n   'Wind Direction Units': 'Degrees',\n   'Wind Speed': 'm/s',\n   'Cloud Type -15': None,\n   'Cloud Type 0': 'Clear',\n   'Cloud Type 1': 'Probably Clear',\n   'Cloud Type 2': 'Fog',\n   'Cloud Type 3': 'Water',\n   'Cloud Type 4': 'Super-Cooled Water',\n   'Cloud Type 5': 'Mixed',\n   'Cloud Type 6': 'Opaque Ice',\n   'Cloud Type 7': 'Cirrus',\n   'Cloud Type 8': 'Overlapping',\n   'Cloud Type 9': 'Overshooting',\n   'Cloud Type 10': 'Unknown',\n   'Cloud Type 11': 'Dust',\n   'Cloud Type 12': 'Smoke',\n   'Fill Flag 0': None,\n   'Fill Flag 1': 'Missing Image',\n   'Fill Flag 2': 'Low Irradiance',\n   'Fill Flag 3': 'Exceeds Clearsky',\n   'Fill Flag 4': 'Missing CLoud Properties',\n   'Fill Flag 5': 'Rayleigh Violation',\n   'Surface Albedo Units': None,\n   'Version': 'v3.0.1'}},\n 113806: {'start_year': 2018,\n  'end_year': 2018,\n  'md': {'Source': 'NSRDB',\n   'Location ID': 113806,\n   'City': '-',\n   'State': '-',\n   'Country': '-',\n   'Latitude': 36.97,\n   'Longitude': -112.94,\n   'Time Zone': 0,\n   'Elevation': 1698,\n   'Local Time Zone': -7,\n   'Clearsky DHI Units': 'w/m2',\n   'Clearsky DNI Units': 'w/m2',\n   'Clearsky GHI Units': 'w/m2',\n   'Dew Point Units': 'c',\n   'DHI Units': 'w/m2',\n   'DNI Units': 'w/m2',\n   'GHI Units': 'w/m2',\n   'Solar Zenith Angle Units': 'Degree',\n   'Temperature Units': 'c',\n   'Pressure Units': 'mbar',\n   'Relative Humidity Units': '%',\n   'Precipitable Water Units': 'cm',\n   'Wind Direction Units': 'Degrees',\n   'Wind Speed': 'm/s',\n   'Cloud Type -15': None,\n   'Cloud Type 0': 'Clear',\n   'Cloud Type 1': 'Probably Clear',\n   'Cloud Type 2': 'Fog',\n   'Cloud Type 3': 'Water',\n   'Cloud Type 4': 'Super-Cooled Water',\n   'Cloud Type 5': 'Mixed',\n   'Cloud Type 6': 'Opaque Ice',\n   'Cloud Type 7': 'Cirrus',\n   'Cloud Type 8': 'Overlapping',\n   'Cloud Type 9': 'Overshooting',\n   'Cloud Type 10': 'Unknown',\n   'Cloud Type 11': 'Dust',\n   'Cloud Type 12': 'Smoke',\n   'Fill Flag 0': None,\n   'Fill Flag 1': 'Missing Image',\n   'Fill Flag 2': 'Low Irradiance',\n   'Fill Flag 3': 'Exceeds Clearsky',\n   'Fill Flag 4': 'Missing CLoud Properties',\n   'Fill Flag 5': 'Rayleigh Violation',\n   'Surface Albedo Units': None,\n   'Version': 'v3.0.1'}},\n 115995: {'start_year': 2017,\n  'end_year': 2018,\n  'md': {'Source': 'NSRDB',\n   'Location ID': 115995,\n   'City': '-',\n   'State': '-',\n   'Country': '-',\n   'Latitude': 37.17,\n   'Longitude': -113.38,\n   'Time Zone': 0,\n   'Elevation': 890,\n   'Local Time Zone': -7,\n   'Clearsky DHI Units': 'w/m2',\n   'Clearsky DNI Units': 'w/m2',\n   'Clearsky GHI Units': 'w/m2',\n   'Dew Point Units': 'c',\n   'DHI Units': 'w/m2',\n   'DNI Units': 'w/m2',\n   'GHI Units': 'w/m2',\n   'Solar Zenith Angle Units': 'Degree',\n   'Temperature Units': 'c',\n   'Pressure Units': 'mbar',\n   'Relative Humidity Units': '%',\n   'Precipitable Water Units': 'cm',\n   'Wind Direction Units': 'Degrees',\n   'Wind Speed': 'm/s',\n   'Cloud Type -15': None,\n   'Cloud Type 0': 'Clear',\n   'Cloud Type 1': 'Probably Clear',\n   'Cloud Type 2': 'Fog',\n   'Cloud Type 3': 'Water',\n   'Cloud Type 4': 'Super-Cooled Water',\n   'Cloud Type 5': 'Mixed',\n   'Cloud Type 6': 'Opaque Ice',\n   'Cloud Type 7': 'Cirrus',\n   'Cloud Type 8': 'Overlapping',\n   'Cloud Type 9': 'Overshooting',\n   'Cloud Type 10': 'Unknown',\n   'Cloud Type 11': 'Dust',\n   'Cloud Type 12': 'Smoke',\n   'Fill Flag 0': None,\n   'Fill Flag 1': 'Missing Image',\n   'Fill Flag 2': 'Low Irradiance',\n   'Fill Flag 3': 'Exceeds Clearsky',\n   'Fill Flag 4': 'Missing CLoud Properties',\n   'Fill Flag 5': 'Rayleigh Violation',\n   'Surface Albedo Units': None,\n   'Version': 'v3.0.1'}},\n 157836: {'start_year': 2017,\n  'end_year': 2018,\n  'md': {'Source': 'NSRDB',\n   'Location ID': 157836,\n   'City': '-',\n   'State': '-',\n   'Country': '-',\n   'Latitude': 40.73,\n   'Longitude': -111.98,\n   'Time Zone': 0,\n   'Elevation': 1269,\n   'Local Time Zone': -7,\n   'Clearsky DHI Units': 'w/m2',\n   'Clearsky DNI Units': 'w/m2',\n   'Clearsky GHI Units': 'w/m2',\n   'Dew Point Units': 'c',\n   'DHI Units': 'w/m2',\n   'DNI Units': 'w/m2',\n   'GHI Units': 'w/m2',\n   'Solar Zenith Angle Units': 'Degree',\n   'Temperature Units': 'c',\n   'Pressure Units': 'mbar',\n   'Relative Humidity Units': '%',\n   'Precipitable Water Units': 'cm',\n   'Wind Direction Units': 'Degrees',\n   'Wind Speed': 'm/s',\n   'Cloud Type -15': None,\n   'Cloud Type 0': 'Clear',\n   'Cloud Type 1': 'Probably Clear',\n   'Cloud Type 2': 'Fog',\n   'Cloud Type 3': 'Water',\n   'Cloud Type 4': 'Super-Cooled Water',\n   'Cloud Type 5': 'Mixed',\n   'Cloud Type 6': 'Opaque Ice',\n   'Cloud Type 7': 'Cirrus',\n   'Cloud Type 8': 'Overlapping',\n   'Cloud Type 9': 'Overshooting',\n   'Cloud Type 10': 'Unknown',\n   'Cloud Type 11': 'Dust',\n   'Cloud Type 12': 'Smoke',\n   'Fill Flag 0': None,\n   'Fill Flag 1': 'Missing Image',\n   'Fill Flag 2': 'Low Irradiance',\n   'Fill Flag 3': 'Exceeds Clearsky',\n   'Fill Flag 4': 'Missing CLoud Properties',\n   'Fill Flag 5': 'Rayleigh Violation',\n   'Surface Albedo Units': None,\n   'Version': 'v3.0.1'}}}"
     },
     "execution_count": 17,
     "metadata": {},
     "output_type": "execute_result"
    }
   ],
   "source": [
    "for site in sites:\n",
    "    md = site['irradiance_md']\n",
    "    ir_id = md['Location ID']\n",
    "    irradiance_metadata[ir_id]['md'] = md\n",
    "\n",
    "irradiance_metadata"
   ]
  },
  {
   "cell_type": "code",
   "execution_count": 18,
   "metadata": {},
   "outputs": [],
   "source": [
    "import simplejson\n",
    "\n",
    "with open('../../data/irradiance_metadata.json', 'w') as file:\n",
    "    s = simplejson.dumps(irradiance_metadata, file, ignore_nan=True)\n",
    "    file.write(s)"
   ]
  },
  {
   "cell_type": "markdown",
   "metadata": {},
   "source": [
    "Now I need to rewrite the site_metadata file to not have the metadata"
   ]
  },
  {
   "cell_type": "code",
   "execution_count": 19,
   "metadata": {},
   "outputs": [],
   "source": [
    "for site in sites:\n",
    "    ir_id = site['irradiance_md']['Location ID']\n",
    "    site['irradiance_site_id'] = ir_id\n",
    "    del site['irradiance_md']"
   ]
  },
  {
   "cell_type": "code",
   "execution_count": 20,
   "metadata": {},
   "outputs": [],
   "source": [
    "import simplejson\n",
    "\n",
    "with open('../../data/site_metadata.json', 'w') as file:\n",
    "    s = simplejson.dumps(sites, file, ignore_nan=True)    \n",
    "    file.write(s)"
   ]
  },
  {
   "cell_type": "code",
   "execution_count": null,
   "metadata": {},
   "outputs": [],
   "source": []
  }
 ],
 "metadata": {
  "kernelspec": {
   "display_name": "Python 3",
   "language": "python",
   "name": "python3"
  },
  "language_info": {
   "codemirror_mode": {
    "name": "ipython",
    "version": 3
   },
   "file_extension": ".py",
   "mimetype": "text/x-python",
   "name": "python",
   "nbconvert_exporter": "python",
   "pygments_lexer": "ipython3",
   "version": "3.7.4-final"
  }
 },
 "nbformat": 4,
 "nbformat_minor": 4
}