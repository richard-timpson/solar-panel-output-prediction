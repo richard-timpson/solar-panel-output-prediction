{
 "nbformat": 4,
 "nbformat_minor": 2,
 "metadata": {
  "language_info": {
   "name": "python",
   "codemirror_mode": {
    "name": "ipython",
    "version": 3
   },
   "version": "3.7.4-final"
  },
  "orig_nbformat": 2,
  "file_extension": ".py",
  "mimetype": "text/x-python",
  "name": "python",
  "npconvert_exporter": "python",
  "pygments_lexer": "ipython3",
  "version": 3,
  "kernelspec": {
   "name": "python3",
   "display_name": "Python 3"
  }
 },
 "cells": [
  {
   "cell_type": "markdown",
   "metadata": {},
   "source": [
    "# Check data sources"
   ]
  },
  {
   "cell_type": "markdown",
   "metadata": {},
   "source": [
    "The first thing I want to do is check what solar edge systems have metering or battery information. Right now I know of two that have metering and one that also has battery. I would like to know if there are any more"
   ]
  },
  {
   "cell_type": "code",
   "execution_count": 1,
   "metadata": {},
   "outputs": [],
   "source": [
    "%load_ext autoreload\n",
    "%autoreload 2"
   ]
  },
  {
   "cell_type": "code",
   "execution_count": 2,
   "metadata": {},
   "outputs": [],
   "source": [
    "import os\n",
    "import sys\n",
    "module_path = os.path.abspath(os.path.join('..'))\n",
    "if module_path not in sys.path:\n",
    "    sys.path.append(module_path)\n",
    ""
   ]
  },
  {
   "cell_type": "code",
   "execution_count": 3,
   "metadata": {},
   "outputs": [
    {
     "output_type": "stream",
     "name": "stdout",
     "text": "/Users/richardtimpson/Documents/energbase/SchoolProject/code/libraries\n"
    }
   ],
   "source": [
    "from libraries.solar_edge_api import SolarEdgeApi\n",
    "se_api = SolarEdgeApi(True)"
   ]
  },
  {
   "cell_type": "code",
   "execution_count": 4,
   "metadata": {},
   "outputs": [
    {
     "output_type": "stream",
     "name": "stdout",
     "text": "Making SolarEdge Api call\nRequest succeeded!\n"
    }
   ],
   "source": [
    "sites = se_api.get_site_list()"
   ]
  },
  {
   "cell_type": "code",
   "execution_count": 5,
   "metadata": {},
   "outputs": [],
   "source": [
    "site_md = sites['sites']['site']"
   ]
  },
  {
   "cell_type": "code",
   "execution_count": 6,
   "metadata": {},
   "outputs": [
    {
     "output_type": "stream",
     "name": "stdout",
     "text": "Making SolarEdge Api call\nRequest succeeded!\nMaking SolarEdge Api call\nRequest succeeded!\nMaking SolarEdge Api call\nRequest succeeded!\nMaking SolarEdge Api call\nRequest succeeded!\nMaking SolarEdge Api call\nRequest succeeded!\nMaking SolarEdge Api call\nRequest succeeded!\nMaking SolarEdge Api call\nRequest succeeded!\nMaking SolarEdge Api call\nRequest succeeded!\nsite Huntington Beach (896164) has meters batteries\nMaking SolarEdge Api call\nRequest succeeded!\nMaking SolarEdge Api call\nRequest succeeded!\nsite Lot 5 CopperRock (1520780) has meters \nMaking SolarEdge Api call\nRequest succeeded!\nsite Lot 8 Copper Rock (1520756) has meters \nMaking SolarEdge Api call\nRequest succeeded!\nMaking SolarEdge Api call\nRequest succeeded!\nMaking SolarEdge Api call\nRequest succeeded!\nsite Ronald L. McClellan Sr. (466851) has meters \nMaking SolarEdge Api call\nRequest succeeded!\nMaking SolarEdge Api call\nRequest succeeded!\n"
    }
   ],
   "source": [
    "for site in site_md:\n",
    "    site_id = site['id']\n",
    "    inventory = se_api.get_site_inventory(site_id)\n",
    "\n",
    "    if inventory:\n",
    "        meters = False\n",
    "        batteries = False\n",
    "\n",
    "        if inventory['Inventory']['meters']:\n",
    "            meters = True\n",
    "\n",
    "        if inventory['Inventory']['batteries']:\n",
    "            batteries = True\n",
    "\n",
    "        if meters or batteries:\n",
    "            print(f'site {site[\"name\"]} ({site_id}) has {\"meters\" if meters else \"\"} {\"batteries\" if batteries else \"\"}')"
   ]
  },
  {
   "cell_type": "markdown",
   "metadata": {},
   "source": [
    "My initial assumptions were verified. We want to get consumption data for system 896164, 1520780, 1520756, and 466851"
   ]
  },
  {
   "cell_type": "markdown",
   "metadata": {},
   "source": [
    "# Gather SolarEdge Consumption data"
   ]
  },
  {
   "cell_type": "code",
   "execution_count": 11,
   "metadata": {},
   "outputs": [
    {
     "output_type": "stream",
     "name": "stdout",
     "text": "Making SolarEdge Api call\nRequest succeeded!\n{'startDate': '2018-11-06', 'endDate': '2020-04-07'}\n2018-11-06 00:00:00 2018-12-06 00:00:00\nMaking SolarEdge Api call\nRequest succeeded!\n2018-12-06 00:00:00 2019-01-06 00:00:00\nMaking SolarEdge Api call\nRequest succeeded!\n2019-01-06 00:00:00 2019-02-06 00:00:00\nMaking SolarEdge Api call\nRequest succeeded!\n2019-02-06 00:00:00 2019-03-06 00:00:00\nMaking SolarEdge Api call\nRequest succeeded!\n2019-03-06 00:00:00 2019-04-06 00:00:00\nMaking SolarEdge Api call\nRequest succeeded!\n2019-04-06 00:00:00 2019-05-06 00:00:00\nMaking SolarEdge Api call\nRequest succeeded!\n2019-05-06 00:00:00 2019-06-06 00:00:00\nMaking SolarEdge Api call\nRequest succeeded!\n2019-06-06 00:00:00 2019-07-06 00:00:00\nMaking SolarEdge Api call\nRequest succeeded!\n2019-07-06 00:00:00 2019-08-06 00:00:00\nMaking SolarEdge Api call\nRequest succeeded!\n2019-08-06 00:00:00 2019-09-06 00:00:00\nMaking SolarEdge Api call\nRequest succeeded!\n2019-09-06 00:00:00 2019-10-06 00:00:00\nMaking SolarEdge Api call\nRequest succeeded!\n2019-10-06 00:00:00 2019-11-06 00:00:00\nMaking SolarEdge Api call\nRequest succeeded!\n2019-11-06 00:00:00 2019-12-06 00:00:00\nMaking SolarEdge Api call\nRequest succeeded!\n2019-12-06 00:00:00 2020-01-06 00:00:00\nMaking SolarEdge Api call\nRequest succeeded!\n2020-01-06 00:00:00 2020-02-06 00:00:00\nMaking SolarEdge Api call\nRequest succeeded!\n2020-02-06 00:00:00 2020-03-06 00:00:00\nMaking SolarEdge Api call\nRequest succeeded!\n2020-03-06 00:00:00 2020-04-06 00:00:00\nMaking SolarEdge Api call\nRequest succeeded!\nMaking SolarEdge Api call\nRequest succeeded!\n{'startDate': '2020-02-10', 'endDate': '2020-04-07'}\n2020-02-10 00:00:00 2020-03-10 00:00:00\nMaking SolarEdge Api call\nRequest succeeded!\nMaking SolarEdge Api call\nRequest succeeded!\n{'startDate': '2020-02-10', 'endDate': '2020-04-07'}\n2020-02-10 00:00:00 2020-03-10 00:00:00\nMaking SolarEdge Api call\nRequest succeeded!\nMaking SolarEdge Api call\nRequest succeeded!\n{'startDate': '2017-02-24', 'endDate': '2020-04-01'}\n2017-02-24 00:00:00 2017-03-24 00:00:00\nMaking SolarEdge Api call\nRequest succeeded!\n2017-03-24 00:00:00 2017-04-24 00:00:00\nMaking SolarEdge Api call\nRequest succeeded!\n2017-04-24 00:00:00 2017-05-24 00:00:00\nMaking SolarEdge Api call\nRequest succeeded!\n2017-05-24 00:00:00 2017-06-24 00:00:00\nMaking SolarEdge Api call\nRequest succeeded!\n2017-06-24 00:00:00 2017-07-24 00:00:00\nMaking SolarEdge Api call\nRequest succeeded!\n2017-07-24 00:00:00 2017-08-24 00:00:00\nMaking SolarEdge Api call\nRequest succeeded!\n2017-08-24 00:00:00 2017-09-24 00:00:00\nMaking SolarEdge Api call\nRequest succeeded!\n2017-09-24 00:00:00 2017-10-24 00:00:00\nMaking SolarEdge Api call\nRequest succeeded!\n2017-10-24 00:00:00 2017-11-24 00:00:00\nMaking SolarEdge Api call\nRequest succeeded!\n2017-11-24 00:00:00 2017-12-24 00:00:00\nMaking SolarEdge Api call\nRequest succeeded!\n2017-12-24 00:00:00 2018-01-24 00:00:00\nMaking SolarEdge Api call\nRequest succeeded!\n2018-01-24 00:00:00 2018-02-24 00:00:00\nMaking SolarEdge Api call\nRequest succeeded!\n2018-02-24 00:00:00 2018-03-24 00:00:00\nMaking SolarEdge Api call\nRequest succeeded!\n2018-03-24 00:00:00 2018-04-24 00:00:00\nMaking SolarEdge Api call\nRequest succeeded!\n2018-04-24 00:00:00 2018-05-24 00:00:00\nMaking SolarEdge Api call\nRequest succeeded!\n2018-05-24 00:00:00 2018-06-24 00:00:00\nMaking SolarEdge Api call\nRequest succeeded!\n2018-06-24 00:00:00 2018-07-24 00:00:00\nMaking SolarEdge Api call\nRequest succeeded!\n2018-07-24 00:00:00 2018-08-24 00:00:00\nMaking SolarEdge Api call\nRequest succeeded!\n2018-08-24 00:00:00 2018-09-24 00:00:00\nMaking SolarEdge Api call\nRequest succeeded!\n2018-09-24 00:00:00 2018-10-24 00:00:00\nMaking SolarEdge Api call\nRequest succeeded!\n2018-10-24 00:00:00 2018-11-24 00:00:00\nMaking SolarEdge Api call\nRequest succeeded!\n2018-11-24 00:00:00 2018-12-24 00:00:00\nMaking SolarEdge Api call\nRequest succeeded!\n2018-12-24 00:00:00 2019-01-24 00:00:00\nMaking SolarEdge Api call\nRequest succeeded!\n2019-01-24 00:00:00 2019-02-24 00:00:00\nMaking SolarEdge Api call\nRequest succeeded!\n2019-02-24 00:00:00 2019-03-24 00:00:00\nMaking SolarEdge Api call\nRequest succeeded!\n2019-03-24 00:00:00 2019-04-24 00:00:00\nMaking SolarEdge Api call\nRequest succeeded!\n2019-04-24 00:00:00 2019-05-24 00:00:00\nMaking SolarEdge Api call\nRequest succeeded!\n2019-05-24 00:00:00 2019-06-24 00:00:00\nMaking SolarEdge Api call\nRequest succeeded!\n2019-06-24 00:00:00 2019-07-24 00:00:00\nMaking SolarEdge Api call\nRequest succeeded!\n2019-07-24 00:00:00 2019-08-24 00:00:00\nMaking SolarEdge Api call\nRequest succeeded!\n2019-08-24 00:00:00 2019-09-24 00:00:00\nMaking SolarEdge Api call\nRequest succeeded!\n2019-09-24 00:00:00 2019-10-24 00:00:00\nMaking SolarEdge Api call\nRequest succeeded!\n2019-10-24 00:00:00 2019-11-24 00:00:00\nMaking SolarEdge Api call\nRequest succeeded!\n2019-11-24 00:00:00 2019-12-24 00:00:00\nMaking SolarEdge Api call\nRequest succeeded!\n2019-12-24 00:00:00 2020-01-24 00:00:00\nMaking SolarEdge Api call\nRequest succeeded!\n2020-01-24 00:00:00 2020-02-24 00:00:00\nMaking SolarEdge Api call\nRequest succeeded!\n2020-02-24 00:00:00 2020-03-24 00:00:00\nMaking SolarEdge Api call\nRequest succeeded!\n"
    }
   ],
   "source": [
    "import datetime\n",
    "\n",
    "site_ids = [896164, 1520780, 1520756, 466851]\n",
    "consumption_data = {site_id: None for site_id in site_ids }\n",
    "for site in site_md:\n",
    "    if site['id'] in site_ids:\n",
    "        data_period = se_api.get_data_period(site['id'])['dataPeriod']\n",
    "        print(data_period)\n",
    "        time_fmt = '%Y-%m-%d'\n",
    "        start = datetime.datetime.strptime(data_period['startDate'], time_fmt)\n",
    "        end = datetime.datetime.strptime(data_period['endDate'], time_fmt) \n",
    "        data = se_api.get_site_consumption_half_hour_range(site['id'], start, end)\n",
    "        consumption_data[site['id']] = data "
   ]
  },
  {
   "cell_type": "code",
   "execution_count": 18,
   "metadata": {},
   "outputs": [],
   "source": [
    "import pandas as pd\n",
    "\n",
    "\n",
    "consumption_data_dfs = {}\n",
    "for key, value in consumption_data.items():\n",
    "    dfs = []\n",
    "    # print(value)\n",
    "    for d in value:\n",
    "        data = None \n",
    "        for x in d['energyDetails']['meters']:\n",
    "            if x['type'] == 'Consumption':\n",
    "                data = x['values']\n",
    "        df = pd.DataFrame(data)\n",
    "        dfs.append(df)\n",
    "    df = pd.concat(dfs)\n",
    "    consumption_data_dfs[key] = df"
   ]
  },
  {
   "cell_type": "code",
   "execution_count": 19,
   "metadata": {},
   "outputs": [
    {
     "output_type": "execute_result",
     "data": {
      "text/plain": "                     date  value\n0     2018-11-06 00:00:00    NaN\n1     2018-11-06 00:15:00    NaN\n2     2018-11-06 00:30:00    NaN\n3     2018-11-06 00:45:00    NaN\n4     2018-11-06 01:00:00    NaN\n...                   ...    ...\n2971  2020-04-05 22:45:00  313.0\n2972  2020-04-05 23:00:00  282.0\n2973  2020-04-05 23:15:00  341.0\n2974  2020-04-05 23:30:00  290.0\n2975  2020-04-05 23:45:00  297.0\n\n[49632 rows x 2 columns]",
      "text/html": "<div>\n<style scoped>\n    .dataframe tbody tr th:only-of-type {\n        vertical-align: middle;\n    }\n\n    .dataframe tbody tr th {\n        vertical-align: top;\n    }\n\n    .dataframe thead th {\n        text-align: right;\n    }\n</style>\n<table border=\"1\" class=\"dataframe\">\n  <thead>\n    <tr style=\"text-align: right;\">\n      <th></th>\n      <th>date</th>\n      <th>value</th>\n    </tr>\n  </thead>\n  <tbody>\n    <tr>\n      <td>0</td>\n      <td>2018-11-06 00:00:00</td>\n      <td>NaN</td>\n    </tr>\n    <tr>\n      <td>1</td>\n      <td>2018-11-06 00:15:00</td>\n      <td>NaN</td>\n    </tr>\n    <tr>\n      <td>2</td>\n      <td>2018-11-06 00:30:00</td>\n      <td>NaN</td>\n    </tr>\n    <tr>\n      <td>3</td>\n      <td>2018-11-06 00:45:00</td>\n      <td>NaN</td>\n    </tr>\n    <tr>\n      <td>4</td>\n      <td>2018-11-06 01:00:00</td>\n      <td>NaN</td>\n    </tr>\n    <tr>\n      <td>...</td>\n      <td>...</td>\n      <td>...</td>\n    </tr>\n    <tr>\n      <td>2971</td>\n      <td>2020-04-05 22:45:00</td>\n      <td>313.0</td>\n    </tr>\n    <tr>\n      <td>2972</td>\n      <td>2020-04-05 23:00:00</td>\n      <td>282.0</td>\n    </tr>\n    <tr>\n      <td>2973</td>\n      <td>2020-04-05 23:15:00</td>\n      <td>341.0</td>\n    </tr>\n    <tr>\n      <td>2974</td>\n      <td>2020-04-05 23:30:00</td>\n      <td>290.0</td>\n    </tr>\n    <tr>\n      <td>2975</td>\n      <td>2020-04-05 23:45:00</td>\n      <td>297.0</td>\n    </tr>\n  </tbody>\n</table>\n<p>49632 rows × 2 columns</p>\n</div>"
     },
     "metadata": {},
     "execution_count": 19
    }
   ],
   "source": [
    "consumption_data_dfs[896164]"
   ]
  },
  {
   "cell_type": "code",
   "execution_count": null,
   "metadata": {},
   "outputs": [],
   "source": []
  }
 ]
}