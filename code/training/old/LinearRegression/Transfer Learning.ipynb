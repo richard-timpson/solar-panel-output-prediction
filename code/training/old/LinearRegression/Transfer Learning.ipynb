{
 "cells": [
  {
   "cell_type": "code",
   "execution_count": 6,
   "metadata": {},
   "outputs": [],
   "source": [
    "import sys \n",
    "sys.path.insert(0, '../DataCleaning')\n",
    "\n",
    "import train_test_split as tts"
   ]
  },
  {
   "cell_type": "code",
   "execution_count": 7,
   "metadata": {},
   "outputs": [
    {
     "output_type": "execute_result",
     "data": {
      "text/plain": "<module 'train_test_split' from '../DataCleaning/train_test_split.py'>"
     },
     "metadata": {},
     "execution_count": 7
    }
   ],
   "source": [
    "import importlib\n",
    "importlib.reload(tts)"
   ]
  },
  {
   "cell_type": "code",
   "execution_count": 8,
   "metadata": {},
   "outputs": [],
   "source": [
    "DATA_DIR = '../../data'"
   ]
  },
  {
   "cell_type": "code",
   "execution_count": 9,
   "metadata": {},
   "outputs": [],
   "source": [
    "import numpy as np\n",
    "from sklearn.linear_model import LinearRegression\n",
    "from sklearn.metrics import mean_squared_error, mean_absolute_error, r2_score\n",
    "import pandas as pd"
   ]
  },
  {
   "cell_type": "code",
   "execution_count": 10,
   "metadata": {},
   "outputs": [],
   "source": [
    "import json\n",
    "\n",
    "with open('../../data/production_data/site_metadata.json', 'r') as file:\n",
    "    s = file.read()\n",
    "    site_md = json.loads(s)"
   ]
  },
  {
   "cell_type": "code",
   "execution_count": 11,
   "metadata": {},
   "outputs": [
    {
     "output_type": "stream",
     "name": "stdout",
     "text": "1232644 116439\n"
    }
   ],
   "source": [
    "from os.path import exists\n",
    "\n",
    "splits = {}\n",
    "\n",
    "#Warning, this takes a while because the join operation is implemented inefficently (like n^2 in the worst case.)\n",
    "for site in site_md:\n",
    "    site_id = site['id']\n",
    "    irradiance_site_id = site['irradiance_site_id']\n",
    "    tz_str = site['location']['timeZone']\n",
    "    \n",
    "    path_production = f\"{DATA_DIR}/production_data/{site_id}/combination_data/production_weather_combination.csv\"\n",
    "    path_irradiance = f\"{DATA_DIR}/irradiance_data/{irradiance_site_id}/irradiance_data.csv\"\n",
    "    \n",
    "    if not exists(path_irradiance):\n",
    "        print(site_id,irradiance_site_id)\n",
    "        continue\n",
    "    \n",
    "    X,Y,title_row = tts.get_irradiance_WPI_data(path_production,path_irradiance, 4,3,tz_str)\n",
    "    splits[site_id] = (X,Y)"
   ]
  },
  {
   "cell_type": "code",
   "execution_count": 12,
   "metadata": {},
   "outputs": [],
   "source": [
    "architecture_file = f\"{DATA_DIR}/panel_architecture.csv\"\n",
    "site_areas = tts.get_total_area(architecture_file)\n",
    "\n",
    "for site_id,area in site_areas.items():\n",
    "    if site_id in splits:\n",
    "        ([X_train,X_test],[Y_train,Y_test]) = splits[site_id]\n",
    "        X_train = tts.append_site_features(X_train,[area])\n",
    "        X_test = tts.append_site_features(X_test,[area])\n",
    "        splits[site_id] = ([X_train,X_test],[Y_train,Y_test])\n",
    "\n",
    "title_row.append(\"area\")"
   ]
  },
  {
   "cell_type": "code",
   "execution_count": 13,
   "metadata": {},
   "outputs": [
    {
     "output_type": "stream",
     "name": "stdout",
     "text": "['day', 'hour', 'precipIntensity', 'precipProbability', 'precipAccumulation', 'precipType_', 'precipType_rain', 'precipType_snow', 'precipType_sleet', 'temperature', 'apparentTemperature', 'dewPoint', 'humidity', 'pressure', 'windSpeed', 'windBearing', 'windGust', 'cloudCover', 'uvIndex', 'visibility', 'ozone', 'GHI', 'DHI', 'DNI', 'area'] 25\n"
    }
   ],
   "source": [
    "print(title_row, len(title_row))"
   ]
  },
  {
   "cell_type": "markdown",
   "metadata": {},
   "source": [
    "First We'll do \"Leave one Out\" transfer learning. Here we'll train on all but one site and test on the site that we left out. This is true transfer learning."
   ]
  },
  {
   "cell_type": "code",
   "execution_count": 14,
   "metadata": {},
   "outputs": [
    {
     "output_type": "execute_result",
     "data": {
      "text/plain": "         irradiance_only     irr_time  weather_only  weather_time  \\\nsite_id                                                             \n103941        246.534541   225.476615    443.820703    333.608607   \n787197        458.741006   441.875406    676.095814    493.189830   \n238320        406.768778   400.295024    215.158797    194.184444   \n349060        195.153020   195.418662    366.227301    277.764976   \n477834        185.225738   182.273051    180.990243    165.603927   \n641826       1415.125092  1356.645292   1400.275253   1340.890427   \n896164        169.821445   173.107516    213.166462    209.297813   \n717193       2452.825849  2423.531521   2755.743480   2454.798066   \n627759        661.845473   562.320608   1158.978721    830.920466   \n569932       1144.587302  1107.587695    912.295012    824.118052   \n466851        391.530984   388.710669    387.033111    351.779515   \n256177       1250.532543  1007.646441   1464.897083   1117.650983   \n505347       2176.078319  1857.789721   3596.918498   2653.043743   \n\n         weather_irr          all  \nsite_id                            \n103941    230.734887   214.282454  \n787197    420.689423   414.346982  \n238320    180.539331   179.062503  \n349060    173.514858   172.418634  \n477834    146.007381   141.265141  \n641826   1129.709809  1074.484228  \n896164    165.401586   166.997995  \n717193   2235.588756  2228.444875  \n627759    604.447385   553.548312  \n569932    742.778756   714.950626  \n466851    325.688510   314.316423  \n256177   1103.700017   967.449399  \n505347   2004.302758  1799.138929  ",
      "text/html": "<div>\n<style scoped>\n    .dataframe tbody tr th:only-of-type {\n        vertical-align: middle;\n    }\n\n    .dataframe tbody tr th {\n        vertical-align: top;\n    }\n\n    .dataframe thead th {\n        text-align: right;\n    }\n</style>\n<table border=\"1\" class=\"dataframe\">\n  <thead>\n    <tr style=\"text-align: right;\">\n      <th></th>\n      <th>irradiance_only</th>\n      <th>irr_time</th>\n      <th>weather_only</th>\n      <th>weather_time</th>\n      <th>weather_irr</th>\n      <th>all</th>\n    </tr>\n    <tr>\n      <th>site_id</th>\n      <th></th>\n      <th></th>\n      <th></th>\n      <th></th>\n      <th></th>\n      <th></th>\n    </tr>\n  </thead>\n  <tbody>\n    <tr>\n      <th>103941</th>\n      <td>246.534541</td>\n      <td>225.476615</td>\n      <td>443.820703</td>\n      <td>333.608607</td>\n      <td>230.734887</td>\n      <td>214.282454</td>\n    </tr>\n    <tr>\n      <th>787197</th>\n      <td>458.741006</td>\n      <td>441.875406</td>\n      <td>676.095814</td>\n      <td>493.189830</td>\n      <td>420.689423</td>\n      <td>414.346982</td>\n    </tr>\n    <tr>\n      <th>238320</th>\n      <td>406.768778</td>\n      <td>400.295024</td>\n      <td>215.158797</td>\n      <td>194.184444</td>\n      <td>180.539331</td>\n      <td>179.062503</td>\n    </tr>\n    <tr>\n      <th>349060</th>\n      <td>195.153020</td>\n      <td>195.418662</td>\n      <td>366.227301</td>\n      <td>277.764976</td>\n      <td>173.514858</td>\n      <td>172.418634</td>\n    </tr>\n    <tr>\n      <th>477834</th>\n      <td>185.225738</td>\n      <td>182.273051</td>\n      <td>180.990243</td>\n      <td>165.603927</td>\n      <td>146.007381</td>\n      <td>141.265141</td>\n    </tr>\n    <tr>\n      <th>641826</th>\n      <td>1415.125092</td>\n      <td>1356.645292</td>\n      <td>1400.275253</td>\n      <td>1340.890427</td>\n      <td>1129.709809</td>\n      <td>1074.484228</td>\n    </tr>\n    <tr>\n      <th>896164</th>\n      <td>169.821445</td>\n      <td>173.107516</td>\n      <td>213.166462</td>\n      <td>209.297813</td>\n      <td>165.401586</td>\n      <td>166.997995</td>\n    </tr>\n    <tr>\n      <th>717193</th>\n      <td>2452.825849</td>\n      <td>2423.531521</td>\n      <td>2755.743480</td>\n      <td>2454.798066</td>\n      <td>2235.588756</td>\n      <td>2228.444875</td>\n    </tr>\n    <tr>\n      <th>627759</th>\n      <td>661.845473</td>\n      <td>562.320608</td>\n      <td>1158.978721</td>\n      <td>830.920466</td>\n      <td>604.447385</td>\n      <td>553.548312</td>\n    </tr>\n    <tr>\n      <th>569932</th>\n      <td>1144.587302</td>\n      <td>1107.587695</td>\n      <td>912.295012</td>\n      <td>824.118052</td>\n      <td>742.778756</td>\n      <td>714.950626</td>\n    </tr>\n    <tr>\n      <th>466851</th>\n      <td>391.530984</td>\n      <td>388.710669</td>\n      <td>387.033111</td>\n      <td>351.779515</td>\n      <td>325.688510</td>\n      <td>314.316423</td>\n    </tr>\n    <tr>\n      <th>256177</th>\n      <td>1250.532543</td>\n      <td>1007.646441</td>\n      <td>1464.897083</td>\n      <td>1117.650983</td>\n      <td>1103.700017</td>\n      <td>967.449399</td>\n    </tr>\n    <tr>\n      <th>505347</th>\n      <td>2176.078319</td>\n      <td>1857.789721</td>\n      <td>3596.918498</td>\n      <td>2653.043743</td>\n      <td>2004.302758</td>\n      <td>1799.138929</td>\n    </tr>\n  </tbody>\n</table>\n</div>"
     },
     "metadata": {},
     "execution_count": 14
    }
   ],
   "source": [
    "ir_results = pd.read_csv(f'Irradiance_results.csv')\n",
    "ir_results = ir_results.astype({'site_id': str})\n",
    "ir_results = ir_results.set_index('site_id')\n",
    "ir_results"
   ]
  },
  {
   "cell_type": "code",
   "execution_count": 15,
   "metadata": {},
   "outputs": [],
   "source": [
    "def combine_site_data(splits,test_site_id=\"\", combine_train_test=False):\n",
    "    X_complete = []\n",
    "    Y_complete = []\n",
    "    for site_id,data in splits.items():\n",
    "        if test_site_id and test_site_id == site_id:\n",
    "            continue\n",
    "        else:\n",
    "            ([X_train,X_test],[Y_train,Y_test]) = data\n",
    "            \n",
    "            X_complete.append(X_train)\n",
    "            Y_complete.append(Y_train)\n",
    "            \n",
    "            if combine_train_test:\n",
    "                X_complete.append(X_test)\n",
    "                Y_complete.append(Y_test)\n",
    "                \n",
    "    X_complete = np.vstack(X_complete)\n",
    "    Y_complete = np.hstack(Y_complete)\n",
    "    \n",
    "    return X_complete,Y_complete"
   ]
  },
  {
   "cell_type": "code",
   "execution_count": 19,
   "metadata": {},
   "outputs": [
    {
     "output_type": "stream",
     "name": "stdout",
     "text": "103941    1408.297236\n787197    1139.275025\n238320    1216.435500\n349060    1063.147773\n477834    1084.975457\n641826    1892.605357\n896164     977.995193\n717193    3167.109357\n627759     987.753050\n569932    1280.391308\n466851     803.562978\n256177    4347.582603\n505347    6092.258390\ndtype: float64\n"
    }
   ],
   "source": [
    "result_data = {}\n",
    "\n",
    "for test_site_id,test_data in splits.items():\n",
    "    X_train,Y_train = combine_site_data(splits,test_site_id)\n",
    "    ([_,X_test],[_,Y_test]) = test_data\n",
    "    \n",
    "    model = LinearRegression()\n",
    "    model.fit(X_train,Y_train)\n",
    "    \n",
    "    Y_pred = model.predict(X_test)\n",
    "    rmse = np.sqrt(mean_squared_error(Y_test,Y_pred))\n",
    "    result_data[str(test_site_id)] = rmse\n",
    "result_series = pd.Series(result_data)\n",
    "ir_results['t_loo'] = result_series\n",
    "print(result_series)"
   ]
  },
  {
   "cell_type": "code",
   "execution_count": 18,
   "metadata": {},
   "outputs": [
    {
     "output_type": "stream",
     "name": "stdout",
     "text": "103941    1402.697293\n787197    1149.726414\n238320    1212.117695\n349060    1056.698826\n477834    1085.023808\n641826    1890.250471\n896164     985.566868\n717193    3165.981571\n627759     986.380159\n569932    1278.676657\n466851     806.291419\n256177    4361.202753\n505347    6092.422519\ndtype: float64\n"
    }
   ],
   "source": [
    "#See if more data helps...\n",
    "result_data = {}\n",
    "for test_site_id,test_data in splits.items():\n",
    "    X_train,Y_train = combine_site_data(splits,test_site_id,combine_train_test=True)\n",
    "    ([_,X_test],[_,Y_test]) = test_data\n",
    "    \n",
    "    model = LinearRegression()\n",
    "    model.fit(X_train,Y_train)\n",
    "    \n",
    "    Y_pred = model.predict(X_test)\n",
    "    rmse = np.sqrt(mean_squared_error(Y_test,Y_pred))\n",
    "    \n",
    "    result_data[str(test_site_id)] = rmse\n",
    "\n",
    "result_series = pd.Series(result_data)\n",
    "print(result_series)\n",
    ""
   ]
  },
  {
   "cell_type": "markdown",
   "metadata": {},
   "source": [
    "Now We'll see if mixining together all the data (including the training data for the site itself!) helps us fit a better model."
   ]
  },
  {
   "cell_type": "code",
   "execution_count": 21,
   "metadata": {},
   "outputs": [
    {
     "output_type": "stream",
     "name": "stdout",
     "text": "103941     962.852813\n787197    1051.837168\n238320    1046.116332\n349060     906.907098\n477834    1027.294537\n641826    1740.671072\n896164     936.944873\n717193    3074.459545\n627759     943.862437\n569932    1185.081394\n466851     777.267431\n256177    2328.248795\n505347    5290.500365\ndtype: float64\n"
    }
   ],
   "source": [
    "result_data = {}\n",
    "\n",
    "X_train,Y_train = combine_site_data(splits)\n",
    "for test_site_id,test_data in splits.items():\n",
    "    ([_,X_test],[_,Y_test]) = test_data\n",
    "    \n",
    "    model = LinearRegression()\n",
    "    model.fit(X_train,Y_train)\n",
    "    \n",
    "    Y_pred = model.predict(X_test)\n",
    "    rmse = np.sqrt(mean_squared_error(Y_test,Y_pred))\n",
    "    \n",
    "    result_data[str(test_site_id)] = rmse \n",
    "\n",
    "result_series = pd.Series(result_data)\n",
    "print(result_series)\n",
    "ir_results['t_integrated'] = result_series"
   ]
  },
  {
   "cell_type": "code",
   "execution_count": 22,
   "metadata": {},
   "outputs": [
    {
     "output_type": "execute_result",
     "data": {
      "text/plain": "         irradiance_only     irr_time  weather_only  weather_time  \\\nsite_id                                                             \n103941        246.534541   225.476615    443.820703    333.608607   \n787197        458.741006   441.875406    676.095814    493.189830   \n238320        406.768778   400.295024    215.158797    194.184444   \n349060        195.153020   195.418662    366.227301    277.764976   \n477834        185.225738   182.273051    180.990243    165.603927   \n641826       1415.125092  1356.645292   1400.275253   1340.890427   \n896164        169.821445   173.107516    213.166462    209.297813   \n717193       2452.825849  2423.531521   2755.743480   2454.798066   \n627759        661.845473   562.320608   1158.978721    830.920466   \n569932       1144.587302  1107.587695    912.295012    824.118052   \n466851        391.530984   388.710669    387.033111    351.779515   \n256177       1250.532543  1007.646441   1464.897083   1117.650983   \n505347       2176.078319  1857.789721   3596.918498   2653.043743   \n\n         weather_irr          all        t_loo  t_integrated  \nsite_id                                                       \n103941    230.734887   214.282454  1408.297236    962.852813  \n787197    420.689423   414.346982  1139.275025   1051.837168  \n238320    180.539331   179.062503  1216.435500   1046.116332  \n349060    173.514858   172.418634  1063.147773    906.907098  \n477834    146.007381   141.265141  1084.975457   1027.294537  \n641826   1129.709809  1074.484228  1892.605357   1740.671072  \n896164    165.401586   166.997995   977.995193    936.944873  \n717193   2235.588756  2228.444875  3167.109357   3074.459545  \n627759    604.447385   553.548312   987.753050    943.862437  \n569932    742.778756   714.950626  1280.391308   1185.081394  \n466851    325.688510   314.316423   803.562978    777.267431  \n256177   1103.700017   967.449399  4347.582603   2328.248795  \n505347   2004.302758  1799.138929  6092.258390   5290.500365  ",
      "text/html": "<div>\n<style scoped>\n    .dataframe tbody tr th:only-of-type {\n        vertical-align: middle;\n    }\n\n    .dataframe tbody tr th {\n        vertical-align: top;\n    }\n\n    .dataframe thead th {\n        text-align: right;\n    }\n</style>\n<table border=\"1\" class=\"dataframe\">\n  <thead>\n    <tr style=\"text-align: right;\">\n      <th></th>\n      <th>irradiance_only</th>\n      <th>irr_time</th>\n      <th>weather_only</th>\n      <th>weather_time</th>\n      <th>weather_irr</th>\n      <th>all</th>\n      <th>t_loo</th>\n      <th>t_integrated</th>\n    </tr>\n    <tr>\n      <th>site_id</th>\n      <th></th>\n      <th></th>\n      <th></th>\n      <th></th>\n      <th></th>\n      <th></th>\n      <th></th>\n      <th></th>\n    </tr>\n  </thead>\n  <tbody>\n    <tr>\n      <th>103941</th>\n      <td>246.534541</td>\n      <td>225.476615</td>\n      <td>443.820703</td>\n      <td>333.608607</td>\n      <td>230.734887</td>\n      <td>214.282454</td>\n      <td>1408.297236</td>\n      <td>962.852813</td>\n    </tr>\n    <tr>\n      <th>787197</th>\n      <td>458.741006</td>\n      <td>441.875406</td>\n      <td>676.095814</td>\n      <td>493.189830</td>\n      <td>420.689423</td>\n      <td>414.346982</td>\n      <td>1139.275025</td>\n      <td>1051.837168</td>\n    </tr>\n    <tr>\n      <th>238320</th>\n      <td>406.768778</td>\n      <td>400.295024</td>\n      <td>215.158797</td>\n      <td>194.184444</td>\n      <td>180.539331</td>\n      <td>179.062503</td>\n      <td>1216.435500</td>\n      <td>1046.116332</td>\n    </tr>\n    <tr>\n      <th>349060</th>\n      <td>195.153020</td>\n      <td>195.418662</td>\n      <td>366.227301</td>\n      <td>277.764976</td>\n      <td>173.514858</td>\n      <td>172.418634</td>\n      <td>1063.147773</td>\n      <td>906.907098</td>\n    </tr>\n    <tr>\n      <th>477834</th>\n      <td>185.225738</td>\n      <td>182.273051</td>\n      <td>180.990243</td>\n      <td>165.603927</td>\n      <td>146.007381</td>\n      <td>141.265141</td>\n      <td>1084.975457</td>\n      <td>1027.294537</td>\n    </tr>\n    <tr>\n      <th>641826</th>\n      <td>1415.125092</td>\n      <td>1356.645292</td>\n      <td>1400.275253</td>\n      <td>1340.890427</td>\n      <td>1129.709809</td>\n      <td>1074.484228</td>\n      <td>1892.605357</td>\n      <td>1740.671072</td>\n    </tr>\n    <tr>\n      <th>896164</th>\n      <td>169.821445</td>\n      <td>173.107516</td>\n      <td>213.166462</td>\n      <td>209.297813</td>\n      <td>165.401586</td>\n      <td>166.997995</td>\n      <td>977.995193</td>\n      <td>936.944873</td>\n    </tr>\n    <tr>\n      <th>717193</th>\n      <td>2452.825849</td>\n      <td>2423.531521</td>\n      <td>2755.743480</td>\n      <td>2454.798066</td>\n      <td>2235.588756</td>\n      <td>2228.444875</td>\n      <td>3167.109357</td>\n      <td>3074.459545</td>\n    </tr>\n    <tr>\n      <th>627759</th>\n      <td>661.845473</td>\n      <td>562.320608</td>\n      <td>1158.978721</td>\n      <td>830.920466</td>\n      <td>604.447385</td>\n      <td>553.548312</td>\n      <td>987.753050</td>\n      <td>943.862437</td>\n    </tr>\n    <tr>\n      <th>569932</th>\n      <td>1144.587302</td>\n      <td>1107.587695</td>\n      <td>912.295012</td>\n      <td>824.118052</td>\n      <td>742.778756</td>\n      <td>714.950626</td>\n      <td>1280.391308</td>\n      <td>1185.081394</td>\n    </tr>\n    <tr>\n      <th>466851</th>\n      <td>391.530984</td>\n      <td>388.710669</td>\n      <td>387.033111</td>\n      <td>351.779515</td>\n      <td>325.688510</td>\n      <td>314.316423</td>\n      <td>803.562978</td>\n      <td>777.267431</td>\n    </tr>\n    <tr>\n      <th>256177</th>\n      <td>1250.532543</td>\n      <td>1007.646441</td>\n      <td>1464.897083</td>\n      <td>1117.650983</td>\n      <td>1103.700017</td>\n      <td>967.449399</td>\n      <td>4347.582603</td>\n      <td>2328.248795</td>\n    </tr>\n    <tr>\n      <th>505347</th>\n      <td>2176.078319</td>\n      <td>1857.789721</td>\n      <td>3596.918498</td>\n      <td>2653.043743</td>\n      <td>2004.302758</td>\n      <td>1799.138929</td>\n      <td>6092.258390</td>\n      <td>5290.500365</td>\n    </tr>\n  </tbody>\n</table>\n</div>"
     },
     "metadata": {},
     "execution_count": 22
    }
   ],
   "source": [
    "ir_results"
   ]
  },
  {
   "cell_type": "code",
   "execution_count": 24,
   "metadata": {},
   "outputs": [],
   "source": [
    "ir_results.to_csv('Irradiance_results.csv')"
   ]
  },
  {
   "cell_type": "code",
   "execution_count": null,
   "metadata": {},
   "outputs": [],
   "source": []
  }
 ],
 "metadata": {
  "kernelspec": {
   "display_name": "Python 3",
   "language": "python",
   "name": "python3"
  },
  "language_info": {
   "codemirror_mode": {
    "name": "ipython",
    "version": 3
   },
   "file_extension": ".py",
   "mimetype": "text/x-python",
   "name": "python",
   "nbconvert_exporter": "python",
   "pygments_lexer": "ipython3",
   "version": "3.7.7-final"
  }
 },
 "nbformat": 4,
 "nbformat_minor": 2
}