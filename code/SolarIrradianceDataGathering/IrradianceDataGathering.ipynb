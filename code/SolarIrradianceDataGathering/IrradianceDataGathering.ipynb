{
 "cells": [
  {
   "cell_type": "markdown",
   "metadata": {},
   "source": [
    "# Data Reader Class\n",
    "I want to define a data reader class to read in the irradiance data for all of different sites. \n",
    "The class needs to take in a site and get the \n",
    "* lat\n",
    "* long\n",
    "* year interval\n",
    "\n",
    "It also needs to set the \n",
    "* api_key\n",
    "* attributes\n",
    "* time interval\n",
    "* utc falg\n",
    "* name\n",
    "* reason_for_use\n",
    "* affiliation\n",
    "* email"
   ]
  },
  {
   "cell_type": "markdown",
   "metadata": {},
   "source": [
    "Read in the metadata"
   ]
  },
  {
   "cell_type": "code",
   "execution_count": 1,
   "metadata": {},
   "outputs": [],
   "source": [
    "import json\n",
    "\n",
    "with open('../../data/site_metadata.json', 'r') as file:\n",
    "    s = file.read()\n",
    "    \n",
    "sites = json.loads(s)"
   ]
  },
  {
   "cell_type": "code",
   "execution_count": 2,
   "metadata": {},
   "outputs": [],
   "source": [
    "import pandas as pd\n",
    "from datetime import datetime\n",
    "\n",
    "with open('nsrdb_api_key.txt', 'r') as file:\n",
    "    api_key = file.read()\n",
    "\n",
    "class IrradianceDataReader:\n",
    "    \n",
    "    def __init__(self, site):\n",
    "        \n",
    "        self.site = site\n",
    "\n",
    "        self.lat = site['location']['lat']\n",
    "        self.lon = site['location']['long']\n",
    "        \n",
    "        startDate = site['time_interval']['startDate']\n",
    "        endDate = site['time_interval']['endDate']\n",
    "        \n",
    "        self.start_year, self.end_year = self.get_year_interval(startDate, endDate)\n",
    "\n",
    "        self.attributes = 'ghi,dhi,dni,wind_speed,air_temperature,solar_zenith_angle'\n",
    "\n",
    "        self.interval = '30'\n",
    "        self.utc = 'true'\n",
    "        self.name = 'Richard+Timpson'\n",
    "        self.reason_for_use = 'research'\n",
    "        self.affiliation = 'University+of+Utah'\n",
    "        self.email = 'richardtimpson80@gmail.com'\n",
    "        self.mailing_list = 'true'\n",
    "        self.url = ''\n",
    "\n",
    "    def set_url(self, year, leap_year):\n",
    "        self.url = f'http://developer.nrel.gov/api/solar/nsrdb_psm3_download.csv?wkt=POINT({self.lon}%20{self.lat})&names={year}&leap_day={leap_year}&interval={self.interval}&utc={self.utc}&full_name={self.name}&email={self.email}&affiliation={self.affiliation}&mailing_list={self.mailing_list}&reason={self.reason_for_use}&api_key={api_key}&attributes={self.attributes}'\n",
    "        \n",
    "    def get_year_interval(self,startDate, endDate):\n",
    "        start_year = datetime.strptime(startDate, '%Y-%m-%d').year\n",
    "        end_year = datetime.strptime(endDate, '%Y-%m-%d').year\n",
    "        return start_year, end_year\n",
    "\n",
    "\n",
    "    def get_location_metadata(self):\n",
    "        self.set_url('2017', 'false')\n",
    "        print(self.url)\n",
    "        info = pd.read_csv(self.url, nrows=1)\n",
    "        return info\n"
   ]
  },
  {
   "cell_type": "markdown",
   "metadata": {},
   "source": [
    "Read in the metadata and initialize all of the data readers"
   ]
  },
  {
   "cell_type": "code",
   "execution_count": 6,
   "metadata": {},
   "outputs": [],
   "source": [
    "with open('../../data/site_metadata.json', 'r') as file:\n",
    "    s = file.read()\n",
    "sites = json.loads(s)\n",
    "\n",
    "site_drs = [IrradianceDataReader(site) for site in sites]"
   ]
  },
  {
   "cell_type": "markdown",
   "metadata": {},
   "source": [
    "Once we have the metadata we can find the ranges for each individual irradiance site\n",
    "The max year will always be capped at 2018"
   ]
  },
  {
   "cell_type": "markdown",
   "metadata": {},
   "source": [
    "Now we'll want to gather all of the solar irradiance information for each site. \n",
    "This is going to be a little funky, because the metadata information is stored with each \n",
    "solar site. "
   ]
  },
  {
   "cell_type": "code",
   "execution_count": null,
   "metadata": {},
   "outputs": [],
   "source": []
  },
  {
   "cell_type": "code",
   "execution_count": null,
   "metadata": {},
   "outputs": [],
   "source": []
  },
  {
   "cell_type": "code",
   "execution_count": null,
   "metadata": {},
   "outputs": [],
   "source": []
  },
  {
   "cell_type": "code",
   "execution_count": null,
   "metadata": {},
   "outputs": [],
   "source": []
  },
  {
   "cell_type": "code",
   "execution_count": null,
   "metadata": {},
   "outputs": [],
   "source": []
  },
  {
   "cell_type": "code",
   "execution_count": null,
   "metadata": {},
   "outputs": [],
   "source": []
  },
  {
   "cell_type": "code",
   "execution_count": null,
   "metadata": {},
   "outputs": [],
   "source": []
  },
  {
   "cell_type": "code",
   "execution_count": null,
   "metadata": {},
   "outputs": [],
   "source": []
  },
  {
   "cell_type": "code",
   "execution_count": null,
   "metadata": {},
   "outputs": [],
   "source": []
  },
  {
   "cell_type": "code",
   "execution_count": null,
   "metadata": {},
   "outputs": [],
   "source": []
  },
  {
   "cell_type": "code",
   "execution_count": null,
   "metadata": {},
   "outputs": [],
   "source": []
  },
  {
   "cell_type": "code",
   "execution_count": null,
   "metadata": {},
   "outputs": [],
   "source": []
  },
  {
   "cell_type": "markdown",
   "metadata": {},
   "source": [
    "# Random Data Manipulation"
   ]
  },
  {
   "cell_type": "code",
   "execution_count": 13,
   "metadata": {},
   "outputs": [
    {
     "data": {
      "text/plain": "{113805: {'start_year': 2015, 'end_year': 2018},\n 116439: {'start_year': 2019, 'end_year': 2018},\n 114245: {'start_year': 2018, 'end_year': 2018},\n 119311: {'start_year': 2016, 'end_year': 2018},\n 89627: {'start_year': 2016, 'end_year': 2018},\n 151965: {'start_year': 2017, 'end_year': 2018},\n 114696: {'start_year': 2018, 'end_year': 2018},\n 80122: {'start_year': 2018, 'end_year': 2018},\n 113806: {'start_year': 2018, 'end_year': 2018},\n 115995: {'start_year': 2017, 'end_year': 2018},\n 157836: {'start_year': 2017, 'end_year': 2018}}"
     },
     "execution_count": 13,
     "metadata": {},
     "output_type": "execute_result"
    }
   ],
   "source": [
    "# irradiance_site_ranges = {\n",
    "#     'id': {\n",
    "#         'start_year': \n",
    "#         'end_year':\n",
    "#     }\n",
    "# }\n",
    "\n",
    "irradiance_metadata = {}\n",
    "\n",
    "max_end_year = 2018\n",
    "\n",
    "for site_dr in site_drs:\n",
    "    ir_site_id = site_dr.site['irradiance_md']['Location ID']\n",
    "\n",
    "    # check if we have already set the year for the irradiance site\n",
    "    if ir_site_id in irradiance_metadata:\n",
    "        # set the start year\n",
    "        start_cur = int(irradiance_metadata[ir_site_id]['start_year'])\n",
    "        if site_dr.start_year < start_cur:\n",
    "            site[ir_site_id]['start_year'] = site_dr.start_year        \n",
    "    else:\n",
    "        irradiance_metadata[ir_site_id] = {\n",
    "            'start_year': site_dr.start_year,\n",
    "            'end_year': max_end_year,\n",
    "        }\n",
    "irradiance_metadata"
   ]
  },
  {
   "cell_type": "markdown",
   "metadata": {},
   "source": [
    "The following code was used to gather the irradiance site metadata. I'll no longer need it as I can simply read from the stored json file"
   ]
  },
  {
   "cell_type": "code",
   "execution_count": 15,
   "metadata": {},
   "outputs": [
    {
     "name": "stdout",
     "output_type": "stream",
     "text": "http://developer.nrel.gov/api/solar/nsrdb_psm3_download.csv?wkt=POINT(-112.9758274%2036.9587533)&names=2017&leap_day=false&interval=30&utc=true&full_name=Richard+Timpson&email=richardtimpson80@gmail.com&affiliation=University+of+Utah&mailing_list=true&reason=research&api_key=65XmZXKU1X6yqFKJ7e4Dab5x35seXfubayeQ4D5a&attributes=ghi,dhi,dni,wind_speed,air_temperature,solar_zenith_angle\nhttp://developer.nrel.gov/api/solar/nsrdb_psm3_download.csv?wkt=POINT(-113.27477809999999%2037.2065196)&names=2017&leap_day=false&interval=30&utc=true&full_name=Richard+Timpson&email=richardtimpson80@gmail.com&affiliation=University+of+Utah&mailing_list=true&reason=research&api_key=65XmZXKU1X6yqFKJ7e4Dab5x35seXfubayeQ4D5a&attributes=ghi,dhi,dni,wind_speed,air_temperature,solar_zenith_angle\nhttp://developer.nrel.gov/api/solar/nsrdb_psm3_download.csv?wkt=POINT(-112.9757702%2036.9902621)&names=2017&leap_day=false&interval=30&utc=true&full_name=Richard+Timpson&email=richardtimpson80@gmail.com&affiliation=University+of+Utah&mailing_list=true&reason=research&api_key=65XmZXKU1X6yqFKJ7e4Dab5x35seXfubayeQ4D5a&attributes=ghi,dhi,dni,wind_speed,air_temperature,solar_zenith_angle\nhttp://developer.nrel.gov/api/solar/nsrdb_psm3_download.csv?wkt=POINT(-122.3064554%2037.5034316)&names=2017&leap_day=false&interval=30&utc=true&full_name=Richard+Timpson&email=richardtimpson80@gmail.com&affiliation=University+of+Utah&mailing_list=true&reason=research&api_key=65XmZXKU1X6yqFKJ7e4Dab5x35seXfubayeQ4D5a&attributes=ghi,dhi,dni,wind_speed,air_temperature,solar_zenith_angle\nhttp://developer.nrel.gov/api/solar/nsrdb_psm3_download.csv?wkt=POINT(-111.7885507%2034.646224700000005)&names=2017&leap_day=false&interval=30&utc=true&full_name=Richard+Timpson&email=richardtimpson80@gmail.com&affiliation=University+of+Utah&mailing_list=true&reason=research&api_key=65XmZXKU1X6yqFKJ7e4Dab5x35seXfubayeQ4D5a&attributes=ghi,dhi,dni,wind_speed,air_temperature,solar_zenith_angle\nhttp://developer.nrel.gov/api/solar/nsrdb_psm3_download.csv?wkt=POINT(-111.70303290000001%2040.2463234)&names=2017&leap_day=false&interval=30&utc=true&full_name=Richard+Timpson&email=richardtimpson80@gmail.com&affiliation=University+of+Utah&mailing_list=true&reason=research&api_key=65XmZXKU1X6yqFKJ7e4Dab5x35seXfubayeQ4D5a&attributes=ghi,dhi,dni,wind_speed,air_temperature,solar_zenith_angle\nhttp://developer.nrel.gov/api/solar/nsrdb_psm3_download.csv?wkt=POINT(-112.52786%2037.05509869999999)&names=2017&leap_day=false&interval=30&utc=true&full_name=Richard+Timpson&email=richardtimpson80@gmail.com&affiliation=University+of+Utah&mailing_list=true&reason=research&api_key=65XmZXKU1X6yqFKJ7e4Dab5x35seXfubayeQ4D5a&attributes=ghi,dhi,dni,wind_speed,air_temperature,solar_zenith_angle\nhttp://developer.nrel.gov/api/solar/nsrdb_psm3_download.csv?wkt=POINT(-118.0291067%2033.704533399999995)&names=2017&leap_day=false&interval=30&utc=true&full_name=Richard+Timpson&email=richardtimpson80@gmail.com&affiliation=University+of+Utah&mailing_list=true&reason=research&api_key=65XmZXKU1X6yqFKJ7e4Dab5x35seXfubayeQ4D5a&attributes=ghi,dhi,dni,wind_speed,air_temperature,solar_zenith_angle\nhttp://developer.nrel.gov/api/solar/nsrdb_psm3_download.csv?wkt=POINT(-112.9597072%2036.95268069999999)&names=2017&leap_day=false&interval=30&utc=true&full_name=Richard+Timpson&email=richardtimpson80@gmail.com&affiliation=University+of+Utah&mailing_list=true&reason=research&api_key=65XmZXKU1X6yqFKJ7e4Dab5x35seXfubayeQ4D5a&attributes=ghi,dhi,dni,wind_speed,air_temperature,solar_zenith_angle\nhttp://developer.nrel.gov/api/solar/nsrdb_psm3_download.csv?wkt=POINT(-112.98454709999999%2036.958596)&names=2017&leap_day=false&interval=30&utc=true&full_name=Richard+Timpson&email=richardtimpson80@gmail.com&affiliation=University+of+Utah&mailing_list=true&reason=research&api_key=65XmZXKU1X6yqFKJ7e4Dab5x35seXfubayeQ4D5a&attributes=ghi,dhi,dni,wind_speed,air_temperature,solar_zenith_angle\nhttp://developer.nrel.gov/api/solar/nsrdb_psm3_download.csv?wkt=POINT(-113.382926%2037.17510499999999)&names=2017&leap_day=false&interval=30&utc=true&full_name=Richard+Timpson&email=richardtimpson80@gmail.com&affiliation=University+of+Utah&mailing_list=true&reason=research&api_key=65XmZXKU1X6yqFKJ7e4Dab5x35seXfubayeQ4D5a&attributes=ghi,dhi,dni,wind_speed,air_temperature,solar_zenith_angle\nhttp://developer.nrel.gov/api/solar/nsrdb_psm3_download.csv?wkt=POINT(-111.962157%2040.710912)&names=2017&leap_day=false&interval=30&utc=true&full_name=Richard+Timpson&email=richardtimpson80@gmail.com&affiliation=University+of+Utah&mailing_list=true&reason=research&api_key=65XmZXKU1X6yqFKJ7e4Dab5x35seXfubayeQ4D5a&attributes=ghi,dhi,dni,wind_speed,air_temperature,solar_zenith_angle\nhttp://developer.nrel.gov/api/solar/nsrdb_psm3_download.csv?wkt=POINT(-112.98887739999999%2036.9591277)&names=2017&leap_day=false&interval=30&utc=true&full_name=Richard+Timpson&email=richardtimpson80@gmail.com&affiliation=University+of+Utah&mailing_list=true&reason=research&api_key=65XmZXKU1X6yqFKJ7e4Dab5x35seXfubayeQ4D5a&attributes=ghi,dhi,dni,wind_speed,air_temperature,solar_zenith_angle\nhttp://developer.nrel.gov/api/solar/nsrdb_psm3_download.csv?wkt=POINT(-112.99262320000001%2036.952701)&names=2017&leap_day=false&interval=30&utc=true&full_name=Richard+Timpson&email=richardtimpson80@gmail.com&affiliation=University+of+Utah&mailing_list=true&reason=research&api_key=65XmZXKU1X6yqFKJ7e4Dab5x35seXfubayeQ4D5a&attributes=ghi,dhi,dni,wind_speed,air_temperature,solar_zenith_angle\n"
    }
   ],
   "source": [
    "site_drs = []\n",
    "for site in sites:\n",
    "    dr = IrradianceDataReader(site)\n",
    "    location_md = dr.get_location_metadata()\n",
    "    site_ir_md_dict = location_md.to_dict('records')\n",
    "    dr.site['irradiance_md'] = site_ir_md_dict[0]\n",
    "    site_drs.append(dr)"
   ]
  },
  {
   "cell_type": "code",
   "execution_count": 20,
   "metadata": {},
   "outputs": [],
   "source": [
    "import simplejson\n",
    "\n",
    "with open('../../data/site_metadata.json', 'w') as file:\n",
    "    s = simplejson.dumps(sites, file, ignore_nan=True)    \n",
    "    file.write(s)\n"
   ]
  },
  {
   "cell_type": "markdown",
   "metadata": {},
   "source": [
    "Storing the metadata in the site_metadata file is the wrong thing to do. \n",
    "What I would like to have is a solar irradience site metadata file, with the \n",
    "site_metadata file simply holding the id of it's corresponding irradiance site. \n",
    "I'll have to manipulate the sites again to make that work"
   ]
  },
  {
   "cell_type": "code",
   "execution_count": 11,
   "metadata": {},
   "outputs": [],
   "source": [
    "with open('../../data/site_metadata.json', 'r') as file:\n",
    "    s = file.read()\n",
    "sites = json.loads(s)"
   ]
  },
  {
   "cell_type": "code",
   "execution_count": 17,
   "metadata": {},
   "outputs": [
    {
     "data": {
      "text/plain": "{113805: {'start_year': 2015,\n  'end_year': 2018,\n  'md': {'Source': 'NSRDB',\n   'Location ID': 113805,\n   'City': '-',\n   'State': '-',\n   'Country': '-',\n   'Latitude': 36.97,\n   'Longitude': -112.98,\n   'Time Zone': 0,\n   'Elevation': 1510,\n   'Local Time Zone': -7,\n   'Clearsky DHI Units': 'w/m2',\n   'Clearsky DNI Units': 'w/m2',\n   'Clearsky GHI Units': 'w/m2',\n   'Dew Point Units': 'c',\n   'DHI Units': 'w/m2',\n   'DNI Units': 'w/m2',\n   'GHI Units': 'w/m2',\n   'Solar Zenith Angle Units': 'Degree',\n   'Temperature Units': 'c',\n   'Pressure Units': 'mbar',\n   'Relative Humidity Units': '%',\n   'Precipitable Water Units': 'cm',\n   'Wind Direction Units': 'Degrees',\n   'Wind Speed': 'm/s',\n   'Cloud Type -15': None,\n   'Cloud Type 0': 'Clear',\n   'Cloud Type 1': 'Probably Clear',\n   'Cloud Type 2': 'Fog',\n   'Cloud Type 3': 'Water',\n   'Cloud Type 4': 'Super-Cooled Water',\n   'Cloud Type 5': 'Mixed',\n   'Cloud Type 6': 'Opaque Ice',\n   'Cloud Type 7': 'Cirrus',\n   'Cloud Type 8': 'Overlapping',\n   'Cloud Type 9': 'Overshooting',\n   'Cloud Type 10': 'Unknown',\n   'Cloud Type 11': 'Dust',\n   'Cloud Type 12': 'Smoke',\n   'Fill Flag 0': None,\n   'Fill Flag 1': 'Missing Image',\n   'Fill Flag 2': 'Low Irradiance',\n   'Fill Flag 3': 'Exceeds Clearsky',\n   'Fill Flag 4': 'Missing CLoud Properties',\n   'Fill Flag 5': 'Rayleigh Violation',\n   'Surface Albedo Units': None,\n   'Version': 'v3.0.1'}},\n 116439: {'start_year': 2019,\n  'end_year': 2018,\n  'md': {'Source': 'NSRDB',\n   'Location ID': 116439,\n   'City': '-',\n   'State': '-',\n   'Country': '-',\n   'Latitude': 37.21,\n   'Longitude': -113.26,\n   'Time Zone': 0,\n   'Elevation': 1055,\n   'Local Time Zone': -7,\n   'Clearsky DHI Units': 'w/m2',\n   'Clearsky DNI Units': 'w/m2',\n   'Clearsky GHI Units': 'w/m2',\n   'Dew Point Units': 'c',\n   'DHI Units': 'w/m2',\n   'DNI Units': 'w/m2',\n   'GHI Units': 'w/m2',\n   'Solar Zenith Angle Units': 'Degree',\n   'Temperature Units': 'c',\n   'Pressure Units': 'mbar',\n   'Relative Humidity Units': '%',\n   'Precipitable Water Units': 'cm',\n   'Wind Direction Units': 'Degrees',\n   'Wind Speed': 'm/s',\n   'Cloud Type -15': None,\n   'Cloud Type 0': 'Clear',\n   'Cloud Type 1': 'Probably Clear',\n   'Cloud Type 2': 'Fog',\n   'Cloud Type 3': 'Water',\n   'Cloud Type 4': 'Super-Cooled Water',\n   'Cloud Type 5': 'Mixed',\n   'Cloud Type 6': 'Opaque Ice',\n   'Cloud Type 7': 'Cirrus',\n   'Cloud Type 8': 'Overlapping',\n   'Cloud Type 9': 'Overshooting',\n   'Cloud Type 10': 'Unknown',\n   'Cloud Type 11': 'Dust',\n   'Cloud Type 12': 'Smoke',\n   'Fill Flag 0': None,\n   'Fill Flag 1': 'Missing Image',\n   'Fill Flag 2': 'Low Irradiance',\n   'Fill Flag 3': 'Exceeds Clearsky',\n   'Fill Flag 4': 'Missing CLoud Properties',\n   'Fill Flag 5': 'Rayleigh Violation',\n   'Surface Albedo Units': None,\n   'Version': 'v3.0.1'}},\n 114245: {'start_year': 2018,\n  'end_year': 2018,\n  'md': {'Source': 'NSRDB',\n   'Location ID': 114245,\n   'City': '-',\n   'State': '-',\n   'Country': '-',\n   'Latitude': 37.01,\n   'Longitude': -112.98,\n   'Time Zone': 0,\n   'Elevation': 1730,\n   'Local Time Zone': -7,\n   'Clearsky DHI Units': 'w/m2',\n   'Clearsky DNI Units': 'w/m2',\n   'Clearsky GHI Units': 'w/m2',\n   'Dew Point Units': 'c',\n   'DHI Units': 'w/m2',\n   'DNI Units': 'w/m2',\n   'GHI Units': 'w/m2',\n   'Solar Zenith Angle Units': 'Degree',\n   'Temperature Units': 'c',\n   'Pressure Units': 'mbar',\n   'Relative Humidity Units': '%',\n   'Precipitable Water Units': 'cm',\n   'Wind Direction Units': 'Degrees',\n   'Wind Speed': 'm/s',\n   'Cloud Type -15': None,\n   'Cloud Type 0': 'Clear',\n   'Cloud Type 1': 'Probably Clear',\n   'Cloud Type 2': 'Fog',\n   'Cloud Type 3': 'Water',\n   'Cloud Type 4': 'Super-Cooled Water',\n   'Cloud Type 5': 'Mixed',\n   'Cloud Type 6': 'Opaque Ice',\n   'Cloud Type 7': 'Cirrus',\n   'Cloud Type 8': 'Overlapping',\n   'Cloud Type 9': 'Overshooting',\n   'Cloud Type 10': 'Unknown',\n   'Cloud Type 11': 'Dust',\n   'Cloud Type 12': 'Smoke',\n   'Fill Flag 0': None,\n   'Fill Flag 1': 'Missing Image',\n   'Fill Flag 2': 'Low Irradiance',\n   'Fill Flag 3': 'Exceeds Clearsky',\n   'Fill Flag 4': 'Missing CLoud Properties',\n   'Fill Flag 5': 'Rayleigh Violation',\n   'Surface Albedo Units': None,\n   'Version': 'v3.0.1'}},\n 119311: {'start_year': 2016,\n  'end_year': 2018,\n  'md': {'Source': 'NSRDB',\n   'Location ID': 119311,\n   'City': '-',\n   'State': '-',\n   'Country': '-',\n   'Latitude': 37.49,\n   'Longitude': -122.3,\n   'Time Zone': 0,\n   'Elevation': 143,\n   'Local Time Zone': -8,\n   'Clearsky DHI Units': 'w/m2',\n   'Clearsky DNI Units': 'w/m2',\n   'Clearsky GHI Units': 'w/m2',\n   'Dew Point Units': 'c',\n   'DHI Units': 'w/m2',\n   'DNI Units': 'w/m2',\n   'GHI Units': 'w/m2',\n   'Solar Zenith Angle Units': 'Degree',\n   'Temperature Units': 'c',\n   'Pressure Units': 'mbar',\n   'Relative Humidity Units': '%',\n   'Precipitable Water Units': 'cm',\n   'Wind Direction Units': 'Degrees',\n   'Wind Speed': 'm/s',\n   'Cloud Type -15': None,\n   'Cloud Type 0': 'Clear',\n   'Cloud Type 1': 'Probably Clear',\n   'Cloud Type 2': 'Fog',\n   'Cloud Type 3': 'Water',\n   'Cloud Type 4': 'Super-Cooled Water',\n   'Cloud Type 5': 'Mixed',\n   'Cloud Type 6': 'Opaque Ice',\n   'Cloud Type 7': 'Cirrus',\n   'Cloud Type 8': 'Overlapping',\n   'Cloud Type 9': 'Overshooting',\n   'Cloud Type 10': 'Unknown',\n   'Cloud Type 11': 'Dust',\n   'Cloud Type 12': 'Smoke',\n   'Fill Flag 0': None,\n   'Fill Flag 1': 'Missing Image',\n   'Fill Flag 2': 'Low Irradiance',\n   'Fill Flag 3': 'Exceeds Clearsky',\n   'Fill Flag 4': 'Missing CLoud Properties',\n   'Fill Flag 5': 'Rayleigh Violation',\n   'Surface Albedo Units': None,\n   'Version': 'v3.0.1'}},\n 89627: {'start_year': 2016,\n  'end_year': 2018,\n  'md': {'Source': 'NSRDB',\n   'Location ID': 89627,\n   'City': '-',\n   'State': '-',\n   'Country': '-',\n   'Latitude': 34.65,\n   'Longitude': -111.78,\n   'Time Zone': 0,\n   'Elevation': 1098,\n   'Local Time Zone': -7,\n   'Clearsky DHI Units': 'w/m2',\n   'Clearsky DNI Units': 'w/m2',\n   'Clearsky GHI Units': 'w/m2',\n   'Dew Point Units': 'c',\n   'DHI Units': 'w/m2',\n   'DNI Units': 'w/m2',\n   'GHI Units': 'w/m2',\n   'Solar Zenith Angle Units': 'Degree',\n   'Temperature Units': 'c',\n   'Pressure Units': 'mbar',\n   'Relative Humidity Units': '%',\n   'Precipitable Water Units': 'cm',\n   'Wind Direction Units': 'Degrees',\n   'Wind Speed': 'm/s',\n   'Cloud Type -15': None,\n   'Cloud Type 0': 'Clear',\n   'Cloud Type 1': 'Probably Clear',\n   'Cloud Type 2': 'Fog',\n   'Cloud Type 3': 'Water',\n   'Cloud Type 4': 'Super-Cooled Water',\n   'Cloud Type 5': 'Mixed',\n   'Cloud Type 6': 'Opaque Ice',\n   'Cloud Type 7': 'Cirrus',\n   'Cloud Type 8': 'Overlapping',\n   'Cloud Type 9': 'Overshooting',\n   'Cloud Type 10': 'Unknown',\n   'Cloud Type 11': 'Dust',\n   'Cloud Type 12': 'Smoke',\n   'Fill Flag 0': None,\n   'Fill Flag 1': 'Missing Image',\n   'Fill Flag 2': 'Low Irradiance',\n   'Fill Flag 3': 'Exceeds Clearsky',\n   'Fill Flag 4': 'Missing CLoud Properties',\n   'Fill Flag 5': 'Rayleigh Violation',\n   'Surface Albedo Units': None,\n   'Version': 'v3.0.1'}},\n 151965: {'start_year': 2017,\n  'end_year': 2018,\n  'md': {'Source': 'NSRDB',\n   'Location ID': 151965,\n   'City': '-',\n   'State': '-',\n   'Country': '-',\n   'Latitude': 40.25,\n   'Longitude': -111.7,\n   'Time Zone': 0,\n   'Elevation': 1398,\n   'Local Time Zone': -7,\n   'Clearsky DHI Units': 'w/m2',\n   'Clearsky DNI Units': 'w/m2',\n   'Clearsky GHI Units': 'w/m2',\n   'Dew Point Units': 'c',\n   'DHI Units': 'w/m2',\n   'DNI Units': 'w/m2',\n   'GHI Units': 'w/m2',\n   'Solar Zenith Angle Units': 'Degree',\n   'Temperature Units': 'c',\n   'Pressure Units': 'mbar',\n   'Relative Humidity Units': '%',\n   'Precipitable Water Units': 'cm',\n   'Wind Direction Units': 'Degrees',\n   'Wind Speed': 'm/s',\n   'Cloud Type -15': None,\n   'Cloud Type 0': 'Clear',\n   'Cloud Type 1': 'Probably Clear',\n   'Cloud Type 2': 'Fog',\n   'Cloud Type 3': 'Water',\n   'Cloud Type 4': 'Super-Cooled Water',\n   'Cloud Type 5': 'Mixed',\n   'Cloud Type 6': 'Opaque Ice',\n   'Cloud Type 7': 'Cirrus',\n   'Cloud Type 8': 'Overlapping',\n   'Cloud Type 9': 'Overshooting',\n   'Cloud Type 10': 'Unknown',\n   'Cloud Type 11': 'Dust',\n   'Cloud Type 12': 'Smoke',\n   'Fill Flag 0': None,\n   'Fill Flag 1': 'Missing Image',\n   'Fill Flag 2': 'Low Irradiance',\n   'Fill Flag 3': 'Exceeds Clearsky',\n   'Fill Flag 4': 'Missing CLoud Properties',\n   'Fill Flag 5': 'Rayleigh Violation',\n   'Surface Albedo Units': None,\n   'Version': 'v3.0.1'}},\n 114696: {'start_year': 2018,\n  'end_year': 2018,\n  'md': {'Source': 'NSRDB',\n   'Location ID': 114696,\n   'City': '-',\n   'State': '-',\n   'Country': '-',\n   'Latitude': 37.05,\n   'Longitude': -112.54,\n   'Time Zone': 0,\n   'Elevation': 1589,\n   'Local Time Zone': -7,\n   'Clearsky DHI Units': 'w/m2',\n   'Clearsky DNI Units': 'w/m2',\n   'Clearsky GHI Units': 'w/m2',\n   'Dew Point Units': 'c',\n   'DHI Units': 'w/m2',\n   'DNI Units': 'w/m2',\n   'GHI Units': 'w/m2',\n   'Solar Zenith Angle Units': 'Degree',\n   'Temperature Units': 'c',\n   'Pressure Units': 'mbar',\n   'Relative Humidity Units': '%',\n   'Precipitable Water Units': 'cm',\n   'Wind Direction Units': 'Degrees',\n   'Wind Speed': 'm/s',\n   'Cloud Type -15': None,\n   'Cloud Type 0': 'Clear',\n   'Cloud Type 1': 'Probably Clear',\n   'Cloud Type 2': 'Fog',\n   'Cloud Type 3': 'Water',\n   'Cloud Type 4': 'Super-Cooled Water',\n   'Cloud Type 5': 'Mixed',\n   'Cloud Type 6': 'Opaque Ice',\n   'Cloud Type 7': 'Cirrus',\n   'Cloud Type 8': 'Overlapping',\n   'Cloud Type 9': 'Overshooting',\n   'Cloud Type 10': 'Unknown',\n   'Cloud Type 11': 'Dust',\n   'Cloud Type 12': 'Smoke',\n   'Fill Flag 0': None,\n   'Fill Flag 1': 'Missing Image',\n   'Fill Flag 2': 'Low Irradiance',\n   'Fill Flag 3': 'Exceeds Clearsky',\n   'Fill Flag 4': 'Missing CLoud Properties',\n   'Fill Flag 5': 'Rayleigh Violation',\n   'Surface Albedo Units': None,\n   'Version': 'v3.0.1'}},\n 80122: {'start_year': 2018,\n  'end_year': 2018,\n  'md': {'Source': 'NSRDB',\n   'Location ID': 80122,\n   'City': '-',\n   'State': '-',\n   'Country': '-',\n   'Latitude': 33.69,\n   'Longitude': -118.02,\n   'Time Zone': 0,\n   'Elevation': 6,\n   'Local Time Zone': -8,\n   'Clearsky DHI Units': 'w/m2',\n   'Clearsky DNI Units': 'w/m2',\n   'Clearsky GHI Units': 'w/m2',\n   'Dew Point Units': 'c',\n   'DHI Units': 'w/m2',\n   'DNI Units': 'w/m2',\n   'GHI Units': 'w/m2',\n   'Solar Zenith Angle Units': 'Degree',\n   'Temperature Units': 'c',\n   'Pressure Units': 'mbar',\n   'Relative Humidity Units': '%',\n   'Precipitable Water Units': 'cm',\n   'Wind Direction Units': 'Degrees',\n   'Wind Speed': 'm/s',\n   'Cloud Type -15': None,\n   'Cloud Type 0': 'Clear',\n   'Cloud Type 1': 'Probably Clear',\n   'Cloud Type 2': 'Fog',\n   'Cloud Type 3': 'Water',\n   'Cloud Type 4': 'Super-Cooled Water',\n   'Cloud Type 5': 'Mixed',\n   'Cloud Type 6': 'Opaque Ice',\n   'Cloud Type 7': 'Cirrus',\n   'Cloud Type 8': 'Overlapping',\n   'Cloud Type 9': 'Overshooting',\n   'Cloud Type 10': 'Unknown',\n   'Cloud Type 11': 'Dust',\n   'Cloud Type 12': 'Smoke',\n   'Fill Flag 0': None,\n   'Fill Flag 1': 'Missing Image',\n   'Fill Flag 2': 'Low Irradiance',\n   'Fill Flag 3': 'Exceeds Clearsky',\n   'Fill Flag 4': 'Missing CLoud Properties',\n   'Fill Flag 5': 'Rayleigh Violation',\n   'Surface Albedo Units': None,\n   'Version': 'v3.0.1'}},\n 113806: {'start_year': 2018,\n  'end_year': 2018,\n  'md': {'Source': 'NSRDB',\n   'Location ID': 113806,\n   'City': '-',\n   'State': '-',\n   'Country': '-',\n   'Latitude': 36.97,\n   'Longitude': -112.94,\n   'Time Zone': 0,\n   'Elevation': 1698,\n   'Local Time Zone': -7,\n   'Clearsky DHI Units': 'w/m2',\n   'Clearsky DNI Units': 'w/m2',\n   'Clearsky GHI Units': 'w/m2',\n   'Dew Point Units': 'c',\n   'DHI Units': 'w/m2',\n   'DNI Units': 'w/m2',\n   'GHI Units': 'w/m2',\n   'Solar Zenith Angle Units': 'Degree',\n   'Temperature Units': 'c',\n   'Pressure Units': 'mbar',\n   'Relative Humidity Units': '%',\n   'Precipitable Water Units': 'cm',\n   'Wind Direction Units': 'Degrees',\n   'Wind Speed': 'm/s',\n   'Cloud Type -15': None,\n   'Cloud Type 0': 'Clear',\n   'Cloud Type 1': 'Probably Clear',\n   'Cloud Type 2': 'Fog',\n   'Cloud Type 3': 'Water',\n   'Cloud Type 4': 'Super-Cooled Water',\n   'Cloud Type 5': 'Mixed',\n   'Cloud Type 6': 'Opaque Ice',\n   'Cloud Type 7': 'Cirrus',\n   'Cloud Type 8': 'Overlapping',\n   'Cloud Type 9': 'Overshooting',\n   'Cloud Type 10': 'Unknown',\n   'Cloud Type 11': 'Dust',\n   'Cloud Type 12': 'Smoke',\n   'Fill Flag 0': None,\n   'Fill Flag 1': 'Missing Image',\n   'Fill Flag 2': 'Low Irradiance',\n   'Fill Flag 3': 'Exceeds Clearsky',\n   'Fill Flag 4': 'Missing CLoud Properties',\n   'Fill Flag 5': 'Rayleigh Violation',\n   'Surface Albedo Units': None,\n   'Version': 'v3.0.1'}},\n 115995: {'start_year': 2017,\n  'end_year': 2018,\n  'md': {'Source': 'NSRDB',\n   'Location ID': 115995,\n   'City': '-',\n   'State': '-',\n   'Country': '-',\n   'Latitude': 37.17,\n   'Longitude': -113.38,\n   'Time Zone': 0,\n   'Elevation': 890,\n   'Local Time Zone': -7,\n   'Clearsky DHI Units': 'w/m2',\n   'Clearsky DNI Units': 'w/m2',\n   'Clearsky GHI Units': 'w/m2',\n   'Dew Point Units': 'c',\n   'DHI Units': 'w/m2',\n   'DNI Units': 'w/m2',\n   'GHI Units': 'w/m2',\n   'Solar Zenith Angle Units': 'Degree',\n   'Temperature Units': 'c',\n   'Pressure Units': 'mbar',\n   'Relative Humidity Units': '%',\n   'Precipitable Water Units': 'cm',\n   'Wind Direction Units': 'Degrees',\n   'Wind Speed': 'm/s',\n   'Cloud Type -15': None,\n   'Cloud Type 0': 'Clear',\n   'Cloud Type 1': 'Probably Clear',\n   'Cloud Type 2': 'Fog',\n   'Cloud Type 3': 'Water',\n   'Cloud Type 4': 'Super-Cooled Water',\n   'Cloud Type 5': 'Mixed',\n   'Cloud Type 6': 'Opaque Ice',\n   'Cloud Type 7': 'Cirrus',\n   'Cloud Type 8': 'Overlapping',\n   'Cloud Type 9': 'Overshooting',\n   'Cloud Type 10': 'Unknown',\n   'Cloud Type 11': 'Dust',\n   'Cloud Type 12': 'Smoke',\n   'Fill Flag 0': None,\n   'Fill Flag 1': 'Missing Image',\n   'Fill Flag 2': 'Low Irradiance',\n   'Fill Flag 3': 'Exceeds Clearsky',\n   'Fill Flag 4': 'Missing CLoud Properties',\n   'Fill Flag 5': 'Rayleigh Violation',\n   'Surface Albedo Units': None,\n   'Version': 'v3.0.1'}},\n 157836: {'start_year': 2017,\n  'end_year': 2018,\n  'md': {'Source': 'NSRDB',\n   'Location ID': 157836,\n   'City': '-',\n   'State': '-',\n   'Country': '-',\n   'Latitude': 40.73,\n   'Longitude': -111.98,\n   'Time Zone': 0,\n   'Elevation': 1269,\n   'Local Time Zone': -7,\n   'Clearsky DHI Units': 'w/m2',\n   'Clearsky DNI Units': 'w/m2',\n   'Clearsky GHI Units': 'w/m2',\n   'Dew Point Units': 'c',\n   'DHI Units': 'w/m2',\n   'DNI Units': 'w/m2',\n   'GHI Units': 'w/m2',\n   'Solar Zenith Angle Units': 'Degree',\n   'Temperature Units': 'c',\n   'Pressure Units': 'mbar',\n   'Relative Humidity Units': '%',\n   'Precipitable Water Units': 'cm',\n   'Wind Direction Units': 'Degrees',\n   'Wind Speed': 'm/s',\n   'Cloud Type -15': None,\n   'Cloud Type 0': 'Clear',\n   'Cloud Type 1': 'Probably Clear',\n   'Cloud Type 2': 'Fog',\n   'Cloud Type 3': 'Water',\n   'Cloud Type 4': 'Super-Cooled Water',\n   'Cloud Type 5': 'Mixed',\n   'Cloud Type 6': 'Opaque Ice',\n   'Cloud Type 7': 'Cirrus',\n   'Cloud Type 8': 'Overlapping',\n   'Cloud Type 9': 'Overshooting',\n   'Cloud Type 10': 'Unknown',\n   'Cloud Type 11': 'Dust',\n   'Cloud Type 12': 'Smoke',\n   'Fill Flag 0': None,\n   'Fill Flag 1': 'Missing Image',\n   'Fill Flag 2': 'Low Irradiance',\n   'Fill Flag 3': 'Exceeds Clearsky',\n   'Fill Flag 4': 'Missing CLoud Properties',\n   'Fill Flag 5': 'Rayleigh Violation',\n   'Surface Albedo Units': None,\n   'Version': 'v3.0.1'}}}"
     },
     "execution_count": 17,
     "metadata": {},
     "output_type": "execute_result"
    }
   ],
   "source": [
    "for site in sites:\n",
    "    md = site['irradiance_md']\n",
    "    ir_id = md['Location ID']\n",
    "    irradiance_metadata[ir_id]['md'] = md\n",
    "\n",
    "irradiance_metadata"
   ]
  },
  {
   "cell_type": "code",
   "execution_count": 18,
   "metadata": {},
   "outputs": [],
   "source": [
    "import simplejson\n",
    "\n",
    "with open('../../data/irradiance_metadata.json', 'w') as file:\n",
    "    s = simplejson.dumps(irradiance_metadata, file, ignore_nan=True)\n",
    "    file.write(s)"
   ]
  },
  {
   "cell_type": "markdown",
   "metadata": {},
   "source": [
    "Now I need to rewrite the site_metadata file to not have the metadata"
   ]
  },
  {
   "cell_type": "code",
   "execution_count": 19,
   "metadata": {},
   "outputs": [],
   "source": [
    "for site in sites:\n",
    "    ir_id = site['irradiance_md']['Location ID']\n",
    "    site['irradiance_site_id'] = ir_id\n",
    "    del site['irradiance_md']"
   ]
  },
  {
   "cell_type": "code",
   "execution_count": 20,
   "metadata": {},
   "outputs": [],
   "source": [
    "import simplejson\n",
    "\n",
    "with open('../../data/site_metadata.json', 'w') as file:\n",
    "    s = simplejson.dumps(sites, file, ignore_nan=True)    \n",
    "    file.write(s)"
   ]
  },
  {
   "cell_type": "code",
   "execution_count": null,
   "metadata": {},
   "outputs": [],
   "source": []
  }
 ],
 "metadata": {
  "kernelspec": {
   "display_name": "Python 3",
   "language": "python",
   "name": "python3"
  },
  "language_info": {
   "codemirror_mode": {
    "name": "ipython",
    "version": 3
   },
   "file_extension": ".py",
   "mimetype": "text/x-python",
   "name": "python",
   "nbconvert_exporter": "python",
   "pygments_lexer": "ipython3",
   "version": "3.7.6-final"
  }
 },
 "nbformat": 4,
 "nbformat_minor": 4
}