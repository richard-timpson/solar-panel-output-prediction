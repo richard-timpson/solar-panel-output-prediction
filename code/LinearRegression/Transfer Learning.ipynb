{
 "cells": [
  {
   "cell_type": "code",
   "execution_count": 1,
   "metadata": {},
   "outputs": [],
   "source": [
    "import sys \n",
    "sys.path.insert(0, '../DataCleaning')\n",
    "\n",
    "import train_test_split as tts"
   ]
  },
  {
   "cell_type": "code",
   "execution_count": 12,
   "metadata": {},
   "outputs": [
    {
     "data": {
      "text/plain": [
       "<module 'train_test_split' from '../DataCleaning\\\\train_test_split.py'>"
      ]
     },
     "execution_count": 12,
     "metadata": {},
     "output_type": "execute_result"
    }
   ],
   "source": [
    "import importlib\n",
    "importlib.reload(tts)"
   ]
  },
  {
   "cell_type": "code",
   "execution_count": 5,
   "metadata": {},
   "outputs": [],
   "source": [
    "DATA_DIR = '../../data'"
   ]
  },
  {
   "cell_type": "code",
   "execution_count": 23,
   "metadata": {},
   "outputs": [],
   "source": [
    "import numpy as np\n",
    "from sklearn.linear_model import LinearRegression\n",
    "from sklearn.metrics import mean_squared_error, mean_absolute_error, r2_score"
   ]
  },
  {
   "cell_type": "code",
   "execution_count": 6,
   "metadata": {},
   "outputs": [],
   "source": [
    "import json\n",
    "\n",
    "with open('../../data/production_data/site_metadata.json', 'r') as file:\n",
    "    s = file.read()\n",
    "    site_md = json.loads(s)"
   ]
  },
  {
   "cell_type": "code",
   "execution_count": 8,
   "metadata": {},
   "outputs": [
    {
     "name": "stdout",
     "output_type": "stream",
     "text": [
      "1232644 116439\n"
     ]
    }
   ],
   "source": [
    "from os.path import exists\n",
    "\n",
    "splits = {}\n",
    "\n",
    "#Warning, this takes a while because the join operation is implemented inefficently (like n^2 in the worst case.)\n",
    "for site in site_md:\n",
    "    site_id = site['id']\n",
    "    irradiance_site_id = site['irradiance_site_id']\n",
    "    tz_str = site['location']['timeZone']\n",
    "    \n",
    "    path_production = f\"{DATA_DIR}/production_data/{site_id}/combination_data/production_weather_combination.csv\"\n",
    "    path_irradiance = f\"{DATA_DIR}/irradiance_data/{irradiance_site_id}/irradiance_data.csv\"\n",
    "    \n",
    "    if not exists(path_irradiance):\n",
    "        print(site_id,irradiance_site_id)\n",
    "        continue\n",
    "    \n",
    "    X,Y,title_row = tts.get_irradiance_WPI_data(path_production,path_irradiance, 4,3,tz_str)\n",
    "    splits[site_id] = (X,Y)"
   ]
  },
  {
   "cell_type": "code",
   "execution_count": 16,
   "metadata": {},
   "outputs": [
    {
     "name": "stdout",
     "output_type": "stream",
     "text": [
      "dict_keys([103941, 787197, 238320, 349060, 477834, 641826, 896164, 717193, 627759, 569932, 466851, 256177, 505347])\n"
     ]
    }
   ],
   "source": [
    "architecture_file = f\"{DATA_DIR}/panel_architecture.csv\"\n",
    "site_areas = tts.get_total_area(architecture_file)\n",
    "\n",
    "for site_id,area in site_areas.items():\n",
    "    if site_id in splits:\n",
    "        ([X_train,X_test],[Y_train,Y_test]) = splits[site_id]\n",
    "        X_train = tts.append_site_features(X_train,[area])\n",
    "        X_test = tts.append_site_features(X_test,[area])\n",
    "        splits[site_id] = ([X_train,X_test],[Y_train,Y_test])\n",
    "\n",
    "title_row.append(\"area\")"
   ]
  },
  {
   "cell_type": "code",
   "execution_count": 26,
   "metadata": {},
   "outputs": [
    {
     "name": "stdout",
     "output_type": "stream",
     "text": [
      "['day', 'hour', 'precipIntensity', 'precipProbability', 'precipAccumulation', 'precipType_', 'precipType_rain', 'precipType_snow', 'precipType_sleet', 'temperature', 'apparentTemperature', 'dewPoint', 'humidity', 'pressure', 'windSpeed', 'windBearing', 'windGust', 'cloudCover', 'uvIndex', 'visibility', 'ozone', 'GHI', 'DHI', 'DNI', 'area'] 25\n"
     ]
    }
   ],
   "source": [
    "print(title_row, len(title_row))"
   ]
  },
  {
   "cell_type": "markdown",
   "metadata": {},
   "source": [
    "First We'll do \"Leave one Out\" transfer learning. Here we'll train on all but one site and test on the site that we left out. This is true transfer learning."
   ]
  },
  {
   "cell_type": "code",
   "execution_count": 40,
   "metadata": {},
   "outputs": [],
   "source": [
    "def combine_site_data(splits,test_site_id=\"\", combine_train_test=False):\n",
    "    X_complete = []\n",
    "    Y_complete = []\n",
    "    for site_id,data in splits.items():\n",
    "        if test_site_id and test_site_id == site_id:\n",
    "            continue\n",
    "        else:\n",
    "            ([X_train,X_test],[Y_train,Y_test]) = data\n",
    "            \n",
    "            X_complete.append(X_train)\n",
    "            Y_complete.append(Y_train)\n",
    "            \n",
    "            if combine_train_test:\n",
    "                X_complete.append(X_test)\n",
    "                Y_complete.append(Y_test)\n",
    "                \n",
    "    X_complete = np.vstack(X_complete)\n",
    "    Y_complete = np.hstack(Y_complete)\n",
    "    \n",
    "    return X_complete,Y_complete"
   ]
  },
  {
   "cell_type": "code",
   "execution_count": 41,
   "metadata": {},
   "outputs": [
    {
     "name": "stdout",
     "output_type": "stream",
     "text": [
      "103941 1400.8272649084543\n",
      "787197 1256.8061540212614\n",
      "238320 1222.999208104408\n",
      "349060 1048.646287383282\n",
      "477834 1070.8764195529227\n",
      "641826 1858.6765343981606\n",
      "896164 1039.3071796345234\n",
      "717193 3077.0001917679583\n",
      "627759 937.4969896219927\n",
      "569932 1237.4979970079241\n",
      "466851 815.0715863158354\n",
      "256177 4364.060577656164\n",
      "505347 6214.344513455739\n"
     ]
    }
   ],
   "source": [
    "for test_site_id,test_data in splits.items():\n",
    "    X_train,Y_train = combine_site_data(splits,test_site_id)\n",
    "    ([_,X_test],[_,Y_test]) = test_data\n",
    "    \n",
    "    model = LinearRegression()\n",
    "    model.fit(X_train,Y_train)\n",
    "    \n",
    "    Y_pred = model.predict(X_test)\n",
    "    rmse = np.sqrt(mean_squared_error(Y_test,Y_pred))\n",
    "    \n",
    "    print(test_site_id,rmse)"
   ]
  },
  {
   "cell_type": "code",
   "execution_count": 42,
   "metadata": {},
   "outputs": [
    {
     "name": "stdout",
     "output_type": "stream",
     "text": [
      "103941 1392.9429043978641\n",
      "787197 1248.656185840077\n",
      "238320 1219.767276850132\n",
      "349060 1051.0466879324451\n",
      "477834 1070.083856252635\n",
      "641826 1863.9611610854658\n",
      "896164 1043.306893718434\n",
      "717193 3079.7258895441305\n",
      "627759 946.6457806107901\n",
      "569932 1237.9841984598497\n",
      "466851 809.4142230218305\n",
      "256177 4380.551109302946\n",
      "505347 6222.457736998086\n"
     ]
    }
   ],
   "source": [
    "#See if more data helps...\n",
    "for test_site_id,test_data in splits.items():\n",
    "    X_train,Y_train = combine_site_data(splits,test_site_id,combine_train_test=True)\n",
    "    ([_,X_test],[_,Y_test]) = test_data\n",
    "    \n",
    "    model = LinearRegression()\n",
    "    model.fit(X_train,Y_train)\n",
    "    \n",
    "    Y_pred = model.predict(X_test)\n",
    "    rmse = np.sqrt(mean_squared_error(Y_test,Y_pred))\n",
    "    \n",
    "    print(test_site_id,rmse)"
   ]
  },
  {
   "cell_type": "markdown",
   "metadata": {},
   "source": [
    "Now We'll see if mixining together all the data (including the training data for the site itself!) helps us fit a better model."
   ]
  },
  {
   "cell_type": "code",
   "execution_count": 43,
   "metadata": {},
   "outputs": [
    {
     "name": "stdout",
     "output_type": "stream",
     "text": [
      "103941 952.0968296772322\n",
      "787197 1165.668175007028\n",
      "238320 1050.7922646235518\n",
      "349060 897.3065242058341\n",
      "477834 1013.8800435011257\n",
      "641826 1706.3790990403525\n",
      "896164 999.7169369515028\n",
      "717193 2985.225929343497\n",
      "627759 893.9676342391142\n",
      "569932 1140.9026932644833\n",
      "466851 788.5029116718143\n",
      "256177 2336.5932492281554\n",
      "505347 5406.114033153688\n"
     ]
    }
   ],
   "source": [
    "X_train,Y_train = combine_site_data(splits)\n",
    "for test_site_id,test_data in splits.items():\n",
    "    ([_,X_test],[_,Y_test]) = test_data\n",
    "    \n",
    "    model = LinearRegression()\n",
    "    model.fit(X_train,Y_train)\n",
    "    \n",
    "    Y_pred = model.predict(X_test)\n",
    "    rmse = np.sqrt(mean_squared_error(Y_test,Y_pred))\n",
    "    \n",
    "    print(test_site_id,rmse)"
   ]
  },
  {
   "cell_type": "code",
   "execution_count": null,
   "metadata": {},
   "outputs": [],
   "source": []
  }
 ],
 "metadata": {
  "kernelspec": {
   "display_name": "Python 3",
   "language": "python",
   "name": "python3"
  },
  "language_info": {
   "codemirror_mode": {
    "name": "ipython",
    "version": 3
   },
   "file_extension": ".py",
   "mimetype": "text/x-python",
   "name": "python",
   "nbconvert_exporter": "python",
   "pygments_lexer": "ipython3",
   "version": "3.6.5"
  }
 },
 "nbformat": 4,
 "nbformat_minor": 2
}
