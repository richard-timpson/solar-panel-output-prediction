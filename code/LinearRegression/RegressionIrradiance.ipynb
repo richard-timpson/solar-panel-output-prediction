{
 "cells": [
  {
   "cell_type": "code",
   "execution_count": 1,
   "metadata": {},
   "outputs": [],
   "source": [
    "import sys \n",
    "sys.path.insert(0, '../DataCleaning')\n",
    "\n",
    "import train_test_split"
   ]
  },
  {
   "cell_type": "code",
   "execution_count": 15,
   "metadata": {},
   "outputs": [
    {
     "data": {
      "text/plain": [
       "<module 'train_test_split' from '../DataCleaning\\\\train_test_split.py'>"
      ]
     },
     "execution_count": 15,
     "metadata": {},
     "output_type": "execute_result"
    }
   ],
   "source": [
    "import importlib\n",
    "importlib.reload(train_test_split)"
   ]
  },
  {
   "cell_type": "code",
   "execution_count": 3,
   "metadata": {},
   "outputs": [],
   "source": [
    "DATA_DIR = '../../data'"
   ]
  },
  {
   "cell_type": "code",
   "execution_count": 4,
   "metadata": {},
   "outputs": [],
   "source": [
    "import json\n",
    "\n",
    "with open('../../data/production_data/site_metadata.json', 'r') as file:\n",
    "    s = file.read()\n",
    "    site_md = json.loads(s)"
   ]
  },
  {
   "cell_type": "code",
   "execution_count": 16,
   "metadata": {},
   "outputs": [
    {
     "name": "stdout",
     "output_type": "stream",
     "text": [
      "24\n",
      "1232644 116439\n",
      "24\n",
      "24\n",
      "24\n",
      "24\n",
      "24\n",
      "24\n",
      "24\n",
      "24\n",
      "24\n",
      "24\n",
      "24\n",
      "24\n"
     ]
    }
   ],
   "source": [
    "from os.path import exists\n",
    "\n",
    "splits = {}\n",
    "\n",
    "#Warning, this takes a while because the join operation is implemented inefficently (like n^2 in the worst case.)\n",
    "for site in site_md:\n",
    "    site_id = site['id']\n",
    "    irradiance_site_id = site['irradiance_site_id']\n",
    "    tz_str = site['location']['timeZone']\n",
    "    \n",
    "    path_production = f\"{DATA_DIR}/production_data/{site_id}/combination_data/production_weather_combination.csv\"\n",
    "    path_irradiance = f\"{DATA_DIR}/irradiance_data/{irradiance_site_id}/irradiance_data.csv\"\n",
    "    \n",
    "    if not exists(path_irradiance):\n",
    "        print(site_id,irradiance_site_id)\n",
    "        continue\n",
    "    \n",
    "    X,Y,title_row = train_test_split.get_irradiance_WPI_data(path_production,path_irradiance, 4,3,tz_str)\n",
    "    splits[site_id] = (X,Y)\n",
    "    \n",
    "    "
   ]
  },
  {
   "cell_type": "code",
   "execution_count": 17,
   "metadata": {},
   "outputs": [
    {
     "data": {
      "text/plain": [
       "['day',\n",
       " 'hour',\n",
       " 'precipIntensity',\n",
       " 'precipProbability',\n",
       " 'precipAccumulation',\n",
       " 'precipType_',\n",
       " 'precipType_rain',\n",
       " 'precipType_snow',\n",
       " 'precipType_sleet',\n",
       " 'temperature',\n",
       " 'apparentTemperature',\n",
       " 'dewPoint',\n",
       " 'humidity',\n",
       " 'pressure',\n",
       " 'windSpeed',\n",
       " 'windBearing',\n",
       " 'windGust',\n",
       " 'cloudCover',\n",
       " 'uvIndex',\n",
       " 'visibility',\n",
       " 'ozone',\n",
       " 'GHI',\n",
       " 'DHI',\n",
       " 'DNI']"
      ]
     },
     "execution_count": 17,
     "metadata": {},
     "output_type": "execute_result"
    }
   ],
   "source": [
    "title_row"
   ]
  },
  {
   "cell_type": "code",
   "execution_count": 8,
   "metadata": {},
   "outputs": [],
   "source": [
    "import numpy as np\n",
    "from sklearn.linear_model import LinearRegression\n",
    "from sklearn.metrics import mean_squared_error, mean_absolute_error, r2_score\n",
    "\n",
    "def mean_absoluate_percentage_error(y_true,y_pred):\n",
    "    \n",
    "    return np.mean( np.abs((y_true-y_pred) / y_true) ) * 100"
   ]
  },
  {
   "cell_type": "code",
   "execution_count": 20,
   "metadata": {},
   "outputs": [],
   "source": [
    "with open(\"Irradiance_results.csv\", \"w+\") as f:\n",
    "\n",
    "    f.write(\"site_id,irradiance_only,irr_time,weather_only,weather_time,weather_irr,all\\n\")\n",
    "\n",
    "    for site_id,data in splits.items():\n",
    "\n",
    "        ([X_train,X_test],[Y_train,Y_test]) = data\n",
    "        \n",
    "        model = LinearRegression()\n",
    "        X_train_irr_only,_ = train_test_split.keep_columns(X_train, title_row, [ 'GHI','DHI','DNI'])\n",
    "        X_test_irr_only,_ = train_test_split.keep_columns(X_test, title_row, [ 'GHI','DHI','DNI'])\n",
    "        \n",
    "        model.fit(X_train_irr_only,Y_train)\n",
    "        Y_pred = model.predict(X_test_irr_only)\n",
    "        rmse_irr_only = np.sqrt(mean_squared_error(Y_test,Y_pred))\n",
    "        \n",
    "        model = LinearRegression()\n",
    "        X_train_irr_time,_ = train_test_split.keep_columns(X_train, title_row, ['GHI','DHI','DNI','day','hour'])\n",
    "        X_test_irr_time,_ = train_test_split.keep_columns(X_test, title_row, ['GHI','DHI','DNI','day','hour'])\n",
    "\n",
    "        model.fit(X_train_irr_time,Y_train)\n",
    "        Y_pred = model.predict(X_test_irr_time)\n",
    "        rmse_irr_time = np.sqrt(mean_squared_error(Y_test,Y_pred))\n",
    "        \n",
    "        model = LinearRegression()\n",
    "        X_train_weather_only,_ = train_test_split.remove_columns(X_train, title_row, ['GHI','DHI','DNI','day','hour'])\n",
    "        X_test_weather_only,_ = train_test_split.remove_columns(X_test, title_row, ['GHI','DHI','DNI','day','hour'])\n",
    "        \n",
    "        model.fit(X_train_weather_only,Y_train)\n",
    "        Y_pred = model.predict(X_test_weather_only)\n",
    "        rmse_weather_only = np.sqrt(mean_squared_error(Y_test,Y_pred))\n",
    "        \n",
    "        model = LinearRegression()\n",
    "        X_train_weather_time,_ = train_test_split.remove_columns(X_train, title_row, ['GHI','DHI','DNI'])\n",
    "        X_test_weather_time,_ = train_test_split.remove_columns(X_test, title_row, ['GHI','DHI','DNI'])\n",
    "        \n",
    "        model.fit(X_train_weather_time,Y_train)\n",
    "        Y_pred = model.predict(X_test_weather_time)\n",
    "        rmse_weather_time = np.sqrt(mean_squared_error(Y_test,Y_pred))\n",
    "        \n",
    "        model = LinearRegression()\n",
    "        X_train_weather_irr,_ = train_test_split.remove_columns(X_train, title_row, ['day','hour'])\n",
    "        X_test_weather_irr,_ = train_test_split.remove_columns(X_test, title_row, ['day','hour'])\n",
    "        \n",
    "        model.fit(X_train_weather_irr,Y_train)\n",
    "        Y_pred = model.predict(X_test_weather_irr)\n",
    "        rmse_weather_irr = np.sqrt(mean_squared_error(Y_test,Y_pred))\n",
    "        \n",
    "        model = LinearRegression()\n",
    "        model.fit(X_train,Y_train)\n",
    "        Y_pred = model.predict(X_test)\n",
    "        rmse_all = np.sqrt(mean_squared_error(Y_test,Y_pred))\n",
    "        \n",
    "        f.write(f\"{site_id},{rmse_irr_only},{rmse_irr_time},{rmse_weather_only},{rmse_weather_time},{rmse_weather_irr},{rmse_all}\\n\")"
   ]
  },
  {
   "cell_type": "code",
   "execution_count": null,
   "metadata": {},
   "outputs": [],
   "source": []
  }
 ],
 "metadata": {
  "kernelspec": {
   "display_name": "Python 3",
   "language": "python",
   "name": "python3"
  },
  "language_info": {
   "codemirror_mode": {
    "name": "ipython",
    "version": 3
   },
   "file_extension": ".py",
   "mimetype": "text/x-python",
   "name": "python",
   "nbconvert_exporter": "python",
   "pygments_lexer": "ipython3",
   "version": "3.6.5"
  }
 },
 "nbformat": 4,
 "nbformat_minor": 2
}
