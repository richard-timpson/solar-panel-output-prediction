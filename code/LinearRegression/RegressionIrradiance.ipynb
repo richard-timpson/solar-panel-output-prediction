{
 "cells": [
  {
   "cell_type": "code",
   "execution_count": 1,
   "metadata": {},
   "outputs": [],
   "source": [
    "import sys \n",
    "sys.path.insert(0, '../DataCleaning')\n",
    "\n",
    "import train_test_split"
   ]
  },
  {
   "cell_type": "code",
   "execution_count": 13,
   "metadata": {},
   "outputs": [
    {
     "data": {
      "text/plain": [
       "<module 'train_test_split' from '../DataCleaning\\\\train_test_split.py'>"
      ]
     },
     "execution_count": 13,
     "metadata": {},
     "output_type": "execute_result"
    }
   ],
   "source": [
    "import importlib\n",
    "importlib.reload(train_test_split)"
   ]
  },
  {
   "cell_type": "code",
   "execution_count": 2,
   "metadata": {},
   "outputs": [],
   "source": [
    "DATA_DIR = '../../data'"
   ]
  },
  {
   "cell_type": "code",
   "execution_count": 4,
   "metadata": {},
   "outputs": [],
   "source": [
    "import json\n",
    "\n",
    "with open('../../data/production_data/site_metadata.json', 'r') as file:\n",
    "    s = file.read()\n",
    "    site_md = json.loads(s)"
   ]
  },
  {
   "cell_type": "code",
   "execution_count": 15,
   "metadata": {},
   "outputs": [
    {
     "name": "stdout",
     "output_type": "stream",
     "text": [
      "1232644 116439\n"
     ]
    }
   ],
   "source": [
    "from os.path import exists\n",
    "\n",
    "splits = {}\n",
    "\n",
    "#Warning, this takes a while because the join operation is implemented inefficently (like n^2 in the worst case.)\n",
    "for site in site_md:\n",
    "    site_id = site['id']\n",
    "    irradiance_site_id = site['irradiance_site_id']\n",
    "    tz_str = site['location']['timeZone']\n",
    "    \n",
    "    path_production = f\"{DATA_DIR}/production_data/{site_id}/combination_data/production_weather_combination.csv\"\n",
    "    path_irradiance = f\"{DATA_DIR}/irradiance_data/{irradiance_site_id}/irradiance_data.csv\"\n",
    "    \n",
    "    if not exists(path_irradiance):\n",
    "        print(site_id,irradiance_site_id)\n",
    "        continue\n",
    "    \n",
    "    splits[site_id] = train_test_split.get_irradiance_WPI_data(path_production,path_irradiance, 4,3,tz_str)\n",
    "    \n",
    "    "
   ]
  },
  {
   "cell_type": "code",
   "execution_count": 9,
   "metadata": {},
   "outputs": [],
   "source": [
    "import numpy as np\n",
    "from sklearn.linear_model import LinearRegression\n",
    "from sklearn.metrics import mean_squared_error, mean_absolute_error, r2_score\n",
    "\n",
    "def mean_absoluate_percentage_error(y_true,y_pred):\n",
    "    \n",
    "    return np.mean( np.abs((y_true-y_pred) / y_true) ) * 100"
   ]
  },
  {
   "cell_type": "code",
   "execution_count": 20,
   "metadata": {},
   "outputs": [
    {
     "name": "stdout",
     "output_type": "stream",
     "text": [
      "System 103941:\n",
      "\t Root Mean Squared Error: 241.26352315655876\n",
      "\n",
      "\t Mean Absolute Error: 172.76517497597231\n",
      "\t Mean Absolute Percentage Error: 1168.6176666931142\n",
      "\n",
      "\t r2 score: 0.8767377668554277\n",
      "System 787197:\n",
      "\t Root Mean Squared Error: 462.018796169785\n",
      "\n",
      "\t Mean Absolute Error: 337.44544264622704\n",
      "\t Mean Absolute Percentage Error: 305.91356865907056\n",
      "\n",
      "\t r2 score: 0.8191481578022572\n",
      "System 238320:\n",
      "\t Root Mean Squared Error: 169.91785231311124\n",
      "\n",
      "\t Mean Absolute Error: 136.9776718147462\n",
      "\t Mean Absolute Percentage Error: 8539.3467608007\n",
      "\n",
      "\t r2 score: 0.8931897128995506\n",
      "System 349060:\n",
      "\t Root Mean Squared Error: 180.5489742491527\n",
      "\n",
      "\t Mean Absolute Error: 119.97947739857499\n",
      "\t Mean Absolute Percentage Error: 91.98863965541429\n",
      "\n",
      "\t r2 score: 0.9220784753952466\n",
      "System 477834:\n",
      "\t Root Mean Squared Error: 157.69286659561988\n",
      "\n",
      "\t Mean Absolute Error: 121.83352336000353\n",
      "\t Mean Absolute Percentage Error: 287.7390383135082\n",
      "\n",
      "\t r2 score: 0.7558964436353491\n",
      "System 641826:\n",
      "\t Root Mean Squared Error: 1142.7821070169734\n",
      "\n",
      "\t Mean Absolute Error: 856.6894864826696\n",
      "\t Mean Absolute Percentage Error: 532.3261018079955\n",
      "\n",
      "\t r2 score: 0.7735851370250719\n",
      "System 896164:\n",
      "\t Root Mean Squared Error: 181.10091940984915\n",
      "\n",
      "\t Mean Absolute Error: 122.08204561776121\n",
      "\t Mean Absolute Percentage Error: 103.20775014034149\n",
      "\n",
      "\t r2 score: 0.4178775206095683\n",
      "System 717193:\n",
      "\t Root Mean Squared Error: 2046.6512926681967\n",
      "\n",
      "\t Mean Absolute Error: 1387.3900561260605\n",
      "\t Mean Absolute Percentage Error: 193.1723227101125\n",
      "\n",
      "\t r2 score: 0.7591642236819356\n",
      "System 627759:\n",
      "\t Root Mean Squared Error: 589.5659054686022\n",
      "\n",
      "\t Mean Absolute Error: 424.4654518365195\n",
      "\t Mean Absolute Percentage Error: 154.55084922935322\n",
      "\n",
      "\t r2 score: 0.8989723143553076\n",
      "System 569932:\n",
      "\t Root Mean Squared Error: 747.4110502677519\n",
      "\n",
      "\t Mean Absolute Error: 561.7394000144977\n",
      "\t Mean Absolute Percentage Error: 290.76028371435905\n",
      "\n",
      "\t r2 score: 0.8477320600705496\n",
      "System 466851:\n",
      "\t Root Mean Squared Error: 338.7552257377193\n",
      "\n",
      "\t Mean Absolute Error: 263.87049862638895\n",
      "\t Mean Absolute Percentage Error: 473.3099670396753\n",
      "\n",
      "\t r2 score: 0.7389291405763209\n",
      "System 256177:\n",
      "\t Root Mean Squared Error: 1086.5966065853213\n",
      "\n",
      "\t Mean Absolute Error: 840.4872106614259\n",
      "\t Mean Absolute Percentage Error: 677.1864599884287\n",
      "\n",
      "\t r2 score: 0.674992871049919\n",
      "System 505347:\n",
      "\t Root Mean Squared Error: 2124.0215007233496\n",
      "\n",
      "\t Mean Absolute Error: 1633.8842599366549\n",
      "\t Mean Absolute Percentage Error: 837856.4317623568\n",
      "\n",
      "\t r2 score: 0.8187353376690525\n"
     ]
    }
   ],
   "source": [
    "for site_id,data in splits.items():\n",
    "    \n",
    "    model = LinearRegression()\n",
    "    \n",
    "    ([X_train,X_test],[Y_train,Y_test]) = data\n",
    "    \n",
    "    model.fit(X_train,Y_train)\n",
    "    \n",
    "    Y_pred = model.predict(X_test)\n",
    "    \n",
    "    mse = mean_squared_error(Y_test,Y_pred)\n",
    "    rmse = np.sqrt(mse)\n",
    "    mae = mean_absolute_error(Y_test,Y_pred)\n",
    "    mape = mean_absoluate_percentage_error(Y_test,Y_pred)\n",
    "    r2 = r2_score(Y_test,Y_pred)\n",
    "    \n",
    "    print(f'System {site_id}:')\n",
    "\n",
    "    print(f'\\t Root Mean Squared Error: {rmse}')\n",
    "    print()\n",
    "\n",
    "    print(f'\\t Mean Absolute Error: {mae}')\n",
    "    print(f'\\t Mean Absolute Percentage Error: {mape}')\n",
    "    print()\n",
    "\n",
    "    print(f'\\t r2 score: {r2}')"
   ]
  },
  {
   "cell_type": "code",
   "execution_count": null,
   "metadata": {},
   "outputs": [],
   "source": []
  }
 ],
 "metadata": {
  "kernelspec": {
   "display_name": "Python 3",
   "language": "python",
   "name": "python3"
  },
  "language_info": {
   "codemirror_mode": {
    "name": "ipython",
    "version": 3
   },
   "file_extension": ".py",
   "mimetype": "text/x-python",
   "name": "python",
   "nbconvert_exporter": "python",
   "pygments_lexer": "ipython3",
   "version": "3.6.5"
  }
 },
 "nbformat": 4,
 "nbformat_minor": 2
}
