{
 "nbformat": 4,
 "nbformat_minor": 2,
 "metadata": {
  "language_info": {
   "name": "python",
   "codemirror_mode": {
    "name": "ipython",
    "version": 3
   },
   "version": "3.7.4-final"
  },
  "orig_nbformat": 2,
  "file_extension": ".py",
  "mimetype": "text/x-python",
  "name": "python",
  "npconvert_exporter": "python",
  "pygments_lexer": "ipython3",
  "version": 3,
  "kernelspec": {
   "name": "python3",
   "display_name": "Python 3"
  }
 },
 "cells": [
  {
   "cell_type": "code",
   "execution_count": 24,
   "metadata": {},
   "outputs": [],
   "source": [
    "import sys \n",
    "sys.path.insert(0, '../DataCleaning')\n",
    "\n",
    "import train_test_split"
   ]
  },
  {
   "cell_type": "markdown",
   "execution_count": null,
   "metadata": {},
   "outputs": [],
   "source": [
    "\n",
    "We want to run linear regression using the train test split for all systems and get the results.  \n",
    "First need to load all systems train test splits. "
   ]
  },
  {
   "cell_type": "code",
   "execution_count": 25,
   "metadata": {},
   "outputs": [],
   "source": [
    "DATA_DIR = '../../data'"
   ]
  },
  {
   "cell_type": "code",
   "execution_count": 26,
   "metadata": {},
   "outputs": [],
   "source": [
    "import json\n",
    "\n",
    "train_test_splits = {}\n",
    "\n",
    "with open('../../data/production_data/site_metadata.json', 'r') as file:\n",
    "    s = file.read()\n",
    "    site_md = json.loads(s)"
   ]
  },
  {
   "cell_type": "code",
   "execution_count": 27,
   "metadata": {},
   "outputs": [
    {
     "data": {
      "text/plain": "<module 'train_test_split' from '../DataCleaning/train_test_split.py'>"
     },
     "execution_count": 27,
     "metadata": {},
     "output_type": "execute_result"
    }
   ],
   "source": [
    "import importlib\n",
    "importlib.reload(train_test_split)"
   ]
  },
  {
   "cell_type": "code",
   "execution_count": 28,
   "metadata": {},
   "outputs": [
    {
     "name": "stdout",
     "output_type": "stream",
     "text": "{4: {'': 0, 'snow': 1, 'rain': 2, 'sleet': 3}}\n{4: {'': 0, 'rain': 1, 'snow': 2}}\n{4: {'': 0, 'rain': 1, 'snow': 2}}\n{4: {'': 0, 'rain': 1}}\n{4: {'': 0, 'rain': 1, 'sleet': 2, 'snow': 3}}\n{4: {'': 0, 'rain': 1, 'snow': 2, 'sleet': 3}}\n{4: {'': 0, 'rain': 1, 'snow': 2, 'sleet': 3}}\n{4: {'rain': 0, '': 1}}\n{4: {'': 0, 'rain': 1, 'snow': 2}}\n{4: {'': 0, 'rain': 1, 'snow': 2, 'sleet': 3}}\n{4: {'': 0, 'snow': 1, 'rain': 2}}\n{4: {'': 0, 'rain': 1, 'snow': 2, 'sleet': 3}}\n{4: {'': 0, 'rain': 1, 'snow': 2, 'sleet': 3}}\n{4: {'': 0, 'rain': 1, 'snow': 2, 'sleet': 3}}\n"
    }
   ],
   "source": [
    "from sklearn.linear_model import LinearRegression\n",
    "model = LinearRegression()\n",
    "\n",
    "for site in site_md:\n",
    "    site_id = site['id']\n",
    "    path = f'{DATA_DIR}/production_data/{site_id}/combination_data/production_weather_combination.csv'\n",
    "\n",
    "    train, test = train_test_split.split(path, 4, 3, 1)\n",
    "\n",
    "    X_data, Y_data = train_test_split.to_vector([train, test])\n",
    "    train_test_splits[site_id] = (X_data, Y_data)"
   ]
  },
  {
   "cell_type": "code",
   "execution_count": 30,
   "metadata": {},
   "outputs": [
    {
     "name": "stdout",
     "output_type": "stream",
     "text": "System 103941:\n\t Mean Squared Error: 194133.48546153677\n\t Root Mean Squared Error: 440.60581641818663\n\t Mean Absolute Error: 353.1888355926919\n\t Mean Absolute Percentage Error: 12907.437223030016\n\t r2 score: 0.5817418205416935\nSystem 1232644:\n\t Mean Squared Error: 91575.7683290172\n\t Root Mean Squared Error: 302.6148845133319\n\t Mean Absolute Error: 241.7144207264198\n\t Mean Absolute Percentage Error: 631.9700442562996\n\t r2 score: 0.7097262022376007\nSystem 787197:\n\t Mean Squared Error: 557944.9544007698\n\t Root Mean Squared Error: 746.9571302295533\n\t Mean Absolute Error: 613.2247267978596\n\t Mean Absolute Percentage Error: 575.5358769573131\n\t r2 score: 0.5382538554701235\nSystem 238320:\n\t Mean Squared Error: 40144.645810430746\n\t Root Mean Squared Error: 200.3612882031625\n\t Mean Absolute Error: 164.25162865170756\n\t Mean Absolute Percentage Error: 4587.203670171475\n\t r2 score: 0.8494527068774449\nSystem 349060:\n\t Mean Squared Error: 125555.7947300062\n\t Root Mean Squared Error: 354.33853125225625\n\t Mean Absolute Error: 274.52300307630827\n\t Mean Absolute Percentage Error: 511.85366843890546\n\t r2 score: 0.7011590764774477\nSystem 477834:\n\t Mean Squared Error: 40226.68981922531\n\t Root Mean Squared Error: 200.5659238734868\n\t Mean Absolute Error: 157.24393432215408\n\t Mean Absolute Percentage Error: 371.293485347481\n\t r2 score: 0.6148256423755304\nSystem 641826:\n\t Mean Squared Error: 1586804.6003857232\n\t Root Mean Squared Error: 1259.6843256886716\n\t Mean Absolute Error: 985.782059807149\n\t Mean Absolute Percentage Error: 807.0668124653376\n\t r2 score: 0.7296805150296599\nSystem 896164:\n\t Mean Squared Error: 89753.05240107677\n\t Root Mean Squared Error: 299.5881379512159\n\t Mean Absolute Error: 227.99461947162766\n\t Mean Absolute Percentage Error: 408.87626691087513\n\t r2 score: 0.711514785450597\nSystem 717193:\n\t Mean Squared Error: 6462745.861815632\n\t Root Mean Squared Error: 2542.1931204799594\n\t Mean Absolute Error: 1943.3994706785204\n\t Mean Absolute Percentage Error: 996.2983486278227\n\t r2 score: 0.6252901793593147\nSystem 627759:\n\t Mean Squared Error: 1265408.8511215842\n\t Root Mean Squared Error: 1124.9039297298166\n\t Mean Absolute Error: 894.684865067333\n\t Mean Absolute Percentage Error: 711.2820928393918\n\t r2 score: 0.6300755346452727\nSystem 569932:\n\t Mean Squared Error: 904233.8239866599\n\t Root Mean Squared Error: 950.912101083302\n\t Mean Absolute Error: 758.9116710075468\n\t Mean Absolute Percentage Error: 678.926673727211\n\t r2 score: 0.7526324549446992\nSystem 466851:\n\t Mean Squared Error: 157501.86363685122\n\t Root Mean Squared Error: 396.8650446144775\n\t Mean Absolute Error: 305.2815495589657\n\t Mean Absolute Percentage Error: 856.3656653562875\n\t r2 score: 0.6554650098590491\nSystem 256177:\n\t Mean Squared Error: 2282145.0099812876\n\t Root Mean Squared Error: 1510.6770038566442\n\t Mean Absolute Error: 1225.9652437077527\n\t Mean Absolute Percentage Error: 5565.338916098763\n\t r2 score: 0.501814762110785\nSystem 505347:\n\t Mean Squared Error: 13228330.353287743\n\t Root Mean Squared Error: 3637.0771717531293\n\t Mean Absolute Error: 2915.404849529006\n\t Mean Absolute Percentage Error: 1351148.3221343374\n\t r2 score: 0.4924960872218367\n"
    }
   ],
   "source": [
    "import numpy as np\n",
    "from sklearn.linear_model import LinearRegression\n",
    "from sklearn.metrics import mean_squared_error, mean_absolute_error, r2_score\n",
    "from sklearn.utils import check_array\n",
    "import math\n",
    "\n",
    "# https://stats.stackexchange.com/a/62511\n",
    "def mean_absolute_percentage_error(y_true, y_pred):\n",
    "\n",
    "    # y_true = check_array(y_true)\n",
    "    # y_pred = check_array(y_pred)\n",
    "    # y_true, y_pred = check_arrays(y_true, y_pred)\n",
    "\n",
    "    ## Note: does not handle mix 1d representation\n",
    "    #if _is_1d(y_true): \n",
    "    #    y_true, y_pred = _check_1d_array(y_true, y_pred)\n",
    "\n",
    "    return np.mean(np.abs((y_true - y_pred) / y_true)) * 100\n",
    "\n",
    "for site in site_md:\n",
    "    model = LinearRegression()\n",
    "\n",
    "    site_id = site['id']\n",
    "    X_data, Y_data = train_test_splits[site_id]\n",
    "    X_train, X_test = X_data[0], X_data[1]\n",
    "    Y_train, Y_test = Y_data[0], Y_data[1]\n",
    "\n",
    "    model.fit(X_train, Y_train)\n",
    "\n",
    "    Y_prediction = model.predict(X_test)\n",
    "\n",
    "    mse = mean_squared_error(Y_test, Y_prediction)\n",
    "    mae = mean_absolute_error(Y_test, Y_prediction)\n",
    "    mape = mean_absolute_percentage_error(Y_test, Y_prediction)\n",
    "    r2 = r2_score(Y_test, Y_prediction)\n",
    "\n",
    "    print(f'System {site_id}:')\n",
    "    print(f'\\t Mean Squared Error: {mse}')\n",
    "    print(f'\\t Root Mean Squared Error: {math.sqrt(mse)}')\n",
    "    print(f'\\t Mean Absolute Error: {mae}')\n",
    "    print(f'\\t Mean Absolute Percentage Error: {mape}')\n",
    "    print(f'\\t r2 score: {r2}')\n",
    "    # print(f'\\t Coefficents: {model.coef_}')"
   ]
  },
  {
   "cell_type": "code",
   "execution_count": null,
   "metadata": {},
   "outputs": [],
   "source": []
  }
 ]
}