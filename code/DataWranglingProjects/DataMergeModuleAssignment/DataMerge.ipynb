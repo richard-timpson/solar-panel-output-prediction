{
 "nbformat": 4,
 "nbformat_minor": 2,
 "metadata": {
  "language_info": {
   "name": "python",
   "codemirror_mode": {
    "name": "ipython",
    "version": 3
   },
   "version": "3.7.4-final"
  },
  "orig_nbformat": 2,
  "file_extension": ".py",
  "mimetype": "text/x-python",
  "name": "python",
  "npconvert_exporter": "python",
  "pygments_lexer": "ipython3",
  "version": 3,
  "kernelspec": {
   "name": "python3",
   "display_name": "Python 3"
  }
 },
 "cells": [
  {
   "cell_type": "code",
   "execution_count": 1,
   "metadata": {},
   "outputs": [],
   "source": [
    "import pandas as pd"
   ]
  },
  {
   "cell_type": "markdown",
   "execution_count": null,
   "metadata": {},
   "outputs": [],
   "source": [
    "# Module Assignment 04\n",
    "Richard Timpson  \n",
    "Solar Irradiance and Energy Production"
   ]
  },
  {
   "cell_type": "markdown",
   "execution_count": null,
   "metadata": {},
   "outputs": [],
   "source": [
    "For this assignment I would like to explore the relationship between the solar irradiance exposure to photovaultaic solar panels and the actual energy output that they produce for residential and commercial solar energy production systems. While exploring this relationship there are two major important factors to consider. One is solar irradiance which is a measure of the potential solar energy output for a given surface area and can be estimated by using various methods (see this link for more information). The other is the actual architecture of given solar panel system. This includes the number of panels and total surface area of exposure, the panel tilt and orientation, and the panel efficiency and effectivness in producing energy. There is a well defined mathematical relationship of the theoretical energy output of a given solar panel system using the solar irradiance and panel architecture. I would like to test the effectiveness of this theoretical model using real world data. I have gathered several data sets that I need to combine to perform the analysis. One for solar energy production, one for panel system architecture, and one for solar irradiance. I'm not going to add the data gathering code because it was a complicated enough project on its own and a lot of it I have used for other assignments. The focus of this project will be on the data merge between the simulated output of the systems using the solar irradiance and architecture datasets, and the actual output of the systems using the production data"
   ]
  },
  {
   "cell_type": "code",
   "execution_count": 2,
   "metadata": {},
   "outputs": [],
   "source": [
    "DATA_PATH = '../../../data'"
   ]
  },
  {
   "cell_type": "markdown",
   "execution_count": null,
   "metadata": {},
   "outputs": [],
   "source": [
    "# Read in Data"
   ]
  },
  {
   "cell_type": "markdown",
   "execution_count": null,
   "metadata": {},
   "outputs": [],
   "source": [
    "## Architecture Data\n",
    "The panel architecutre has information about each separate panel."
   ]
  },
  {
   "cell_type": "code",
   "execution_count": 3,
   "metadata": {},
   "outputs": [
    {
     "data": {
      "text/html": "<div>\n<style scoped>\n    .dataframe tbody tr th:only-of-type {\n        vertical-align: middle;\n    }\n\n    .dataframe tbody tr th {\n        vertical-align: top;\n    }\n\n    .dataframe thead th {\n        text-align: right;\n    }\n</style>\n<table border=\"1\" class=\"dataframe\">\n  <thead>\n    <tr style=\"text-align: right;\">\n      <th></th>\n      <th>site_id</th>\n      <th>site_name</th>\n      <th>group_id</th>\n      <th>x</th>\n      <th>y</th>\n      <th>height</th>\n      <th>width</th>\n      <th>azimuth</th>\n      <th>module_orientation</th>\n      <th>module_tilt</th>\n      <th>...</th>\n      <th>module_height</th>\n      <th>vSpacing</th>\n      <th>hSpacing</th>\n      <th>num_rows</th>\n      <th>num_columns</th>\n      <th>module_id</th>\n      <th>row</th>\n      <th>column</th>\n      <th>id</th>\n      <th>inverterId</th>\n    </tr>\n  </thead>\n  <tbody>\n    <tr>\n      <td>0</td>\n      <td>103941</td>\n      <td>Anonymous</td>\n      <td>1334105</td>\n      <td>130.77</td>\n      <td>0.36</td>\n      <td>444.0</td>\n      <td>466.0</td>\n      <td>180.0</td>\n      <td>HORIZONTAL</td>\n      <td>10.0</td>\n      <td>...</td>\n      <td>90.0</td>\n      <td>4.0</td>\n      <td>4.0</td>\n      <td>7</td>\n      <td>5</td>\n      <td>12504693</td>\n      <td>6</td>\n      <td>4</td>\n      <td>17962171</td>\n      <td>17962133</td>\n    </tr>\n    <tr>\n      <td>1</td>\n      <td>103941</td>\n      <td>Anonymous</td>\n      <td>1334105</td>\n      <td>130.77</td>\n      <td>0.36</td>\n      <td>444.0</td>\n      <td>466.0</td>\n      <td>180.0</td>\n      <td>HORIZONTAL</td>\n      <td>10.0</td>\n      <td>...</td>\n      <td>90.0</td>\n      <td>4.0</td>\n      <td>4.0</td>\n      <td>7</td>\n      <td>5</td>\n      <td>12504701</td>\n      <td>5</td>\n      <td>2</td>\n      <td>17962142</td>\n      <td>17962133</td>\n    </tr>\n    <tr>\n      <td>2</td>\n      <td>103941</td>\n      <td>Anonymous</td>\n      <td>1334105</td>\n      <td>130.77</td>\n      <td>0.36</td>\n      <td>444.0</td>\n      <td>466.0</td>\n      <td>180.0</td>\n      <td>HORIZONTAL</td>\n      <td>10.0</td>\n      <td>...</td>\n      <td>90.0</td>\n      <td>4.0</td>\n      <td>4.0</td>\n      <td>7</td>\n      <td>5</td>\n      <td>12504716</td>\n      <td>2</td>\n      <td>3</td>\n      <td>17962155</td>\n      <td>17962133</td>\n    </tr>\n    <tr>\n      <td>3</td>\n      <td>103941</td>\n      <td>Anonymous</td>\n      <td>1334105</td>\n      <td>130.77</td>\n      <td>0.36</td>\n      <td>444.0</td>\n      <td>466.0</td>\n      <td>180.0</td>\n      <td>HORIZONTAL</td>\n      <td>10.0</td>\n      <td>...</td>\n      <td>90.0</td>\n      <td>4.0</td>\n      <td>4.0</td>\n      <td>7</td>\n      <td>5</td>\n      <td>12504700</td>\n      <td>4</td>\n      <td>1</td>\n      <td>17962153</td>\n      <td>17962133</td>\n    </tr>\n    <tr>\n      <td>4</td>\n      <td>103941</td>\n      <td>Anonymous</td>\n      <td>1334105</td>\n      <td>130.77</td>\n      <td>0.36</td>\n      <td>444.0</td>\n      <td>466.0</td>\n      <td>180.0</td>\n      <td>HORIZONTAL</td>\n      <td>10.0</td>\n      <td>...</td>\n      <td>90.0</td>\n      <td>4.0</td>\n      <td>4.0</td>\n      <td>7</td>\n      <td>5</td>\n      <td>12504709</td>\n      <td>2</td>\n      <td>2</td>\n      <td>17962148</td>\n      <td>17962133</td>\n    </tr>\n    <tr>\n      <td>...</td>\n      <td>...</td>\n      <td>...</td>\n      <td>...</td>\n      <td>...</td>\n      <td>...</td>\n      <td>...</td>\n      <td>...</td>\n      <td>...</td>\n      <td>...</td>\n      <td>...</td>\n      <td>...</td>\n      <td>...</td>\n      <td>...</td>\n      <td>...</td>\n      <td>...</td>\n      <td>...</td>\n      <td>...</td>\n      <td>...</td>\n      <td>...</td>\n      <td>...</td>\n      <td>...</td>\n    </tr>\n    <tr>\n      <td>1075</td>\n      <td>505347</td>\n      <td>Anonymous</td>\n      <td>10943098</td>\n      <td>341.34</td>\n      <td>781.60</td>\n      <td>90.0</td>\n      <td>2300.0</td>\n      <td>180.0</td>\n      <td>VERTICAL</td>\n      <td>0.0</td>\n      <td>...</td>\n      <td>90.0</td>\n      <td>4.0</td>\n      <td>4.0</td>\n      <td>1</td>\n      <td>36</td>\n      <td>129943316</td>\n      <td>0</td>\n      <td>13</td>\n      <td>47222810</td>\n      <td>47222771</td>\n    </tr>\n    <tr>\n      <td>1076</td>\n      <td>505347</td>\n      <td>Anonymous</td>\n      <td>10943098</td>\n      <td>341.34</td>\n      <td>781.60</td>\n      <td>90.0</td>\n      <td>2300.0</td>\n      <td>180.0</td>\n      <td>VERTICAL</td>\n      <td>0.0</td>\n      <td>...</td>\n      <td>90.0</td>\n      <td>4.0</td>\n      <td>4.0</td>\n      <td>1</td>\n      <td>36</td>\n      <td>129943332</td>\n      <td>0</td>\n      <td>16</td>\n      <td>47222802</td>\n      <td>47222771</td>\n    </tr>\n    <tr>\n      <td>1077</td>\n      <td>505347</td>\n      <td>Anonymous</td>\n      <td>10943098</td>\n      <td>341.34</td>\n      <td>781.60</td>\n      <td>90.0</td>\n      <td>2300.0</td>\n      <td>180.0</td>\n      <td>VERTICAL</td>\n      <td>0.0</td>\n      <td>...</td>\n      <td>90.0</td>\n      <td>4.0</td>\n      <td>4.0</td>\n      <td>1</td>\n      <td>36</td>\n      <td>129943323</td>\n      <td>0</td>\n      <td>1</td>\n      <td>47222805</td>\n      <td>47222771</td>\n    </tr>\n    <tr>\n      <td>1078</td>\n      <td>505347</td>\n      <td>Anonymous</td>\n      <td>10943098</td>\n      <td>341.34</td>\n      <td>781.60</td>\n      <td>90.0</td>\n      <td>2300.0</td>\n      <td>180.0</td>\n      <td>VERTICAL</td>\n      <td>0.0</td>\n      <td>...</td>\n      <td>90.0</td>\n      <td>4.0</td>\n      <td>4.0</td>\n      <td>1</td>\n      <td>36</td>\n      <td>129943340</td>\n      <td>0</td>\n      <td>2</td>\n      <td>47222783</td>\n      <td>47222771</td>\n    </tr>\n    <tr>\n      <td>1079</td>\n      <td>505347</td>\n      <td>Anonymous</td>\n      <td>10943098</td>\n      <td>341.34</td>\n      <td>781.60</td>\n      <td>90.0</td>\n      <td>2300.0</td>\n      <td>180.0</td>\n      <td>VERTICAL</td>\n      <td>0.0</td>\n      <td>...</td>\n      <td>90.0</td>\n      <td>4.0</td>\n      <td>4.0</td>\n      <td>1</td>\n      <td>36</td>\n      <td>129943306</td>\n      <td>0</td>\n      <td>0</td>\n      <td>47222805</td>\n      <td>47222771</td>\n    </tr>\n  </tbody>\n</table>\n<p>1080 rows × 21 columns</p>\n</div>",
      "text/plain": "      site_id  site_name  group_id       x       y  height   width  azimuth  \\\n0      103941  Anonymous   1334105  130.77    0.36   444.0   466.0    180.0   \n1      103941  Anonymous   1334105  130.77    0.36   444.0   466.0    180.0   \n2      103941  Anonymous   1334105  130.77    0.36   444.0   466.0    180.0   \n3      103941  Anonymous   1334105  130.77    0.36   444.0   466.0    180.0   \n4      103941  Anonymous   1334105  130.77    0.36   444.0   466.0    180.0   \n...       ...        ...       ...     ...     ...     ...     ...      ...   \n1075   505347  Anonymous  10943098  341.34  781.60    90.0  2300.0    180.0   \n1076   505347  Anonymous  10943098  341.34  781.60    90.0  2300.0    180.0   \n1077   505347  Anonymous  10943098  341.34  781.60    90.0  2300.0    180.0   \n1078   505347  Anonymous  10943098  341.34  781.60    90.0  2300.0    180.0   \n1079   505347  Anonymous  10943098  341.34  781.60    90.0  2300.0    180.0   \n\n     module_orientation  module_tilt  ...  module_height  vSpacing  hSpacing  \\\n0            HORIZONTAL         10.0  ...           90.0       4.0       4.0   \n1            HORIZONTAL         10.0  ...           90.0       4.0       4.0   \n2            HORIZONTAL         10.0  ...           90.0       4.0       4.0   \n3            HORIZONTAL         10.0  ...           90.0       4.0       4.0   \n4            HORIZONTAL         10.0  ...           90.0       4.0       4.0   \n...                 ...          ...  ...            ...       ...       ...   \n1075           VERTICAL          0.0  ...           90.0       4.0       4.0   \n1076           VERTICAL          0.0  ...           90.0       4.0       4.0   \n1077           VERTICAL          0.0  ...           90.0       4.0       4.0   \n1078           VERTICAL          0.0  ...           90.0       4.0       4.0   \n1079           VERTICAL          0.0  ...           90.0       4.0       4.0   \n\n      num_rows  num_columns  module_id  row  column        id  inverterId  \n0            7            5   12504693    6       4  17962171    17962133  \n1            7            5   12504701    5       2  17962142    17962133  \n2            7            5   12504716    2       3  17962155    17962133  \n3            7            5   12504700    4       1  17962153    17962133  \n4            7            5   12504709    2       2  17962148    17962133  \n...        ...          ...        ...  ...     ...       ...         ...  \n1075         1           36  129943316    0      13  47222810    47222771  \n1076         1           36  129943332    0      16  47222802    47222771  \n1077         1           36  129943323    0       1  47222805    47222771  \n1078         1           36  129943340    0       2  47222783    47222771  \n1079         1           36  129943306    0       0  47222805    47222771  \n\n[1080 rows x 21 columns]"
     },
     "execution_count": 3,
     "metadata": {},
     "output_type": "execute_result"
    }
   ],
   "source": [
    "# panel architecture\n",
    "architecture_df = pd.read_csv(f'{DATA_PATH}/panel_architecture.csv')\n",
    "architecture_df"
   ]
  },
  {
   "cell_type": "code",
   "execution_count": 36,
   "metadata": {},
   "outputs": [
    {
     "name": "stdout",
     "output_type": "stream",
     "text": "10.0\n180.0\n"
    }
   ],
   "source": [
    "site_architecture_df = architecture_df[architecture_df['site_id'] == 103941]\n",
    "groups = site_architecture_df.groupby(['module_tilt', 'azimuth'])\n",
    "list(groups.groups.keys())\n",
    "tilt = list(groups.groups.keys())[0][0]\n",
    "azimuth = list(groups.groups.keys())[0][1]\n",
    "print(tilt)\n",
    "print(azimuth)"
   ]
  },
  {
   "cell_type": "code",
   "execution_count": 29,
   "metadata": {},
   "outputs": [
    {
     "name": "stdout",
     "output_type": "stream",
     "text": "Number of arrays for system 103941: 1\nNumber of arrays for system 1232644: 2\nNumber of arrays for system 787197: 1\nNumber of arrays for system 238320: 2\nNumber of arrays for system 349060: 2\nNumber of arrays for system 477834: 1\nNumber of arrays for system 641826: 1\nNumber of arrays for system 896164: 3\nNumber of arrays for system 717193: 3\nNumber of arrays for system 627759: 3\nNumber of arrays for system 569932: 3\nNumber of arrays for system 466851: 1\nNumber of arrays for system 256177: 2\nNumber of arrays for system 505347: 1\n"
    }
   ],
   "source": [
    "for site in production_md:\n",
    "    site_id = int(site['id'])\n",
    "    site_architecture_df = architecture_df[architecture_df['site_id'] == site_id]\n",
    "    groups = site_architecture_df.groupby(['module_tilt', 'azimuth'])\n",
    "    num_arrays = len(group.groups)\n",
    "    if num_arrays == 1:\n",
    "        tilt = list(groups.groups.keys())[0][0]\n",
    "        azimuth = list(groups.groups.keys())[0][1]\n",
    "    print(f'Number of arrays for system {site_id}: {len(groups.groups)}')"
   ]
  },
  {
   "cell_type": "markdown",
   "execution_count": null,
   "metadata": {},
   "outputs": [],
   "source": [
    "## Irradiance Data\n",
    "I have irradiance data for several different site locations that correspond with the location of the solar panel system. I'm going to read in the irradiance data for all locations in a dictionary. I first want to read in a site irradiance metadata file that will give me the unique ids of each system"
   ]
  },
  {
   "cell_type": "code",
   "execution_count": 4,
   "metadata": {},
   "outputs": [
    {
     "data": {
      "text/plain": "{'113805': {'start_year': 2015,\n  'end_year': 2018,\n  'md': {'Source': 'NSRDB',\n   'Location ID': 113805,\n   'City': '-',\n   'State': '-',\n   'Country': '-',\n   'Latitude': 36.97,\n   'Longitude': -112.98,\n   'Time Zone': 0,\n   'Elevation': 1510,\n   'Local Time Zone': -7,\n   'Clearsky DHI Units': 'w/m2',\n   'Clearsky DNI Units': 'w/m2',\n   'Clearsky GHI Units': 'w/m2',\n   'Dew Point Units': 'c',\n   'DHI Units': 'w/m2',\n   'DNI Units': 'w/m2',\n   'GHI Units': 'w/m2',\n   'Solar Zenith Angle Units': 'Degree',\n   'Temperature Units': 'c',\n   'Pressure Units': 'mbar',\n   'Relative Humidity Units': '%',\n   'Precipitable Water Units': 'cm',\n   'Wind Direction Units': 'Degrees',\n   'Wind Speed': 'm/s',\n   'Cloud Type -15': None,\n   'Cloud Type 0': 'Clear',\n   'Cloud Type 1': 'Probably Clear',\n   'Cloud Type 2': 'Fog',\n   'Cloud Type 3': 'Water',\n   'Cloud Type 4': 'Super-Cooled Water',\n   'Cloud Type 5': 'Mixed',\n   'Cloud Type 6': 'Opaque Ice',\n   'Cloud Type 7': 'Cirrus',\n   'Cloud Type 8': 'Overlapping',\n   'Cloud Type 9': 'Overshooting',\n   'Cloud Type 10': 'Unknown',\n   'Cloud Type 11': 'Dust',\n   'Cloud Type 12': 'Smoke',\n   'Fill Flag 0': None,\n   'Fill Flag 1': 'Missing Image',\n   'Fill Flag 2': 'Low Irradiance',\n   'Fill Flag 3': 'Exceeds Clearsky',\n   'Fill Flag 4': 'Missing CLoud Properties',\n   'Fill Flag 5': 'Rayleigh Violation',\n   'Surface Albedo Units': None,\n   'Version': 'v3.0.1'}},\n '116439': {'start_year': 2019,\n  'end_year': 2018,\n  'md': {'Source': 'NSRDB',\n   'Location ID': 116439,\n   'City': '-',\n   'State': '-',\n   'Country': '-',\n   'Latitude': 37.21,\n   'Longitude': -113.26,\n   'Time Zone': 0,\n   'Elevation': 1055,\n   'Local Time Zone': -7,\n   'Clearsky DHI Units': 'w/m2',\n   'Clearsky DNI Units': 'w/m2',\n   'Clearsky GHI Units': 'w/m2',\n   'Dew Point Units': 'c',\n   'DHI Units': 'w/m2',\n   'DNI Units': 'w/m2',\n   'GHI Units': 'w/m2',\n   'Solar Zenith Angle Units': 'Degree',\n   'Temperature Units': 'c',\n   'Pressure Units': 'mbar',\n   'Relative Humidity Units': '%',\n   'Precipitable Water Units': 'cm',\n   'Wind Direction Units': 'Degrees',\n   'Wind Speed': 'm/s',\n   'Cloud Type -15': None,\n   'Cloud Type 0': 'Clear',\n   'Cloud Type 1': 'Probably Clear',\n   'Cloud Type 2': 'Fog',\n   'Cloud Type 3': 'Water',\n   'Cloud Type 4': 'Super-Cooled Water',\n   'Cloud Type 5': 'Mixed',\n   'Cloud Type 6': 'Opaque Ice',\n   'Cloud Type 7': 'Cirrus',\n   'Cloud Type 8': 'Overlapping',\n   'Cloud Type 9': 'Overshooting',\n   'Cloud Type 10': 'Unknown',\n   'Cloud Type 11': 'Dust',\n   'Cloud Type 12': 'Smoke',\n   'Fill Flag 0': None,\n   'Fill Flag 1': 'Missing Image',\n   'Fill Flag 2': 'Low Irradiance',\n   'Fill Flag 3': 'Exceeds Clearsky',\n   'Fill Flag 4': 'Missing CLoud Properties',\n   'Fill Flag 5': 'Rayleigh Violation',\n   'Surface Albedo Units': None,\n   'Version': 'v3.0.1'}},\n '114245': {'start_year': 2018,\n  'end_year': 2018,\n  'md': {'Source': 'NSRDB',\n   'Location ID': 114245,\n   'City': '-',\n   'State': '-',\n   'Country': '-',\n   'Latitude': 37.01,\n   'Longitude': -112.98,\n   'Time Zone': 0,\n   'Elevation': 1730,\n   'Local Time Zone': -7,\n   'Clearsky DHI Units': 'w/m2',\n   'Clearsky DNI Units': 'w/m2',\n   'Clearsky GHI Units': 'w/m2',\n   'Dew Point Units': 'c',\n   'DHI Units': 'w/m2',\n   'DNI Units': 'w/m2',\n   'GHI Units': 'w/m2',\n   'Solar Zenith Angle Units': 'Degree',\n   'Temperature Units': 'c',\n   'Pressure Units': 'mbar',\n   'Relative Humidity Units': '%',\n   'Precipitable Water Units': 'cm',\n   'Wind Direction Units': 'Degrees',\n   'Wind Speed': 'm/s',\n   'Cloud Type -15': None,\n   'Cloud Type 0': 'Clear',\n   'Cloud Type 1': 'Probably Clear',\n   'Cloud Type 2': 'Fog',\n   'Cloud Type 3': 'Water',\n   'Cloud Type 4': 'Super-Cooled Water',\n   'Cloud Type 5': 'Mixed',\n   'Cloud Type 6': 'Opaque Ice',\n   'Cloud Type 7': 'Cirrus',\n   'Cloud Type 8': 'Overlapping',\n   'Cloud Type 9': 'Overshooting',\n   'Cloud Type 10': 'Unknown',\n   'Cloud Type 11': 'Dust',\n   'Cloud Type 12': 'Smoke',\n   'Fill Flag 0': None,\n   'Fill Flag 1': 'Missing Image',\n   'Fill Flag 2': 'Low Irradiance',\n   'Fill Flag 3': 'Exceeds Clearsky',\n   'Fill Flag 4': 'Missing CLoud Properties',\n   'Fill Flag 5': 'Rayleigh Violation',\n   'Surface Albedo Units': None,\n   'Version': 'v3.0.1'}},\n '119311': {'start_year': 2016,\n  'end_year': 2018,\n  'md': {'Source': 'NSRDB',\n   'Location ID': 119311,\n   'City': '-',\n   'State': '-',\n   'Country': '-',\n   'Latitude': 37.49,\n   'Longitude': -122.3,\n   'Time Zone': 0,\n   'Elevation': 143,\n   'Local Time Zone': -8,\n   'Clearsky DHI Units': 'w/m2',\n   'Clearsky DNI Units': 'w/m2',\n   'Clearsky GHI Units': 'w/m2',\n   'Dew Point Units': 'c',\n   'DHI Units': 'w/m2',\n   'DNI Units': 'w/m2',\n   'GHI Units': 'w/m2',\n   'Solar Zenith Angle Units': 'Degree',\n   'Temperature Units': 'c',\n   'Pressure Units': 'mbar',\n   'Relative Humidity Units': '%',\n   'Precipitable Water Units': 'cm',\n   'Wind Direction Units': 'Degrees',\n   'Wind Speed': 'm/s',\n   'Cloud Type -15': None,\n   'Cloud Type 0': 'Clear',\n   'Cloud Type 1': 'Probably Clear',\n   'Cloud Type 2': 'Fog',\n   'Cloud Type 3': 'Water',\n   'Cloud Type 4': 'Super-Cooled Water',\n   'Cloud Type 5': 'Mixed',\n   'Cloud Type 6': 'Opaque Ice',\n   'Cloud Type 7': 'Cirrus',\n   'Cloud Type 8': 'Overlapping',\n   'Cloud Type 9': 'Overshooting',\n   'Cloud Type 10': 'Unknown',\n   'Cloud Type 11': 'Dust',\n   'Cloud Type 12': 'Smoke',\n   'Fill Flag 0': None,\n   'Fill Flag 1': 'Missing Image',\n   'Fill Flag 2': 'Low Irradiance',\n   'Fill Flag 3': 'Exceeds Clearsky',\n   'Fill Flag 4': 'Missing CLoud Properties',\n   'Fill Flag 5': 'Rayleigh Violation',\n   'Surface Albedo Units': None,\n   'Version': 'v3.0.1'}},\n '89627': {'start_year': 2016,\n  'end_year': 2018,\n  'md': {'Source': 'NSRDB',\n   'Location ID': 89627,\n   'City': '-',\n   'State': '-',\n   'Country': '-',\n   'Latitude': 34.65,\n   'Longitude': -111.78,\n   'Time Zone': 0,\n   'Elevation': 1098,\n   'Local Time Zone': -7,\n   'Clearsky DHI Units': 'w/m2',\n   'Clearsky DNI Units': 'w/m2',\n   'Clearsky GHI Units': 'w/m2',\n   'Dew Point Units': 'c',\n   'DHI Units': 'w/m2',\n   'DNI Units': 'w/m2',\n   'GHI Units': 'w/m2',\n   'Solar Zenith Angle Units': 'Degree',\n   'Temperature Units': 'c',\n   'Pressure Units': 'mbar',\n   'Relative Humidity Units': '%',\n   'Precipitable Water Units': 'cm',\n   'Wind Direction Units': 'Degrees',\n   'Wind Speed': 'm/s',\n   'Cloud Type -15': None,\n   'Cloud Type 0': 'Clear',\n   'Cloud Type 1': 'Probably Clear',\n   'Cloud Type 2': 'Fog',\n   'Cloud Type 3': 'Water',\n   'Cloud Type 4': 'Super-Cooled Water',\n   'Cloud Type 5': 'Mixed',\n   'Cloud Type 6': 'Opaque Ice',\n   'Cloud Type 7': 'Cirrus',\n   'Cloud Type 8': 'Overlapping',\n   'Cloud Type 9': 'Overshooting',\n   'Cloud Type 10': 'Unknown',\n   'Cloud Type 11': 'Dust',\n   'Cloud Type 12': 'Smoke',\n   'Fill Flag 0': None,\n   'Fill Flag 1': 'Missing Image',\n   'Fill Flag 2': 'Low Irradiance',\n   'Fill Flag 3': 'Exceeds Clearsky',\n   'Fill Flag 4': 'Missing CLoud Properties',\n   'Fill Flag 5': 'Rayleigh Violation',\n   'Surface Albedo Units': None,\n   'Version': 'v3.0.1'}},\n '151965': {'start_year': 2017,\n  'end_year': 2018,\n  'md': {'Source': 'NSRDB',\n   'Location ID': 151965,\n   'City': '-',\n   'State': '-',\n   'Country': '-',\n   'Latitude': 40.25,\n   'Longitude': -111.7,\n   'Time Zone': 0,\n   'Elevation': 1398,\n   'Local Time Zone': -7,\n   'Clearsky DHI Units': 'w/m2',\n   'Clearsky DNI Units': 'w/m2',\n   'Clearsky GHI Units': 'w/m2',\n   'Dew Point Units': 'c',\n   'DHI Units': 'w/m2',\n   'DNI Units': 'w/m2',\n   'GHI Units': 'w/m2',\n   'Solar Zenith Angle Units': 'Degree',\n   'Temperature Units': 'c',\n   'Pressure Units': 'mbar',\n   'Relative Humidity Units': '%',\n   'Precipitable Water Units': 'cm',\n   'Wind Direction Units': 'Degrees',\n   'Wind Speed': 'm/s',\n   'Cloud Type -15': None,\n   'Cloud Type 0': 'Clear',\n   'Cloud Type 1': 'Probably Clear',\n   'Cloud Type 2': 'Fog',\n   'Cloud Type 3': 'Water',\n   'Cloud Type 4': 'Super-Cooled Water',\n   'Cloud Type 5': 'Mixed',\n   'Cloud Type 6': 'Opaque Ice',\n   'Cloud Type 7': 'Cirrus',\n   'Cloud Type 8': 'Overlapping',\n   'Cloud Type 9': 'Overshooting',\n   'Cloud Type 10': 'Unknown',\n   'Cloud Type 11': 'Dust',\n   'Cloud Type 12': 'Smoke',\n   'Fill Flag 0': None,\n   'Fill Flag 1': 'Missing Image',\n   'Fill Flag 2': 'Low Irradiance',\n   'Fill Flag 3': 'Exceeds Clearsky',\n   'Fill Flag 4': 'Missing CLoud Properties',\n   'Fill Flag 5': 'Rayleigh Violation',\n   'Surface Albedo Units': None,\n   'Version': 'v3.0.1'}},\n '114696': {'start_year': 2018,\n  'end_year': 2018,\n  'md': {'Source': 'NSRDB',\n   'Location ID': 114696,\n   'City': '-',\n   'State': '-',\n   'Country': '-',\n   'Latitude': 37.05,\n   'Longitude': -112.54,\n   'Time Zone': 0,\n   'Elevation': 1589,\n   'Local Time Zone': -7,\n   'Clearsky DHI Units': 'w/m2',\n   'Clearsky DNI Units': 'w/m2',\n   'Clearsky GHI Units': 'w/m2',\n   'Dew Point Units': 'c',\n   'DHI Units': 'w/m2',\n   'DNI Units': 'w/m2',\n   'GHI Units': 'w/m2',\n   'Solar Zenith Angle Units': 'Degree',\n   'Temperature Units': 'c',\n   'Pressure Units': 'mbar',\n   'Relative Humidity Units': '%',\n   'Precipitable Water Units': 'cm',\n   'Wind Direction Units': 'Degrees',\n   'Wind Speed': 'm/s',\n   'Cloud Type -15': None,\n   'Cloud Type 0': 'Clear',\n   'Cloud Type 1': 'Probably Clear',\n   'Cloud Type 2': 'Fog',\n   'Cloud Type 3': 'Water',\n   'Cloud Type 4': 'Super-Cooled Water',\n   'Cloud Type 5': 'Mixed',\n   'Cloud Type 6': 'Opaque Ice',\n   'Cloud Type 7': 'Cirrus',\n   'Cloud Type 8': 'Overlapping',\n   'Cloud Type 9': 'Overshooting',\n   'Cloud Type 10': 'Unknown',\n   'Cloud Type 11': 'Dust',\n   'Cloud Type 12': 'Smoke',\n   'Fill Flag 0': None,\n   'Fill Flag 1': 'Missing Image',\n   'Fill Flag 2': 'Low Irradiance',\n   'Fill Flag 3': 'Exceeds Clearsky',\n   'Fill Flag 4': 'Missing CLoud Properties',\n   'Fill Flag 5': 'Rayleigh Violation',\n   'Surface Albedo Units': None,\n   'Version': 'v3.0.1'}},\n '80122': {'start_year': 2018,\n  'end_year': 2018,\n  'md': {'Source': 'NSRDB',\n   'Location ID': 80122,\n   'City': '-',\n   'State': '-',\n   'Country': '-',\n   'Latitude': 33.69,\n   'Longitude': -118.02,\n   'Time Zone': 0,\n   'Elevation': 6,\n   'Local Time Zone': -8,\n   'Clearsky DHI Units': 'w/m2',\n   'Clearsky DNI Units': 'w/m2',\n   'Clearsky GHI Units': 'w/m2',\n   'Dew Point Units': 'c',\n   'DHI Units': 'w/m2',\n   'DNI Units': 'w/m2',\n   'GHI Units': 'w/m2',\n   'Solar Zenith Angle Units': 'Degree',\n   'Temperature Units': 'c',\n   'Pressure Units': 'mbar',\n   'Relative Humidity Units': '%',\n   'Precipitable Water Units': 'cm',\n   'Wind Direction Units': 'Degrees',\n   'Wind Speed': 'm/s',\n   'Cloud Type -15': None,\n   'Cloud Type 0': 'Clear',\n   'Cloud Type 1': 'Probably Clear',\n   'Cloud Type 2': 'Fog',\n   'Cloud Type 3': 'Water',\n   'Cloud Type 4': 'Super-Cooled Water',\n   'Cloud Type 5': 'Mixed',\n   'Cloud Type 6': 'Opaque Ice',\n   'Cloud Type 7': 'Cirrus',\n   'Cloud Type 8': 'Overlapping',\n   'Cloud Type 9': 'Overshooting',\n   'Cloud Type 10': 'Unknown',\n   'Cloud Type 11': 'Dust',\n   'Cloud Type 12': 'Smoke',\n   'Fill Flag 0': None,\n   'Fill Flag 1': 'Missing Image',\n   'Fill Flag 2': 'Low Irradiance',\n   'Fill Flag 3': 'Exceeds Clearsky',\n   'Fill Flag 4': 'Missing CLoud Properties',\n   'Fill Flag 5': 'Rayleigh Violation',\n   'Surface Albedo Units': None,\n   'Version': 'v3.0.1'}},\n '113806': {'start_year': 2018,\n  'end_year': 2018,\n  'md': {'Source': 'NSRDB',\n   'Location ID': 113806,\n   'City': '-',\n   'State': '-',\n   'Country': '-',\n   'Latitude': 36.97,\n   'Longitude': -112.94,\n   'Time Zone': 0,\n   'Elevation': 1698,\n   'Local Time Zone': -7,\n   'Clearsky DHI Units': 'w/m2',\n   'Clearsky DNI Units': 'w/m2',\n   'Clearsky GHI Units': 'w/m2',\n   'Dew Point Units': 'c',\n   'DHI Units': 'w/m2',\n   'DNI Units': 'w/m2',\n   'GHI Units': 'w/m2',\n   'Solar Zenith Angle Units': 'Degree',\n   'Temperature Units': 'c',\n   'Pressure Units': 'mbar',\n   'Relative Humidity Units': '%',\n   'Precipitable Water Units': 'cm',\n   'Wind Direction Units': 'Degrees',\n   'Wind Speed': 'm/s',\n   'Cloud Type -15': None,\n   'Cloud Type 0': 'Clear',\n   'Cloud Type 1': 'Probably Clear',\n   'Cloud Type 2': 'Fog',\n   'Cloud Type 3': 'Water',\n   'Cloud Type 4': 'Super-Cooled Water',\n   'Cloud Type 5': 'Mixed',\n   'Cloud Type 6': 'Opaque Ice',\n   'Cloud Type 7': 'Cirrus',\n   'Cloud Type 8': 'Overlapping',\n   'Cloud Type 9': 'Overshooting',\n   'Cloud Type 10': 'Unknown',\n   'Cloud Type 11': 'Dust',\n   'Cloud Type 12': 'Smoke',\n   'Fill Flag 0': None,\n   'Fill Flag 1': 'Missing Image',\n   'Fill Flag 2': 'Low Irradiance',\n   'Fill Flag 3': 'Exceeds Clearsky',\n   'Fill Flag 4': 'Missing CLoud Properties',\n   'Fill Flag 5': 'Rayleigh Violation',\n   'Surface Albedo Units': None,\n   'Version': 'v3.0.1'}},\n '115995': {'start_year': 2017,\n  'end_year': 2018,\n  'md': {'Source': 'NSRDB',\n   'Location ID': 115995,\n   'City': '-',\n   'State': '-',\n   'Country': '-',\n   'Latitude': 37.17,\n   'Longitude': -113.38,\n   'Time Zone': 0,\n   'Elevation': 890,\n   'Local Time Zone': -7,\n   'Clearsky DHI Units': 'w/m2',\n   'Clearsky DNI Units': 'w/m2',\n   'Clearsky GHI Units': 'w/m2',\n   'Dew Point Units': 'c',\n   'DHI Units': 'w/m2',\n   'DNI Units': 'w/m2',\n   'GHI Units': 'w/m2',\n   'Solar Zenith Angle Units': 'Degree',\n   'Temperature Units': 'c',\n   'Pressure Units': 'mbar',\n   'Relative Humidity Units': '%',\n   'Precipitable Water Units': 'cm',\n   'Wind Direction Units': 'Degrees',\n   'Wind Speed': 'm/s',\n   'Cloud Type -15': None,\n   'Cloud Type 0': 'Clear',\n   'Cloud Type 1': 'Probably Clear',\n   'Cloud Type 2': 'Fog',\n   'Cloud Type 3': 'Water',\n   'Cloud Type 4': 'Super-Cooled Water',\n   'Cloud Type 5': 'Mixed',\n   'Cloud Type 6': 'Opaque Ice',\n   'Cloud Type 7': 'Cirrus',\n   'Cloud Type 8': 'Overlapping',\n   'Cloud Type 9': 'Overshooting',\n   'Cloud Type 10': 'Unknown',\n   'Cloud Type 11': 'Dust',\n   'Cloud Type 12': 'Smoke',\n   'Fill Flag 0': None,\n   'Fill Flag 1': 'Missing Image',\n   'Fill Flag 2': 'Low Irradiance',\n   'Fill Flag 3': 'Exceeds Clearsky',\n   'Fill Flag 4': 'Missing CLoud Properties',\n   'Fill Flag 5': 'Rayleigh Violation',\n   'Surface Albedo Units': None,\n   'Version': 'v3.0.1'}},\n '157836': {'start_year': 2017,\n  'end_year': 2018,\n  'md': {'Source': 'NSRDB',\n   'Location ID': 157836,\n   'City': '-',\n   'State': '-',\n   'Country': '-',\n   'Latitude': 40.73,\n   'Longitude': -111.98,\n   'Time Zone': 0,\n   'Elevation': 1269,\n   'Local Time Zone': -7,\n   'Clearsky DHI Units': 'w/m2',\n   'Clearsky DNI Units': 'w/m2',\n   'Clearsky GHI Units': 'w/m2',\n   'Dew Point Units': 'c',\n   'DHI Units': 'w/m2',\n   'DNI Units': 'w/m2',\n   'GHI Units': 'w/m2',\n   'Solar Zenith Angle Units': 'Degree',\n   'Temperature Units': 'c',\n   'Pressure Units': 'mbar',\n   'Relative Humidity Units': '%',\n   'Precipitable Water Units': 'cm',\n   'Wind Direction Units': 'Degrees',\n   'Wind Speed': 'm/s',\n   'Cloud Type -15': None,\n   'Cloud Type 0': 'Clear',\n   'Cloud Type 1': 'Probably Clear',\n   'Cloud Type 2': 'Fog',\n   'Cloud Type 3': 'Water',\n   'Cloud Type 4': 'Super-Cooled Water',\n   'Cloud Type 5': 'Mixed',\n   'Cloud Type 6': 'Opaque Ice',\n   'Cloud Type 7': 'Cirrus',\n   'Cloud Type 8': 'Overlapping',\n   'Cloud Type 9': 'Overshooting',\n   'Cloud Type 10': 'Unknown',\n   'Cloud Type 11': 'Dust',\n   'Cloud Type 12': 'Smoke',\n   'Fill Flag 0': None,\n   'Fill Flag 1': 'Missing Image',\n   'Fill Flag 2': 'Low Irradiance',\n   'Fill Flag 3': 'Exceeds Clearsky',\n   'Fill Flag 4': 'Missing CLoud Properties',\n   'Fill Flag 5': 'Rayleigh Violation',\n   'Surface Albedo Units': None,\n   'Version': 'v3.0.1'}}}"
     },
     "execution_count": 4,
     "metadata": {},
     "output_type": "execute_result"
    }
   ],
   "source": [
    "import json\n",
    "\n",
    "with open(f'{DATA_PATH}/irradiance_data/irradiance_metadata.json', 'r') as file:\n",
    "    s = file.read()\n",
    "    irradiance_md = json.loads(s)\n",
    "irradiance_md"
   ]
  },
  {
   "cell_type": "markdown",
   "execution_count": null,
   "metadata": {},
   "outputs": [],
   "source": [
    "The irradiance data gives three different irradiance measures, GHI, DHI, DNI (to be explained later), and several different weather measures every 30 minutes from as early as we there is production data for a location to the end of 2018"
   ]
  },
  {
   "cell_type": "code",
   "execution_count": 5,
   "metadata": {},
   "outputs": [
    {
     "name": "stdout",
     "output_type": "stream",
     "text": "No irradiance data for site 116439\n"
    },
    {
     "data": {
      "text/html": "<div>\n<style scoped>\n    .dataframe tbody tr th:only-of-type {\n        vertical-align: middle;\n    }\n\n    .dataframe tbody tr th {\n        vertical-align: top;\n    }\n\n    .dataframe thead th {\n        text-align: right;\n    }\n</style>\n<table border=\"1\" class=\"dataframe\">\n  <thead>\n    <tr style=\"text-align: right;\">\n      <th></th>\n      <th>Unnamed: 0</th>\n      <th>Year</th>\n      <th>Month</th>\n      <th>Day</th>\n      <th>Hour</th>\n      <th>Minute</th>\n      <th>GHI</th>\n      <th>DHI</th>\n      <th>DNI</th>\n      <th>Wind Speed</th>\n      <th>Temperature</th>\n      <th>Solar Zenith Angle</th>\n    </tr>\n  </thead>\n  <tbody>\n    <tr>\n      <td>0</td>\n      <td>0</td>\n      <td>2018</td>\n      <td>1</td>\n      <td>1</td>\n      <td>0</td>\n      <td>0</td>\n      <td>67</td>\n      <td>44</td>\n      <td>151</td>\n      <td>1.5</td>\n      <td>16.7</td>\n      <td>81.12</td>\n    </tr>\n    <tr>\n      <td>1</td>\n      <td>1</td>\n      <td>2018</td>\n      <td>1</td>\n      <td>1</td>\n      <td>0</td>\n      <td>30</td>\n      <td>34</td>\n      <td>24</td>\n      <td>147</td>\n      <td>1.6</td>\n      <td>16.3</td>\n      <td>86.25</td>\n    </tr>\n    <tr>\n      <td>2</td>\n      <td>2</td>\n      <td>2018</td>\n      <td>1</td>\n      <td>1</td>\n      <td>1</td>\n      <td>0</td>\n      <td>2</td>\n      <td>3</td>\n      <td>20</td>\n      <td>1.7</td>\n      <td>15.8</td>\n      <td>91.92</td>\n    </tr>\n    <tr>\n      <td>3</td>\n      <td>3</td>\n      <td>2018</td>\n      <td>1</td>\n      <td>1</td>\n      <td>1</td>\n      <td>30</td>\n      <td>0</td>\n      <td>0</td>\n      <td>0</td>\n      <td>1.9</td>\n      <td>15.5</td>\n      <td>97.59</td>\n    </tr>\n    <tr>\n      <td>4</td>\n      <td>4</td>\n      <td>2018</td>\n      <td>1</td>\n      <td>1</td>\n      <td>2</td>\n      <td>0</td>\n      <td>0</td>\n      <td>0</td>\n      <td>0</td>\n      <td>2.0</td>\n      <td>15.2</td>\n      <td>103.43</td>\n    </tr>\n    <tr>\n      <td>...</td>\n      <td>...</td>\n      <td>...</td>\n      <td>...</td>\n      <td>...</td>\n      <td>...</td>\n      <td>...</td>\n      <td>...</td>\n      <td>...</td>\n      <td>...</td>\n      <td>...</td>\n      <td>...</td>\n      <td>...</td>\n    </tr>\n    <tr>\n      <td>17515</td>\n      <td>17515</td>\n      <td>2018</td>\n      <td>12</td>\n      <td>31</td>\n      <td>21</td>\n      <td>30</td>\n      <td>418</td>\n      <td>128</td>\n      <td>598</td>\n      <td>3.2</td>\n      <td>16.5</td>\n      <td>61.02</td>\n    </tr>\n    <tr>\n      <td>17516</td>\n      <td>17516</td>\n      <td>2018</td>\n      <td>12</td>\n      <td>31</td>\n      <td>22</td>\n      <td>0</td>\n      <td>239</td>\n      <td>182</td>\n      <td>130</td>\n      <td>3.3</td>\n      <td>16.5</td>\n      <td>64.00</td>\n    </tr>\n    <tr>\n      <td>17517</td>\n      <td>17517</td>\n      <td>2018</td>\n      <td>12</td>\n      <td>31</td>\n      <td>22</td>\n      <td>30</td>\n      <td>261</td>\n      <td>131</td>\n      <td>340</td>\n      <td>3.3</td>\n      <td>16.3</td>\n      <td>67.59</td>\n    </tr>\n    <tr>\n      <td>17518</td>\n      <td>17518</td>\n      <td>2018</td>\n      <td>12</td>\n      <td>31</td>\n      <td>23</td>\n      <td>0</td>\n      <td>170</td>\n      <td>96</td>\n      <td>235</td>\n      <td>3.4</td>\n      <td>16.1</td>\n      <td>71.71</td>\n    </tr>\n    <tr>\n      <td>17519</td>\n      <td>17519</td>\n      <td>2018</td>\n      <td>12</td>\n      <td>31</td>\n      <td>23</td>\n      <td>30</td>\n      <td>113</td>\n      <td>93</td>\n      <td>84</td>\n      <td>3.4</td>\n      <td>16.1</td>\n      <td>76.26</td>\n    </tr>\n  </tbody>\n</table>\n<p>17520 rows × 12 columns</p>\n</div>",
      "text/plain": "       Unnamed: 0  Year  Month  Day  Hour  Minute  GHI  DHI  DNI  Wind Speed  \\\n0               0  2018      1    1     0       0   67   44  151         1.5   \n1               1  2018      1    1     0      30   34   24  147         1.6   \n2               2  2018      1    1     1       0    2    3   20         1.7   \n3               3  2018      1    1     1      30    0    0    0         1.9   \n4               4  2018      1    1     2       0    0    0    0         2.0   \n...           ...   ...    ...  ...   ...     ...  ...  ...  ...         ...   \n17515       17515  2018     12   31    21      30  418  128  598         3.2   \n17516       17516  2018     12   31    22       0  239  182  130         3.3   \n17517       17517  2018     12   31    22      30  261  131  340         3.3   \n17518       17518  2018     12   31    23       0  170   96  235         3.4   \n17519       17519  2018     12   31    23      30  113   93   84         3.4   \n\n       Temperature  Solar Zenith Angle  \n0             16.7               81.12  \n1             16.3               86.25  \n2             15.8               91.92  \n3             15.5               97.59  \n4             15.2              103.43  \n...            ...                 ...  \n17515         16.5               61.02  \n17516         16.5               64.00  \n17517         16.3               67.59  \n17518         16.1               71.71  \n17519         16.1               76.26  \n\n[17520 rows x 12 columns]"
     },
     "execution_count": 5,
     "metadata": {},
     "output_type": "execute_result"
    }
   ],
   "source": [
    "irradiance_dfs = {}\n",
    "for key, value in irradiance_md.items():\n",
    "    try:\n",
    "        df = pd.read_csv(f'{DATA_PATH}/irradiance_data/{key}/irradiance_data.csv')\n",
    "    except:\n",
    "        print(f'No irradiance data for site {key}')\n",
    "    else:\n",
    "        irradiance_dfs[key] = df\n",
    "irradiance_dfs['80122']"
   ]
  },
  {
   "cell_type": "markdown",
   "execution_count": null,
   "metadata": {},
   "outputs": [],
   "source": [
    "## Production data\n",
    "Similar to the irradiance data, there is a metadata file that holds information about the production data for each separate solar panel system. Some of the solar panel systems have the same irradiance site readings, so there will be more panel systems than there will be irradiance sites. The metadata holds information about which irradiance site corresponds with the production data. The production data is spread over many files (for github hosting reasons) for a single system, so we'll have to loop through the files to create a single data frame\n",
    "\n",
    "# TODO: Remake a different site_metadata file that is to be used just for the school project and that doesn't have any personal information"
   ]
  },
  {
   "cell_type": "code",
   "execution_count": 27,
   "metadata": {},
   "outputs": [
    {
     "data": {
      "text/plain": "[{'id': 103941,\n  'name': 'Alan Knudson House',\n  'accountId': 53921,\n  'status': 'Active',\n  'peakPower': 10.36,\n  'lastUpdateTime': '2020-01-21',\n  'currency': 'USD',\n  'installationDate': '2015-01-31',\n  'ptoDate': None,\n  'notes': '',\n  'type': 'Optimizers & Inverters',\n  'location': {'country': 'United States',\n   'state': 'Arizona',\n   'city': 'Centennial Park',\n   'address': 'Taylor Court 1745',\n   'address2': '',\n   'zip': '86021',\n   'timeZone': 'America/Phoenix',\n   'countryCode': 'US',\n   'stateCode': 'AZ',\n   'lat': 36.9587533,\n   'long': -112.9758274},\n  'alertQuantity': 0,\n  'primaryModule': {'manufacturerName': 'RENESOLA',\n   'modelName': 'SE11400A-US',\n   'maximumPower': 310.0,\n   'temperatureCoef': -0.4},\n  'uris': {'PUBLIC_URL': 'https://monitoring.solaredge.com/solaredge-web/p/public?name=Alan Knudson Canopy',\n   'DATA_PERIOD': '/site/103941/dataPeriod',\n   'DETAILS': '/site/103941/details',\n   'OVERVIEW': '/site/103941/overview'},\n  'publicSettings': {'name': 'Alan Knudson Canopy', 'isPublic': True},\n  'time_interval': {'startDate': '2015-02-09', 'endDate': '2020-01-21'},\n  'irradiance_site_id': 113805},\n {'id': 1232644,\n  'name': 'Cherry Orchards Lot#33',\n  'accountId': 53921,\n  'status': 'Active',\n  'peakPower': 7.6,\n  'lastUpdateTime': '2020-01-21',\n  'currency': 'USD',\n  'installationDate': '2019-08-01',\n  'ptoDate': None,\n  'notes': '',\n  'type': 'Optimizers & Inverters',\n  'location': {'country': 'United States',\n   'state': 'Utah',\n   'city': 'La Verkin',\n   'address': '300 North 220',\n   'address2': '',\n   'zip': '84745',\n   'timeZone': 'America/Denver',\n   'countryCode': 'US',\n   'stateCode': 'UT',\n   'lat': 37.2065196,\n   'long': -113.27477809999999},\n  'alertQuantity': 0,\n  'primaryModule': {'manufacturerName': 'Silfab',\n   'modelName': 'SLG290P',\n   'maximumPower': 285.0,\n   'temperatureCoef': -0.31},\n  'uris': {'SITE_IMAGE': '/site/1232644/siteImage/roof%20image.jpg',\n   'DATA_PERIOD': '/site/1232644/dataPeriod',\n   'DETAILS': '/site/1232644/details',\n   'OVERVIEW': '/site/1232644/overview'},\n  'publicSettings': {'isPublic': False},\n  'time_interval': {'startDate': '2019-08-14', 'endDate': '2020-01-21'},\n  'irradiance_site_id': 116439},\n {'id': 787197,\n  'name': 'Crop Circles Carport',\n  'accountId': 53921,\n  'status': 'Active',\n  'peakPower': 12.0,\n  'lastUpdateTime': '2020-01-21',\n  'installationDate': '2018-07-21',\n  'ptoDate': None,\n  'notes': '',\n  'type': 'Optimizers & Inverters',\n  'location': {'country': 'United States',\n   'state': 'Arizona',\n   'city': 'Colorado City',\n   'address': 'Unnamed Road ',\n   'address2': '',\n   'zip': '86021',\n   'timeZone': 'America/Phoenix',\n   'countryCode': 'US',\n   'stateCode': 'AZ',\n   'lat': 36.9902621,\n   'long': -112.9757702},\n  'alertQuantity': 0,\n  'primaryModule': {'manufacturerName': 'Hanwha Q-Cells',\n   'modelName': ' L-G4.2 330',\n   'maximumPower': 330.0,\n   'temperatureCoef': -29.0},\n  'uris': {'DETAILS': '/site/787197/details',\n   'DATA_PERIOD': '/site/787197/dataPeriod',\n   'OVERVIEW': '/site/787197/overview'},\n  'publicSettings': {'isPublic': False},\n  'time_interval': {'startDate': '2018-07-23', 'endDate': '2020-01-21'},\n  'irradiance_site_id': 114245},\n {'id': 238320,\n  'name': 'Dave Meyers',\n  'accountId': 53921,\n  'status': 'Active',\n  'peakPower': 6.9,\n  'lastUpdateTime': '2017-10-13',\n  'installationDate': '2016-03-31',\n  'ptoDate': None,\n  'notes': '',\n  'type': 'Optimizers & Inverters',\n  'location': {'country': 'United States',\n   'state': 'California',\n   'city': 'Belmont',\n   'address': 'Somerset Drive 2608',\n   'address2': '',\n   'zip': '94002',\n   'timeZone': 'America/Los_Angeles',\n   'countryCode': 'US',\n   'stateCode': 'CA',\n   'lat': 37.5034316,\n   'long': -122.3064554},\n  'alertQuantity': 3,\n  'alertSeverity': 'HIGH',\n  'primaryModule': {'manufacturerName': 'LG',\n   'modelName': 'LG300N1C-A3',\n   'maximumPower': 300.0},\n  'uris': {'DETAILS': '/site/238320/details',\n   'DATA_PERIOD': '/site/238320/dataPeriod',\n   'OVERVIEW': '/site/238320/overview'},\n  'publicSettings': {'isPublic': False},\n  'time_interval': {'startDate': '2016-03-31', 'endDate': '2017-10-13'},\n  'irradiance_site_id': 119311},\n {'id': 349060,\n  'name': 'Francisco Garcia 1',\n  'accountId': 53921,\n  'status': 'Active',\n  'peakPower': 10.5,\n  'lastUpdateTime': '2020-01-21',\n  'currency': 'USD',\n  'installationDate': '2016-11-18',\n  'ptoDate': None,\n  'notes': '',\n  'type': 'Optimizers & Inverters',\n  'location': {'country': 'United States',\n   'state': 'Arizona',\n   'city': 'Lake Montezuma',\n   'address': 'North David Wingfield Road 5295',\n   'address2': '',\n   'zip': '86335',\n   'timeZone': 'America/Phoenix',\n   'countryCode': 'US',\n   'stateCode': 'AZ',\n   'lat': 34.646224700000005,\n   'long': -111.7885507},\n  'alertQuantity': 0,\n  'primaryModule': {'manufacturerName': 'solar world',\n   'modelName': 'SW 300 MONO',\n   'maximumPower': 300.0,\n   'temperatureCoef': -0.3},\n  'uris': {'PUBLIC_URL': 'https://monitoring.solaredge.com/solaredge-web/p/public?name=RimrockAZ',\n   'SITE_IMAGE': '/site/349060/siteImage/unnamed.jpg',\n   'DATA_PERIOD': '/site/349060/dataPeriod',\n   'DETAILS': '/site/349060/details',\n   'OVERVIEW': '/site/349060/overview'},\n  'publicSettings': {'name': 'RimrockAZ', 'isPublic': True},\n  'time_interval': {'startDate': '2016-12-28', 'endDate': '2020-01-21'},\n  'irradiance_site_id': 89627},\n {'id': 477834,\n  'name': 'Gabriel Pineiro',\n  'accountId': 53921,\n  'status': 'Active',\n  'peakPower': 4.48,\n  'lastUpdateTime': '2020-01-21',\n  'installationDate': '2017-05-17',\n  'ptoDate': None,\n  'notes': '',\n  'type': 'Optimizers & Inverters',\n  'location': {'country': 'United States',\n   'state': 'Utah',\n   'city': 'Provo',\n   'address': 'West 960 North Street 2495',\n   'address2': '',\n   'zip': '84601',\n   'timeZone': 'America/Denver',\n   'countryCode': 'US',\n   'stateCode': 'UT',\n   'lat': 40.2463234,\n   'long': -111.70303290000001},\n  'alertQuantity': 1,\n  'alertSeverity': 'HIGH',\n  'primaryModule': {'manufacturerName': 'LG',\n   'modelName': 'LG315N1C-G4',\n   'maximumPower': 315.0},\n  'uris': {'SITE_IMAGE': '/site/477834/siteImage/Aurora%20Solar%20Arial%20Site%20plan.jpg',\n   'DATA_PERIOD': '/site/477834/dataPeriod',\n   'DETAILS': '/site/477834/details',\n   'OVERVIEW': '/site/477834/overview'},\n  'publicSettings': {'isPublic': False},\n  'time_interval': {'startDate': '2017-03-09', 'endDate': '2020-01-21'},\n  'irradiance_site_id': 151965},\n {'id': 641826,\n  'name': 'Garkane Kanab Pavilion',\n  'accountId': 53921,\n  'status': 'Active',\n  'peakPower': 30.0,\n  'lastUpdateTime': '2020-01-21',\n  'installationDate': '2018-02-08',\n  'ptoDate': None,\n  'notes': '',\n  'type': 'Optimizers & Inverters',\n  'location': {'country': 'United States',\n   'state': 'Utah',\n   'city': 'Kanab',\n   'address': 'West 450 North Street ',\n   'address2': '',\n   'zip': '84741',\n   'timeZone': 'America/Denver',\n   'countryCode': 'US',\n   'stateCode': 'UT',\n   'lat': 37.05509869999999,\n   'long': -112.52786},\n  'alertQuantity': 0,\n  'primaryModule': {'manufacturerName': 'Hanwha',\n   'modelName': 'Hanwha Q-Cells',\n   'maximumPower': 295.0},\n  'uris': {'DETAILS': '/site/641826/details',\n   'DATA_PERIOD': '/site/641826/dataPeriod',\n   'OVERVIEW': '/site/641826/overview'},\n  'publicSettings': {'isPublic': False},\n  'time_interval': {'startDate': '2018-02-09', 'endDate': '2020-01-21'},\n  'irradiance_site_id': 114696},\n {'id': 896164,\n  'name': 'Huntington Beach',\n  'accountId': 53921,\n  'status': 'Active',\n  'peakPower': 8.235,\n  'lastUpdateTime': '2020-01-21',\n  'installationDate': '2018-11-05',\n  'ptoDate': None,\n  'notes': '',\n  'type': 'Optimizers & Inverters',\n  'location': {'country': 'United States',\n   'state': 'California',\n   'city': 'Huntington Beach',\n   'address': 'Larkmont Drive 5692',\n   'address2': '',\n   'zip': '92649',\n   'timeZone': 'America/Los_Angeles',\n   'countryCode': 'US',\n   'stateCode': 'CA',\n   'lat': 33.704533399999995,\n   'long': -118.0291067},\n  'alertQuantity': 0,\n  'primaryModule': {'manufacturerName': 'Canadian Solar',\n   'modelName': 'CF6k-305 MS',\n   'maximumPower': 320.0},\n  'uris': {'SITE_IMAGE': '/site/896164/siteImage/South%20roof%20panels%20installed.jpg',\n   'DATA_PERIOD': '/site/896164/dataPeriod',\n   'DETAILS': '/site/896164/details',\n   'OVERVIEW': '/site/896164/overview'},\n  'publicSettings': {'isPublic': False},\n  'time_interval': {'startDate': '2018-11-06', 'endDate': '2020-01-21'},\n  'irradiance_site_id': 80122},\n {'id': 717193,\n  'name': 'Lion House',\n  'accountId': 53921,\n  'status': 'Active',\n  'peakPower': 54.0,\n  'lastUpdateTime': '2020-01-21',\n  'currency': 'USD',\n  'installationDate': '2017-12-01',\n  'ptoDate': None,\n  'notes': '',\n  'type': 'Optimizers & Inverters',\n  'location': {'country': 'United States',\n   'state': 'Arizona',\n   'city': 'Colorado City',\n   'address': 'Taylor Court 185',\n   'address2': '',\n   'zip': '86021',\n   'timeZone': 'America/Phoenix',\n   'countryCode': 'US',\n   'stateCode': 'AZ',\n   'lat': 36.95268069999999,\n   'long': -112.9597072},\n  'alertQuantity': 0,\n  'primaryModule': {'manufacturerName': 'Hanwha Q-Cells',\n   'modelName': 'L-G5 340',\n   'maximumPower': 340.0,\n   'temperatureCoef': -0.4},\n  'uris': {'SITE_IMAGE': '/site/717193/siteImage/arial%20carport%20image.jpg',\n   'DATA_PERIOD': '/site/717193/dataPeriod',\n   'DETAILS': '/site/717193/details',\n   'OVERVIEW': '/site/717193/overview'},\n  'publicSettings': {'isPublic': False},\n  'time_interval': {'startDate': '2018-04-21', 'endDate': '2020-01-21'},\n  'irradiance_site_id': 113806},\n {'id': 627759,\n  'name': 'Michael Cawley',\n  'accountId': 53921,\n  'status': 'Active',\n  'peakPower': 18.0,\n  'lastUpdateTime': '2020-01-21',\n  'currency': 'USD',\n  'installationDate': '2018-01-01',\n  'ptoDate': None,\n  'notes': '',\n  'type': 'Optimizers & Inverters',\n  'location': {'country': 'United States',\n   'state': 'Arizona',\n   'city': 'Colorado City',\n   'address': 'West Nuttall Avenue 560',\n   'address2': '',\n   'zip': '86021',\n   'timeZone': 'America/Phoenix',\n   'countryCode': 'US',\n   'stateCode': 'AZ',\n   'lat': 36.958596,\n   'long': -112.98454709999999},\n  'alertQuantity': 0,\n  'primaryModule': {'manufacturerName': 'LG',\n   'modelName': '300N1C',\n   'maximumPower': 300.0,\n   'temperatureCoef': -0.31},\n  'uris': {'SITE_IMAGE': '/site/627759/siteImage/pic%20final%20equipt%20layout%20for%20permitting.jpg',\n   'DATA_PERIOD': '/site/627759/dataPeriod',\n   'DETAILS': '/site/627759/details',\n   'OVERVIEW': '/site/627759/overview'},\n  'publicSettings': {'isPublic': False},\n  'time_interval': {'startDate': '2018-01-17', 'endDate': '2020-01-21'},\n  'irradiance_site_id': 113805},\n {'id': 569932,\n  'name': 'Quail Creek Ranch',\n  'accountId': 53921,\n  'status': 'Active',\n  'peakPower': 24.0,\n  'lastUpdateTime': '2020-01-21',\n  'installationDate': '2017-10-23',\n  'ptoDate': None,\n  'notes': '',\n  'type': 'Optimizers & Inverters',\n  'location': {'country': 'United States',\n   'state': 'Utah',\n   'city': 'Hurricane',\n   'address': '4275 West 324',\n   'address2': '',\n   'zip': '84737',\n   'timeZone': 'America/Denver',\n   'countryCode': 'US',\n   'stateCode': 'UT',\n   'lat': 37.17510499999999,\n   'long': -113.382926},\n  'alertQuantity': 0,\n  'primaryModule': {'manufacturerName': 'Hanwha Q-Cells',\n   'modelName': ' L-G4.2 330',\n   'maximumPower': 330.0,\n   'temperatureCoef': -29.0},\n  'uris': {'SITE_IMAGE': '/site/569932/siteImage/qc%20ranch%20installation%20image.jpg',\n   'DATA_PERIOD': '/site/569932/dataPeriod',\n   'DETAILS': '/site/569932/details',\n   'OVERVIEW': '/site/569932/overview'},\n  'publicSettings': {'isPublic': False},\n  'time_interval': {'startDate': '2017-10-23', 'endDate': '2020-01-21'},\n  'irradiance_site_id': 115995},\n {'id': 466851,\n  'name': 'Ronald L. McClellan Sr.',\n  'accountId': 53921,\n  'status': 'Active',\n  'peakPower': 9.6,\n  'lastUpdateTime': '2020-01-21',\n  'installationDate': '2017-05-17',\n  'ptoDate': None,\n  'notes': '',\n  'type': 'Optimizers & Inverters',\n  'location': {'country': 'United States',\n   'state': 'Utah',\n   'city': 'West Valley City',\n   'address': 'West 2730 South 2916',\n   'address2': '',\n   'zip': '84119',\n   'timeZone': 'America/Denver',\n   'countryCode': 'US',\n   'stateCode': 'UT',\n   'lat': 40.710912,\n   'long': -111.962157},\n  'alertQuantity': 0,\n  'primaryModule': {'manufacturerName': 'LG',\n   'modelName': 'Neon2 320W',\n   'maximumPower': 320.0},\n  'uris': {'SITE_IMAGE': '/site/466851/siteImage/Aurora%20Solar%20Portrait%20cropped.jpg',\n   'DATA_PERIOD': '/site/466851/dataPeriod',\n   'DETAILS': '/site/466851/details',\n   'OVERVIEW': '/site/466851/overview'},\n  'publicSettings': {'isPublic': False},\n  'time_interval': {'startDate': '2017-02-24', 'endDate': '2020-01-21'},\n  'irradiance_site_id': 157836},\n {'id': 256177,\n  'name': 'Sam Zitting',\n  'accountId': 53921,\n  'status': 'Active',\n  'peakPower': 25.0,\n  'lastUpdateTime': '2020-01-21',\n  'installationDate': '2016-05-20',\n  'ptoDate': None,\n  'notes': '',\n  'type': 'Optimizers & Inverters',\n  'location': {'country': 'United States',\n   'state': 'Arizona',\n   'city': 'Colorado City',\n   'address': 'Earl Avenue 665',\n   'address2': '',\n   'zip': '86021',\n   'timeZone': 'America/Phoenix',\n   'countryCode': 'US',\n   'stateCode': 'AZ',\n   'lat': 36.9591277,\n   'long': -112.98887739999999},\n  'alertQuantity': 0,\n  'primaryModule': {'manufacturerName': 'LG',\n   'modelName': '275w mono',\n   'maximumPower': 275.0},\n  'uris': {'DETAILS': '/site/256177/details',\n   'DATA_PERIOD': '/site/256177/dataPeriod',\n   'OVERVIEW': '/site/256177/overview'},\n  'publicSettings': {'isPublic': False},\n  'time_interval': {'startDate': '2016-05-16', 'endDate': '2020-01-21'},\n  'irradiance_site_id': 113805},\n {'id': 505347,\n  'name': 'SunGrow, Wilkins and Juniper',\n  'accountId': 53921,\n  'status': 'Active',\n  'peakPower': 60.0,\n  'lastUpdateTime': '2019-10-02',\n  'installationDate': '2017-07-20',\n  'ptoDate': None,\n  'notes': '',\n  'type': 'Optimizers & Inverters',\n  'location': {'country': 'United States',\n   'state': 'Arizona',\n   'city': 'Colorado City',\n   'address': 'Juniper Street 2085',\n   'address2': '',\n   'zip': '86021',\n   'timeZone': 'America/Phoenix',\n   'countryCode': 'US',\n   'stateCode': 'AZ',\n   'lat': 36.952701,\n   'long': -112.99262320000001},\n  'alertQuantity': 1,\n  'alertSeverity': 'INFO',\n  'primaryModule': {'manufacturerName': 'Hanwha Q-Cells',\n   'modelName': ' L-G4.2 330',\n   'maximumPower': 330.0,\n   'temperatureCoef': -29.0},\n  'uris': {'SITE_IMAGE': '/site/505347/siteImage/IMG_0061%20(1).jpg',\n   'DATA_PERIOD': '/site/505347/dataPeriod',\n   'DETAILS': '/site/505347/details',\n   'OVERVIEW': '/site/505347/overview'},\n  'publicSettings': {'isPublic': False},\n  'time_interval': {'startDate': '2017-06-08', 'endDate': '2019-10-02'},\n  'irradiance_site_id': 113805}]"
     },
     "execution_count": 27,
     "metadata": {},
     "output_type": "execute_result"
    }
   ],
   "source": [
    "with open(f'{DATA_PATH}/production_data/site_metadata.json', 'r') as file:\n",
    "    s = file.read()\n",
    "    production_md = json.loads(s)\n",
    "production_md"
   ]
  },
  {
   "cell_type": "code",
   "execution_count": 7,
   "metadata": {},
   "outputs": [],
   "source": [
    "import os\n",
    "\n",
    "def read_production_data(site_id):\n",
    "    path = f'{DATA_PATH}/production_data/{site_id}/production_data'\n",
    "    dfs = []\n",
    "#     production_df = pd.read_csv(f'data/{house}')\n",
    "    for subdir, dir, files in os.walk(path):\n",
    "        for file in files:\n",
    "            file_path = os.path.join(subdir, file)\n",
    "            df = pd.read_csv(file_path)\n",
    "            dfs.append(df)\n",
    "    production_df = pd.concat(dfs)\n",
    "    return production_df"
   ]
  },
  {
   "cell_type": "markdown",
   "execution_count": null,
   "metadata": {},
   "outputs": [],
   "source": [
    "The production data holds the system output in 15 minute increments for as long as the system has data"
   ]
  },
  {
   "cell_type": "code",
   "execution_count": 8,
   "metadata": {},
   "outputs": [
    {
     "data": {
      "text/html": "<div>\n<style scoped>\n    .dataframe tbody tr th:only-of-type {\n        vertical-align: middle;\n    }\n\n    .dataframe tbody tr th {\n        vertical-align: top;\n    }\n\n    .dataframe thead th {\n        text-align: right;\n    }\n</style>\n<table border=\"1\" class=\"dataframe\">\n  <thead>\n    <tr style=\"text-align: right;\">\n      <th></th>\n      <th>date</th>\n      <th>value</th>\n    </tr>\n  </thead>\n  <tbody>\n    <tr>\n      <td>0</td>\n      <td>2018-02-01 00:00:00</td>\n      <td>NaN</td>\n    </tr>\n    <tr>\n      <td>1</td>\n      <td>2018-02-01 00:15:00</td>\n      <td>NaN</td>\n    </tr>\n    <tr>\n      <td>2</td>\n      <td>2018-02-01 00:30:00</td>\n      <td>NaN</td>\n    </tr>\n    <tr>\n      <td>3</td>\n      <td>2018-02-01 00:45:00</td>\n      <td>NaN</td>\n    </tr>\n    <tr>\n      <td>4</td>\n      <td>2018-02-01 01:00:00</td>\n      <td>NaN</td>\n    </tr>\n    <tr>\n      <td>...</td>\n      <td>...</td>\n      <td>...</td>\n    </tr>\n    <tr>\n      <td>173563</td>\n      <td>2019-06-30 22:45:00</td>\n      <td>NaN</td>\n    </tr>\n    <tr>\n      <td>173564</td>\n      <td>2019-06-30 23:00:00</td>\n      <td>NaN</td>\n    </tr>\n    <tr>\n      <td>173565</td>\n      <td>2019-06-30 23:15:00</td>\n      <td>NaN</td>\n    </tr>\n    <tr>\n      <td>173566</td>\n      <td>2019-06-30 23:30:00</td>\n      <td>NaN</td>\n    </tr>\n    <tr>\n      <td>173567</td>\n      <td>2019-06-30 23:45:00</td>\n      <td>NaN</td>\n    </tr>\n  </tbody>\n</table>\n<p>347136 rows × 2 columns</p>\n</div>",
      "text/plain": "                       date  value\n0       2018-02-01 00:00:00    NaN\n1       2018-02-01 00:15:00    NaN\n2       2018-02-01 00:30:00    NaN\n3       2018-02-01 00:45:00    NaN\n4       2018-02-01 01:00:00    NaN\n...                     ...    ...\n173563  2019-06-30 22:45:00    NaN\n173564  2019-06-30 23:00:00    NaN\n173565  2019-06-30 23:15:00    NaN\n173566  2019-06-30 23:30:00    NaN\n173567  2019-06-30 23:45:00    NaN\n\n[347136 rows x 2 columns]"
     },
     "execution_count": 8,
     "metadata": {},
     "output_type": "execute_result"
    }
   ],
   "source": [
    "production_dfs = {}\n",
    "for site in production_md:\n",
    "    site_id = str(site['id'])\n",
    "    df = read_production_data(site_id)\n",
    "    production_dfs[site_id] = df\n",
    "production_dfs['103941']"
   ]
  },
  {
   "cell_type": "markdown",
   "execution_count": null,
   "metadata": {},
   "outputs": [],
   "source": [
    "# Data Resampling\n",
    "The main join is going to be happening on a timestamp between the observed production data and the predicted simulated production data. Because the solar irradiance comes in 30 minute increments, we'll need to resample the production data to 30 minute intervals taking the average of the values. We'll need to do a few things before we can join\n",
    "\n",
    "1. Create a new dataset that has the simulated production using the irradiance data and panel architecture for as long a time period as possible (stops at 2018) that is sampled every half hour. We only want the simulated values from the start of the actual production beginning, to the min(2018, production_data_end). This will allow for a join with the production data.\n",
    "2. Create a datetime index on the production data for each system and resample to 30 minute intervals. \n",
    "\n",
    "After we join the two datasets we will clean up any 0 values. "
   ]
  },
  {
   "cell_type": "markdown",
   "execution_count": null,
   "metadata": {},
   "outputs": [],
   "source": [
    "## Create new simulated dataset\n",
    "We can break this down into several steps. "
   ]
  },
  {
   "cell_type": "markdown",
   "execution_count": null,
   "metadata": {},
   "outputs": [],
   "source": [
    "### 1. Get the time interval of simulation data for each production system "
   ]
  },
  {
   "cell_type": "code",
   "execution_count": 9,
   "metadata": {},
   "outputs": [],
   "source": [
    "import datetime\n",
    "\n",
    "def get_start_end_for_simulation(site):\n",
    "    start_time_str = site['time_interval']['startDate']\n",
    "    start_time = datetime.datetime.strptime(start_time_str, '%Y-%m-%d')\n",
    "    production_end_time_str = site['time_interval']['endDate']\n",
    "    production_end_time = datetime.datetime.strptime(production_end_time_str, '%Y-%m-%d')\n",
    "    end_time_2018 = datetime.datetime(year=2018, month=12, day=31, hour = 23, minute = 30)\n",
    "\n",
    "    end_time = production_end_time if production_end_time < end_time_2018 else end_time_2018\n",
    "\n",
    "    return start_time, end_time"
   ]
  },
  {
   "cell_type": "markdown",
   "execution_count": null,
   "metadata": {},
   "outputs": [],
   "source": [
    "### 2. Calculate the simulate production for all available solar irradiance times as a series, and use that along with the interval to create a new data frame with the simulated data\n",
    "\n",
    "To perform the simulation, we are going to be using the System Advisor Model (SAM) from the National Renewal Energy Laboratory(NREL). They provide an [api](https://sam.nrel.gov/software-development-kit-sdk.html) that allows various configurations to be set for a simulation to be run. In this case, we can input information about the irradiance data at the specified time intervals, along with some of the revelant information from the panel architecture dataset.  \n",
    "\n",
    "Running the experiment proved to be troublesome, and I was not able to get simulation data for all systems. The SAM api runs one simulation based on the system capacity, module tilt, and azimuth angle. Many of the systems had more than one array of panels with different tilts and azimuth angles, so I decided to just skip those systems to make things simpler. Otherwise I would have had to treat each separate array as it's own simulation and perform some calculation to get the capacity of an individual array. \n",
    "\n",
    "It was also the case that some of the simulations did not run. The simulation API is just a wrapper for lower level C functions, so it would have taken more time than I would have liked to debug the broken simulations. This left me with only a few systems for which I was able to actually obtain simulation data. This is not ideal, but at least it gave me something.  \n",
    "\n",
    "Another important thing to note is that I made several assumptions when inputting information into the SAM model. I was not able to obtain information about each of the site inverters, so I set the DC/AC ratio at 1, and the inverter efficiency at 95%. These assumptions could potentially have a large impact on the result of the simulation, but I wanted to set them to numbers that would be conservative and reasonable. This means the simulation will not be totally accurate, but should produce non-trivial results. \n",
    "\n",
    "Much of this code was adapted from NREL's National Solar Radiation Database (NSRDB) [website and api](https://nsrdb.nrel.gov/data-sets/api-instructions.html), which was also used to gather the solar irradiance data. "
   ]
  },
  {
   "cell_type": "markdown",
   "metadata": {},
   "source": [
    "I first want to install the python wrapper for the SAM functions"
   ]
  },
  {
   "cell_type": "code",
   "execution_count": 71,
   "metadata": {},
   "outputs": [],
   "source": [
    "#!conda install nrel-pysam"
   ]
  },
  {
   "cell_type": "markdown",
   "metadata": {},
   "source": [
    "The following functions are used to perform the simulation. There are quite a large number of simulation parameters, but each is simple enough to understand. The most difficult part was extracting out the relevant information from the production site metadata, the irradiance data, and also the panel architecture data. The result of the simulation function is a data frame which holds the simulation values at 30 minute intervals for a given system. In a way, this is the result of joining multiple data from multiple datasets (mostly just metadata), to produce a result that has information from the"
   ]
  },
  {
   "cell_type": "code",
   "execution_count": 64,
   "metadata": {},
   "outputs": [],
   "source": [
    "from PySAM.PySSC import PySSC\n",
    "import numpy as np\n",
    "\n",
    "def get_panel_tilt_azimuth(site):\n",
    "    site_id = int(site['id'])\n",
    "    site_architecture_df = architecture_df[architecture_df['site_id'] == site_id]\n",
    "    groups = site_architecture_df.groupby(['module_tilt', 'azimuth'])\n",
    "    num_arrays = len(groups.groups)\n",
    "    if num_arrays == 1:\n",
    "        tilt = list(groups.groups.keys())[0][0]\n",
    "        azimuth = list(groups.groups.keys())[0][1]\n",
    "        return tilt, azimuth\n",
    "    else:\n",
    "        return None, None\n",
    "\n",
    "def get_resource_inputs(ir_md):\n",
    "    lat = ir_md['md']['Latitude']\n",
    "    lon = ir_md['md']['Longitude']\n",
    "    timezone = ir_md['md']['Time Zone']\n",
    "    elevation = ir_md['md']['Elevation']\n",
    "    return {\n",
    "        'lat': lat,\n",
    "        'lon': lon, \n",
    "        'timezone': timezone, \n",
    "        'elevation': elevation\n",
    "    }\n",
    "\n",
    "def get_system_inputs(site):\n",
    "    system_capacity = float(site['peakPower'])\n",
    "    tilt, azimuth = get_panel_tilt_azimuth(site)\n",
    "    if tilt is not None and azimuth is not None:\n",
    "        return {\n",
    "            'system_capacity': system_capacity, \n",
    "            'tilt': tilt, \n",
    "            'azimuth': azimuth\n",
    "        }\n",
    "    else:\n",
    "        return None\n",
    "\n",
    "def simulate_prod_data(ir_df, site):\n",
    "    ssc = PySSC()\n",
    "\n",
    "    system_inputs = get_system_inputs(site)\n",
    "    if system_inputs is not None:\n",
    "        irradiance_site_id = str(site['irradiance_site_id'])\n",
    "        ir_md = irradiance_md[irradiance_site_id]\n",
    "\n",
    "        resource_inputs = get_resource_inputs(ir_md)\n",
    "\n",
    "        # Resource inputs for SAM model:\n",
    "        wfd = ssc.data_create()\n",
    "        if ssc.data_set_number(wfd, b'lat', resource_inputs['lat']) == 0:\n",
    "            print('Couldnt set data variable lat')\n",
    "        if ssc.data_set_number(wfd, b'lon', resource_inputs['lon']) == 0:\n",
    "            print('Couldnt set data variable lon')\n",
    "        if ssc.data_set_number(wfd, b'tz', resource_inputs['timezone']) == 0:\n",
    "            print('Couldnt set data variable  timezone')\n",
    "        if ssc.data_set_number(wfd, b'elev', resource_inputs['elevation']) == 0:\n",
    "            print('Couldnt set data variable elevation')\n",
    "        if ssc.data_set_array(wfd, b'year', ir_df.index.year) == 0:\n",
    "            print('Couldnt set data variable year')\n",
    "        if ssc.data_set_array(wfd, b'month', ir_df.index.month) == 0:\n",
    "            print('Couldnt set data variable month')\n",
    "        if ssc.data_set_array(wfd, b'day', ir_df.index.day) == 0:\n",
    "            print('Couldnt set data variable day')\n",
    "        if ssc.data_set_array(wfd, b'hour', ir_df.index.hour) == 0:\n",
    "            print('Couldnt set data variable hour')\n",
    "        if ssc.data_set_array(wfd, b'minute', ir_df.index.minute) == 0:\n",
    "            print('Couldnt set data variable minute')\n",
    "        if ssc.data_set_array(wfd, b'dn', ir_df['DNI']) == 0:\n",
    "            print('Couldnt set data variable DNI')\n",
    "        if ssc.data_set_array(wfd, b'df', ir_df['DHI']) == 0:\n",
    "            print('Couldnt set data variable DHI')\n",
    "        if ssc.data_set_array(wfd, b'wspd', ir_df['Wind Speed']) == 0:\n",
    "            print('Couldnt set data variable wind speed')\n",
    "        if ssc.data_set_array(wfd, b'tdry', ir_df['Temperature']) == 0:\n",
    "            print('Couldnt set data variable temperature')\n",
    "\n",
    "        # Create SAM compliant object  \n",
    "        dat = ssc.data_create()\n",
    "        if ssc.data_set_table(dat, b'solar_resource_data', wfd) == 0:\n",
    "            print(\"Couldn't set solar_resource_data table\")\n",
    "        ssc.data_free(wfd)\n",
    "\n",
    "\n",
    "        # Specify the system Configuration\n",
    "        if ssc.data_set_number(dat, b'system_capacity', system_inputs['system_capacity']) == 0:\n",
    "            print('Couldnt set data variable system_capacity')\n",
    "        # Set DC/AC ratio (or power ratio). See https://sam.nrel.gov/sites/default/files/content/virtual_conf_july_2013/07-sam-virtual-conference-2013-woodcock.pdf\n",
    "        # for now I'm assuming this is 1. May try to update the calcuation if I can find relevant data. \n",
    "        if ssc.data_set_number(dat, b'dc_ac_ratio', 1.25) == 0:\n",
    "            print('Couldnt set data variable dc_ac_ratio')\n",
    "        # Set tilt of system in degrees\n",
    "        if ssc.data_set_number(dat, b'tilt', system_inputs['tilt']) == 0:\n",
    "            print('Couldnt set data variable tilt')\n",
    "        # Set azimuth angle (in degrees) from north (0 degrees)\n",
    "        if ssc.data_set_number(dat, b'azimuth', system_inputs['azimuth']) == 0:\n",
    "            print('Couldnt set data variable azimuth')\n",
    "        # Set the inverter efficency\n",
    "        if ssc.data_set_number(dat, b'inv_eff', 98) == 0:\n",
    "            print('Couldnt set data variable inverter efficiency')\n",
    "        # Set the system losses, in percent\n",
    "        if ssc.data_set_number(dat, b'losses', 10) == 0:\n",
    "            print('Couldnt set data variable losses')\n",
    "        # Specify fixed tilt system (0=Fixed, 1=Fixed Roof, 2=1 Axis Tracker, 3=Backtracted, 4=2 Axis Tracker)\n",
    "        if ssc.data_set_number(dat, b'array_type', 1) == 0:\n",
    "            print('Couldnt set data variable array type')\n",
    "        # Set ground coverage ratio\n",
    "        if ssc.data_set_number(dat, b'gcr', 0.2) == 0:\n",
    "            print('Couldnt set data variable ground coverage ratio')\n",
    "        # Set constant loss adjustment\n",
    "        if ssc.data_set_number(dat, b'adjust:constant', 0) == 0:\n",
    "            print('Couldnt set data variable constant loss adjustment')\n",
    "\n",
    "        # execute and return new dataframe with dates and resulting simulation values\n",
    "        mod = ssc.module_create(b'pvwattsv5')\n",
    "        if mod == 0:\n",
    "            print(\"Couldn't create module\")\n",
    "        if ssc.module_exec(mod, dat) == 0:\n",
    "            print(\"Couldn't exec created module\")\n",
    "            return None\n",
    "        else:\n",
    "            ret = np.array(ssc.data_get_array(dat, b'gen'))\n",
    "            # print(f'Irradiance site {irradiance_site_id}')\n",
    "            # print(ret)\n",
    "            df_copy = ir_df.copy()\n",
    "            df_copy['simulation_results'] = ret\n",
    "            ssc.data_free(dat)\n",
    "            ssc.module_free(mod)\n",
    "            return df_copy['simulation_results']\n",
    "    else:\n",
    "        print(f'System {site['id']} has more than one array, not simulating data')\n",
    "        return None"
   ]
  },
  {
   "cell_type": "code",
   "execution_count": 65,
   "metadata": {},
   "outputs": [],
   "source": [
    "def set_ir_df_datetime_idx(ir_df):\n",
    "    ir_df['date'] = ir_df.apply(lambda row: datetime.datetime(\n",
    "        year=int(row['Year']), \n",
    "        month=int(row['Month']), \n",
    "        day=int(row['Day']), \n",
    "        hour=int(row['Hour']), \n",
    "        minute=int(row['Minute']), \n",
    "        ), axis=1)\n",
    "    ir_df = ir_df.set_index('date')\n",
    "    return ir_df"
   ]
  },
  {
   "cell_type": "code",
   "execution_count": 66,
   "metadata": {},
   "outputs": [
    {
     "name": "stdout",
     "output_type": "stream",
     "text": "Couldn't exec created module\nSystem 116439 does not have irradiance data\nSystem has more than one array, not simulating data\nSystem has more than one array, not simulating data\nSystem has more than one array, not simulating data\nSystem has more than one array, not simulating data\nSystem has more than one array, not simulating data\nSystem has more than one array, not simulating data\nSystem has more than one array, not simulating data\nCouldn't exec created module\n"
    },
    {
     "data": {
      "text/plain": "dict_keys([787197, 477834, 641826, 466851])"
     },
     "execution_count": 66,
     "metadata": {},
     "output_type": "execute_result"
    }
   ],
   "source": [
    "irradiance_simulation_dfs = {}\n",
    "\n",
    "for site in production_md:\n",
    "    site_id = site['id']\n",
    "    start_time, end_time = get_start_end_for_simulation(site)    \n",
    "    ir_site_id = str(site['irradiance_site_id'])\n",
    "    try:\n",
    "        ir_df = irradiance_dfs[ir_site_id]\n",
    "    except:\n",
    "        print(f'System {ir_site_id} does not have irradiance data')\n",
    "    else:\n",
    "        ir_df = set_ir_df_datetime_idx(ir_df)\n",
    "        simulation = simulate_prod_data(ir_df, site)\n",
    "        if simulation is not None:\n",
    "            irradiance_simulation_dfs[site_id] = simulation\n",
    "            # print(type(simulation))\n",
    "irradiance_simulation_dfs.keys()"
   ]
  },
  {
   "cell_type": "code",
   "execution_count": 69,
   "metadata": {},
   "outputs": [
    {
     "data": {
      "text/plain": "date\n2018-01-01 00:00:00    0.484332\n2018-01-01 00:30:00    0.000000\n2018-01-01 01:00:00    0.000000\n2018-01-01 01:30:00    0.000000\n2018-01-01 02:00:00    0.000000\n                         ...   \n2018-12-31 21:30:00    5.201212\n2018-12-31 22:00:00    4.566675\n2018-12-31 22:30:00    3.897939\n2018-12-31 23:00:00    3.030575\n2018-12-31 23:30:00    2.000240\nName: simulation_results, Length: 17520, dtype: float64"
     },
     "execution_count": 69,
     "metadata": {},
     "output_type": "execute_result"
    }
   ],
   "source": [
    "irradiance_simulation_dfs[787197]"
   ]
  },
  {
   "cell_type": "code",
   "execution_count": 70,
   "metadata": {},
   "outputs": [
    {
     "data": {
      "text/plain": "date\n2017-01-01 00:00:00    0.000000\n2017-01-01 00:30:00    0.000000\n2017-01-01 01:00:00    0.000000\n2017-01-01 01:30:00    0.000000\n2017-01-01 02:00:00    0.000000\n                         ...   \n2018-12-31 21:30:00    1.132103\n2018-12-31 22:00:00    0.486325\n2018-12-31 22:30:00    0.372619\n2018-12-31 23:00:00    1.096959\n2018-12-31 23:30:00    0.218000\nName: simulation_results, Length: 35040, dtype: float64"
     },
     "execution_count": 70,
     "metadata": {},
     "output_type": "execute_result"
    }
   ],
   "source": [
    "irradiance_simulation_dfs[477834]"
   ]
  },
  {
   "cell_type": "code",
   "execution_count": null,
   "metadata": {},
   "outputs": [],
   "source": []
  }
 ]
}