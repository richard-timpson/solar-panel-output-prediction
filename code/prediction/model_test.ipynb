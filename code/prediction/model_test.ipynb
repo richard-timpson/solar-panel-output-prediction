{
 "cells": [
  {
   "cell_type": "code",
   "execution_count": 30,
   "metadata": {},
   "outputs": [
    {
     "output_type": "stream",
     "name": "stdout",
     "text": "The autoreload extension is already loaded. To reload it, use:\n  %reload_ext autoreload\n"
    }
   ],
   "source": [
    "import pickle\n",
    "import pandas as pd\n",
    "import json \n",
    "import numpy as np\n",
    "import sys \n",
    "sys.path.append('../')\n",
    "\n",
    "from data_manipulation.read_data import get_site_by_id\n",
    "from data_manipulation.feature_engineering import add_seasonality, clean_weather_features, reorder_columns, features\n",
    "from model_prediction import generate_prod_prediction, get_weather_forecast_df, get_irr_forecast_df, join_forecast_df, load_prod_model\n",
    "\n",
    "%load_ext autoreload\n",
    "%autoreload 2"
   ]
  },
  {
   "cell_type": "code",
   "execution_count": 33,
   "metadata": {},
   "outputs": [
    {
     "output_type": "stream",
     "name": "stdout",
     "text": "Making request to url: https://api.darksky.net/forecast/09af10825ba1cd8092ba13b76c911acd/36.9587533,-112.9758274\nMaking request to url: https://api.solcast.com.au/world_radiation/forecasts?latitude=36.9587533&longitude=-112.9758274&api_key=DH7r5R0ctJhIyHxnprkKEwjGcQl6cuR9&format=json\n"
    },
    {
     "output_type": "execute_result",
     "data": {
      "text/plain": "date\n2020-05-05 21:00:00+00:00    1275.114416\n2020-05-05 22:00:00+00:00     977.754603\n2020-05-05 23:00:00+00:00     664.470494\n2020-05-06 00:00:00+00:00     468.899466\n2020-05-06 01:00:00+00:00     514.940597\n2020-05-06 02:00:00+00:00     678.743572\n2020-05-06 03:00:00+00:00     847.368141\n2020-05-06 04:00:00+00:00     761.174193\n2020-05-06 05:00:00+00:00     763.628981\n2020-05-06 06:00:00+00:00     752.928787\n2020-05-06 07:00:00+00:00     754.956446\n2020-05-06 08:00:00+00:00     744.246525\n2020-05-06 09:00:00+00:00     710.546669\n2020-05-06 10:00:00+00:00     709.576299\n2020-05-06 11:00:00+00:00     570.883594\n2020-05-06 12:00:00+00:00     568.870597\n2020-05-06 13:00:00+00:00     646.445093\n2020-05-06 14:00:00+00:00     441.477585\n2020-05-06 15:00:00+00:00     317.300625\n2020-05-06 16:00:00+00:00     472.963580\n2020-05-06 17:00:00+00:00     664.522400\n2020-05-06 18:00:00+00:00     731.875634\n2020-05-06 19:00:00+00:00     991.493414\n2020-05-06 20:00:00+00:00     869.286987\n2020-05-06 21:00:00+00:00     734.381285\n2020-05-06 22:00:00+00:00     513.017410\n2020-05-06 23:00:00+00:00     532.054874\n2020-05-07 00:00:00+00:00     436.727243\n2020-05-07 01:00:00+00:00     481.757577\n2020-05-07 02:00:00+00:00     597.708304\n2020-05-07 03:00:00+00:00     749.077195\n2020-05-07 04:00:00+00:00     755.630199\n2020-05-07 05:00:00+00:00     774.015571\n2020-05-07 06:00:00+00:00     692.916979\n2020-05-07 07:00:00+00:00     775.968770\n2020-05-07 08:00:00+00:00     685.660043\n2020-05-07 09:00:00+00:00     665.865562\n2020-05-07 10:00:00+00:00     664.138037\n2020-05-07 11:00:00+00:00     571.051766\n2020-05-07 12:00:00+00:00     554.696473\n2020-05-07 13:00:00+00:00     565.720377\n2020-05-07 14:00:00+00:00     437.689570\n2020-05-07 15:00:00+00:00     413.523977\n2020-05-07 16:00:00+00:00     591.261015\n2020-05-07 17:00:00+00:00     927.671667\n2020-05-07 18:00:00+00:00    1252.301799\n2020-05-07 19:00:00+00:00    1516.713714\n2020-05-07 20:00:00+00:00    1528.965985\ndtype: float64"
     },
     "metadata": {},
     "execution_count": 33
    }
   ],
   "source": [
    "model = load_prod_model(103941)\n",
    "preds = generate_prod_prediction(103941, model)\n",
    "preds"
   ]
  },
  {
   "cell_type": "code",
   "execution_count": null,
   "metadata": {},
   "outputs": [],
   "source": []
  }
 ],
 "metadata": {
  "language_info": {
   "codemirror_mode": {
    "name": "ipython",
    "version": 3
   },
   "file_extension": ".py",
   "mimetype": "text/x-python",
   "name": "python",
   "nbconvert_exporter": "python",
   "pygments_lexer": "ipython3",
   "version": "3.7.7-final"
  },
  "orig_nbformat": 2,
  "kernelspec": {
   "name": "python3",
   "display_name": "Python 3"
  }
 },
 "nbformat": 4,
 "nbformat_minor": 2
}