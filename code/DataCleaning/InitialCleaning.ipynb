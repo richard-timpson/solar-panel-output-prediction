{
 "nbformat": 4,
 "nbformat_minor": 2,
 "metadata": {
  "language_info": {
   "name": "python",
   "codemirror_mode": {
    "name": "ipython",
    "version": 3
   }
  },
  "orig_nbformat": 2,
  "file_extension": ".py",
  "mimetype": "text/x-python",
  "name": "python",
  "npconvert_exporter": "python",
  "pygments_lexer": "ipython3",
  "version": 3
 },
 "cells": [
  {
   "cell_type": "markdown",
   "metadata": {},
   "source": [
    "# TODOs\n",
    "1. Get rid of all 0 values\n",
    "2. Find out if there are any outliers (production in the middle of the day that is low)\n",
    "3. Choose initial columns for model\n",
    "4. Separate data into train test split. Split on full days of production, as opposed to hours. Make sure to split evenly across the different months. "
   ]
  }
 ]
}